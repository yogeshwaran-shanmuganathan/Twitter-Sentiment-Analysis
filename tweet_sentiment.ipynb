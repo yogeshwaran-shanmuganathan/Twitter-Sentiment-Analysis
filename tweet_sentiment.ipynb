{
 "cells": [
  {
   "cell_type": "markdown",
   "metadata": {},
   "source": [
    "# Twitter Sentiment Analysis"
   ]
  },
  {
   "cell_type": "markdown",
   "metadata": {},
   "source": [
    "Importing necessary packages"
   ]
  },
  {
   "cell_type": "code",
   "execution_count": 2,
   "metadata": {
    "pycharm": {
     "is_executing": true,
     "name": "#%%\n"
    }
   },
   "outputs": [],
   "source": [
    "# Packages\n",
    "# DataFrame\n",
    "import pandas as pd\n",
    "\n",
    "# Matplot\n",
    "import matplotlib.pyplot as plt\n",
    "\n",
    "#plotly\n",
    "import plotly.express as px\n",
    "\n",
    "#seaborn\n",
    "import seaborn as sns\n",
    "\n",
    "# Scikit-learn\n",
    "from sklearn.model_selection import train_test_split\n",
    "from sklearn.preprocessing import LabelEncoder\n",
    "from sklearn.metrics import confusion_matrix, classification_report, accuracy_score\n",
    "from sklearn.manifold import TSNE\n",
    "from sklearn.feature_extraction.text import TfidfVectorizer\n",
    "\n",
    "# Keras\n",
    "from keras.preprocessing.text import Tokenizer\n",
    "from keras.preprocessing.sequence import pad_sequences\n",
    "from keras.models import Sequential\n",
    "from keras.layers import Activation, Dense, Dropout, Embedding, Flatten, Conv1D, MaxPooling1D, LSTM\n",
    "from keras import utils\n",
    "from keras.callbacks import ReduceLROnPlateau, EarlyStopping\n",
    "\n",
    "# nltk\n",
    "import nltk\n",
    "from nltk.corpus import stopwords\n",
    "from nltk.stem import SnowballStemmer\n",
    "\n",
    "# Word2vec\n",
    "import gensim\n",
    "\n",
    "# Utility\n",
    "import re\n",
    "import numpy as np\n",
    "import os\n",
    "from collections import Counter\n",
    "import logging\n",
    "import time\n",
    "import pickle\n",
    "import itertools\n",
    "\n",
    "# Set log\n",
    "logging.basicConfig(format='%(asctime)s : %(levelname)s : %(message)s', level=logging.INFO)"
   ]
  },
  {
   "cell_type": "code",
   "execution_count": 3,
   "metadata": {
    "pycharm": {
     "name": "#%%\n"
    }
   },
   "outputs": [
    {
     "name": "stderr",
     "output_type": "stream",
     "text": [
      "[nltk_data] Downloading package stopwords to\n",
      "[nltk_data]     C:\\Users\\yoges\\AppData\\Roaming\\nltk_data...\n",
      "[nltk_data]   Package stopwords is already up-to-date!\n"
     ]
    },
    {
     "data": {
      "text/plain": [
       "True"
      ]
     },
     "execution_count": 3,
     "metadata": {},
     "output_type": "execute_result"
    }
   ],
   "source": [
    "nltk.download('stopwords')"
   ]
  },
  {
   "cell_type": "markdown",
   "metadata": {},
   "source": [
    "Initialisation"
   ]
  },
  {
   "cell_type": "code",
   "execution_count": 32,
   "metadata": {
    "pycharm": {
     "name": "#%%\n"
    }
   },
   "outputs": [],
   "source": [
    "# DATASET\n",
    "DATASET_COLUMNS = [\"target\", \"ids\", \"date\", \"flag\", \"user\", \"text\"]\n",
    "DATASET_ENCODING = \"ISO-8859-1\"\n",
    "TRAIN_SIZE = 0.8\n",
    "\n",
    "# TEXT CLENAING\n",
    "TEXT_CLEANING_RE = \"@\\S+|https?:\\S+|http?:\\S|[^A-Za-z0-9]+\"\n",
    "\n",
    "# WORD2VEC\n",
    "W2V_SIZE = 300\n",
    "W2V_WINDOW = 7\n",
    "W2V_EPOCH = 32\n",
    "W2V_MIN_COUNT = 10\n",
    "\n",
    "# KERAS\n",
    "SEQUENCE_LENGTH = 300\n",
    "EPOCHS = 1\n",
    "BATCH_SIZE = 8192\n",
    "\n",
    "# SENTIMENT\n",
    "POSITIVE = \"POSITIVE\"\n",
    "NEGATIVE = \"NEGATIVE\"\n",
    "NEUTRAL = \"NEUTRAL\"\n",
    "SENTIMENT_THRESHOLDS = (0.4, 0.6)\n",
    "\n",
    "# EXPORT\n",
    "KERAS_MODEL = \"keras_model.h5\"\n",
    "WORD2VEC_MODEL = \"word2vec_model.w2v\"\n",
    "TOKENIZER_MODEL = \"tokenizer_model.pkl\"\n",
    "ENCODER_MODEL = \"encoder_model.pkl\""
   ]
  },
  {
   "cell_type": "markdown",
   "metadata": {},
   "source": [
    "Reading Input Dataset"
   ]
  },
  {
   "cell_type": "code",
   "execution_count": 5,
   "metadata": {
    "pycharm": {
     "name": "#%%\n"
    }
   },
   "outputs": [],
   "source": [
    "df = pd.read_csv(\"training.1600000.processed.noemoticon.csv\", encoding =DATASET_ENCODING , names=DATASET_COLUMNS)"
   ]
  },
  {
   "cell_type": "code",
   "execution_count": 7,
   "metadata": {
    "pycharm": {
     "name": "#%%\n"
    }
   },
   "outputs": [
    {
     "name": "stdout",
     "output_type": "stream",
     "text": [
      "Dataset size: 1600000\n"
     ]
    },
    {
     "data": {
      "text/html": [
       "<div>\n",
       "<style scoped>\n",
       "    .dataframe tbody tr th:only-of-type {\n",
       "        vertical-align: middle;\n",
       "    }\n",
       "\n",
       "    .dataframe tbody tr th {\n",
       "        vertical-align: top;\n",
       "    }\n",
       "\n",
       "    .dataframe thead th {\n",
       "        text-align: right;\n",
       "    }\n",
       "</style>\n",
       "<table border=\"1\" class=\"dataframe\">\n",
       "  <thead>\n",
       "    <tr style=\"text-align: right;\">\n",
       "      <th></th>\n",
       "      <th>target</th>\n",
       "      <th>ids</th>\n",
       "      <th>date</th>\n",
       "      <th>flag</th>\n",
       "      <th>user</th>\n",
       "      <th>text</th>\n",
       "    </tr>\n",
       "  </thead>\n",
       "  <tbody>\n",
       "    <tr>\n",
       "      <th>0</th>\n",
       "      <td>0</td>\n",
       "      <td>1467810369</td>\n",
       "      <td>Mon Apr 06 22:19:45 PDT 2009</td>\n",
       "      <td>NO_QUERY</td>\n",
       "      <td>_TheSpecialOne_</td>\n",
       "      <td>@switchfoot http://twitpic.com/2y1zl - Awww, t...</td>\n",
       "    </tr>\n",
       "    <tr>\n",
       "      <th>1</th>\n",
       "      <td>0</td>\n",
       "      <td>1467810672</td>\n",
       "      <td>Mon Apr 06 22:19:49 PDT 2009</td>\n",
       "      <td>NO_QUERY</td>\n",
       "      <td>scotthamilton</td>\n",
       "      <td>is upset that he can't update his Facebook by ...</td>\n",
       "    </tr>\n",
       "    <tr>\n",
       "      <th>2</th>\n",
       "      <td>0</td>\n",
       "      <td>1467810917</td>\n",
       "      <td>Mon Apr 06 22:19:53 PDT 2009</td>\n",
       "      <td>NO_QUERY</td>\n",
       "      <td>mattycus</td>\n",
       "      <td>@Kenichan I dived many times for the ball. Man...</td>\n",
       "    </tr>\n",
       "    <tr>\n",
       "      <th>3</th>\n",
       "      <td>0</td>\n",
       "      <td>1467811184</td>\n",
       "      <td>Mon Apr 06 22:19:57 PDT 2009</td>\n",
       "      <td>NO_QUERY</td>\n",
       "      <td>ElleCTF</td>\n",
       "      <td>my whole body feels itchy and like its on fire</td>\n",
       "    </tr>\n",
       "    <tr>\n",
       "      <th>4</th>\n",
       "      <td>0</td>\n",
       "      <td>1467811193</td>\n",
       "      <td>Mon Apr 06 22:19:57 PDT 2009</td>\n",
       "      <td>NO_QUERY</td>\n",
       "      <td>Karoli</td>\n",
       "      <td>@nationwideclass no, it's not behaving at all....</td>\n",
       "    </tr>\n",
       "  </tbody>\n",
       "</table>\n",
       "</div>"
      ],
      "text/plain": [
       "   target         ids                          date      flag  \\\n",
       "0       0  1467810369  Mon Apr 06 22:19:45 PDT 2009  NO_QUERY   \n",
       "1       0  1467810672  Mon Apr 06 22:19:49 PDT 2009  NO_QUERY   \n",
       "2       0  1467810917  Mon Apr 06 22:19:53 PDT 2009  NO_QUERY   \n",
       "3       0  1467811184  Mon Apr 06 22:19:57 PDT 2009  NO_QUERY   \n",
       "4       0  1467811193  Mon Apr 06 22:19:57 PDT 2009  NO_QUERY   \n",
       "\n",
       "              user                                               text  \n",
       "0  _TheSpecialOne_  @switchfoot http://twitpic.com/2y1zl - Awww, t...  \n",
       "1    scotthamilton  is upset that he can't update his Facebook by ...  \n",
       "2         mattycus  @Kenichan I dived many times for the ball. Man...  \n",
       "3          ElleCTF    my whole body feels itchy and like its on fire   \n",
       "4           Karoli  @nationwideclass no, it's not behaving at all....  "
      ]
     },
     "execution_count": 7,
     "metadata": {},
     "output_type": "execute_result"
    }
   ],
   "source": [
    "print(\"Dataset size:\", len(df))\n",
    "df.head(5)"
   ]
  },
  {
   "cell_type": "markdown",
   "metadata": {},
   "source": [
    "Mapping target label to string"
   ]
  },
  {
   "cell_type": "code",
   "execution_count": 7,
   "metadata": {
    "pycharm": {
     "name": "#%%\n"
    }
   },
   "outputs": [],
   "source": [
    "decode_map = {0: \"NEGATIVE\", 2: \"NEUTRAL\", 4: \"POSITIVE\"}\n",
    "def decode_sentiment(label):\n",
    "    return decode_map[int(label)]"
   ]
  },
  {
   "cell_type": "code",
   "execution_count": 8,
   "metadata": {
    "pycharm": {
     "name": "#%%\n"
    }
   },
   "outputs": [
    {
     "name": "stdout",
     "output_type": "stream",
     "text": [
      "Wall time: 1.08 s\n"
     ]
    }
   ],
   "source": [
    "%%time\n",
    "df.target = df.target.apply(lambda x: decode_sentiment(x))"
   ]
  },
  {
   "cell_type": "code",
   "execution_count": 8,
   "metadata": {
    "pycharm": {
     "name": "#%%\n"
    }
   },
   "outputs": [
    {
     "data": {
      "text/plain": [
       "Text(0.5, 1.0, 'Dataset labels distribuition')"
      ]
     },
     "execution_count": 8,
     "metadata": {},
     "output_type": "execute_result"
    },
    {
     "data": {
      "image/png": "[encoded data removed]",
      "text/plain": [
       "<Figure size 1152x576 with 1 Axes>"
      ]
     },
     "metadata": {
      "needs_background": "light"
     },
     "output_type": "display_data"
    }
   ],
   "source": [
    "target_cnt = Counter(df.target)\n",
    "\n",
    "plt.figure(figsize=(16,8))\n",
    "plt.bar(target_cnt.keys(), target_cnt.values())\n",
    "plt.title(\"Dataset labels distribuition\")\n"
   ]
  },
  {
   "cell_type": "markdown",
   "metadata": {},
   "source": [
    "Pre-processing the Dataset"
   ]
  },
  {
   "cell_type": "code",
   "execution_count": 9,
   "metadata": {},
   "outputs": [],
   "source": [
    "#pre-process dataset\n",
    "stop_words = stopwords.words(\"english\")\n",
    "stemmer = SnowballStemmer(\"english\")"
   ]
  },
  {
   "cell_type": "code",
   "execution_count": 10,
   "metadata": {},
   "outputs": [],
   "source": [
    "def preprocess(text, stem=False):\n",
    "    # Remove link,user and special characters\n",
    "    text = re.sub(TEXT_CLEANING_RE, ' ', str(text).lower()).strip()\n",
    "    tokens = []\n",
    "    for token in text.split():\n",
    "        if token not in stop_words:\n",
    "            if stem:\n",
    "                tokens.append(stemmer.stem(token))\n",
    "            else:\n",
    "                tokens.append(token)\n",
    "    return \" \".join(tokens)\n"
   ]
  },
  {
   "cell_type": "code",
   "execution_count": 11,
   "metadata": {},
   "outputs": [
    {
     "name": "stdout",
     "output_type": "stream",
     "text": [
      "Wall time: 1min 42s\n"
     ]
    }
   ],
   "source": [
    "%%time\n",
    "df.text = df.text.apply(lambda x: preprocess(x))"
   ]
  },
  {
   "cell_type": "markdown",
   "metadata": {},
   "source": [
    "Split and Train Dataset"
   ]
  },
  {
   "cell_type": "code",
   "execution_count": 13,
   "metadata": {},
   "outputs": [
    {
     "name": "stdout",
     "output_type": "stream",
     "text": [
      "TRAIN size: 1280000\n",
      "TEST size: 320000\n"
     ]
    }
   ],
   "source": [
    "#Split and train dataset\n",
    "df_train, df_test = train_test_split(df, test_size=1-TRAIN_SIZE, random_state=42)\n",
    "print(\"TRAIN size:\", len(df_train))\n",
    "print(\"TEST size:\", len(df_test))"
   ]
  },
  {
   "cell_type": "markdown",
   "metadata": {},
   "source": [
    "WORD2VEC"
   ]
  },
  {
   "cell_type": "code",
   "execution_count": 14,
   "metadata": {},
   "outputs": [
    {
     "name": "stdout",
     "output_type": "stream",
     "text": [
      "Wall time: 5 s\n"
     ]
    }
   ],
   "source": [
    "%%time\n",
    "documents = [_text.split() for _text in df_train.text] "
   ]
  },
  {
   "cell_type": "code",
   "execution_count": 15,
   "metadata": {},
   "outputs": [],
   "source": [
    "#Word2Vec\n",
    "w2v_model = gensim.models.word2vec.Word2Vec(size=W2V_SIZE, \n",
    "                                            window=W2V_WINDOW, \n",
    "                                            min_count=W2V_MIN_COUNT, \n",
    "                                            workers=8)"
   ]
  },
  {
   "cell_type": "code",
   "execution_count": 16,
   "metadata": {},
   "outputs": [
    {
     "name": "stderr",
     "output_type": "stream",
     "text": [
      "2020-08-14 16:23:59,547 : INFO : collecting all words and their counts\n",
      "2020-08-14 16:23:59,547 : INFO : PROGRESS: at sentence #0, processed 0 words, keeping 0 word types\n",
      "2020-08-14 16:23:59,603 : INFO : PROGRESS: at sentence #10000, processed 72565 words, keeping 14005 word types\n",
      "2020-08-14 16:23:59,649 : INFO : PROGRESS: at sentence #20000, processed 144393 words, keeping 21587 word types\n",
      "2020-08-14 16:23:59,681 : INFO : PROGRESS: at sentence #30000, processed 215826 words, keeping 27541 word types\n",
      "2020-08-14 16:23:59,704 : INFO : PROGRESS: at sentence #40000, processed 288271 words, keeping 32764 word types\n",
      "2020-08-14 16:23:59,740 : INFO : PROGRESS: at sentence #50000, processed 359772 words, keeping 37587 word types\n",
      "2020-08-14 16:23:59,770 : INFO : PROGRESS: at sentence #60000, processed 431431 words, keeping 42198 word types\n",
      "2020-08-14 16:23:59,804 : INFO : PROGRESS: at sentence #70000, processed 503103 words, keeping 46458 word types\n",
      "2020-08-14 16:23:59,839 : INFO : PROGRESS: at sentence #80000, processed 575709 words, keeping 50476 word types\n",
      "2020-08-14 16:23:59,871 : INFO : PROGRESS: at sentence #90000, processed 647100 words, keeping 54140 word types\n",
      "2020-08-14 16:23:59,905 : INFO : PROGRESS: at sentence #100000, processed 718681 words, keeping 57777 word types\n",
      "2020-08-14 16:23:59,941 : INFO : PROGRESS: at sentence #110000, processed 790696 words, keeping 61207 word types\n",
      "2020-08-14 16:23:59,978 : INFO : PROGRESS: at sentence #120000, processed 863134 words, keeping 64583 word types\n",
      "2020-08-14 16:24:00,036 : INFO : PROGRESS: at sentence #130000, processed 935111 words, keeping 67865 word types\n",
      "2020-08-14 16:24:00,076 : INFO : PROGRESS: at sentence #140000, processed 1006668 words, keeping 70966 word types\n",
      "2020-08-14 16:24:00,112 : INFO : PROGRESS: at sentence #150000, processed 1078512 words, keeping 74119 word types\n",
      "2020-08-14 16:24:00,154 : INFO : PROGRESS: at sentence #160000, processed 1149914 words, keeping 77187 word types\n",
      "2020-08-14 16:24:00,191 : INFO : PROGRESS: at sentence #170000, processed 1222145 words, keeping 80267 word types\n",
      "2020-08-14 16:24:00,239 : INFO : PROGRESS: at sentence #180000, processed 1294708 words, keeping 83393 word types\n",
      "2020-08-14 16:24:00,278 : INFO : PROGRESS: at sentence #190000, processed 1367608 words, keeping 86329 word types\n",
      "2020-08-14 16:24:00,323 : INFO : PROGRESS: at sentence #200000, processed 1439469 words, keeping 89103 word types\n",
      "2020-08-14 16:24:00,365 : INFO : PROGRESS: at sentence #210000, processed 1512099 words, keeping 91840 word types\n",
      "2020-08-14 16:24:00,408 : INFO : PROGRESS: at sentence #220000, processed 1584149 words, keeping 94636 word types\n",
      "2020-08-14 16:24:00,446 : INFO : PROGRESS: at sentence #230000, processed 1656354 words, keeping 97353 word types\n",
      "2020-08-14 16:24:00,487 : INFO : PROGRESS: at sentence #240000, processed 1728573 words, keeping 99975 word types\n",
      "2020-08-14 16:24:00,522 : INFO : PROGRESS: at sentence #250000, processed 1801102 words, keeping 102594 word types\n",
      "2020-08-14 16:24:00,563 : INFO : PROGRESS: at sentence #260000, processed 1873103 words, keeping 105162 word types\n",
      "2020-08-14 16:24:00,604 : INFO : PROGRESS: at sentence #270000, processed 1945245 words, keeping 107626 word types\n",
      "2020-08-14 16:24:00,646 : INFO : PROGRESS: at sentence #280000, processed 2017163 words, keeping 110141 word types\n",
      "2020-08-14 16:24:00,691 : INFO : PROGRESS: at sentence #290000, processed 2089574 words, keeping 112539 word types\n",
      "2020-08-14 16:24:00,729 : INFO : PROGRESS: at sentence #300000, processed 2160996 words, keeping 114893 word types\n",
      "2020-08-14 16:24:00,755 : INFO : PROGRESS: at sentence #310000, processed 2232913 words, keeping 117298 word types\n",
      "2020-08-14 16:24:00,794 : INFO : PROGRESS: at sentence #320000, processed 2305039 words, keeping 119693 word types\n",
      "2020-08-14 16:24:00,835 : INFO : PROGRESS: at sentence #330000, processed 2377119 words, keeping 122131 word types\n",
      "2020-08-14 16:24:00,870 : INFO : PROGRESS: at sentence #340000, processed 2449370 words, keeping 124416 word types\n",
      "2020-08-14 16:24:00,913 : INFO : PROGRESS: at sentence #350000, processed 2521564 words, keeping 126669 word types\n",
      "2020-08-14 16:24:00,954 : INFO : PROGRESS: at sentence #360000, processed 2593681 words, keeping 128912 word types\n",
      "2020-08-14 16:24:00,986 : INFO : PROGRESS: at sentence #370000, processed 2665692 words, keeping 131135 word types\n",
      "2020-08-14 16:24:01,026 : INFO : PROGRESS: at sentence #380000, processed 2737859 words, keeping 133403 word types\n",
      "2020-08-14 16:24:01,073 : INFO : PROGRESS: at sentence #390000, processed 2809848 words, keeping 135551 word types\n",
      "2020-08-14 16:24:01,116 : INFO : PROGRESS: at sentence #400000, processed 2882438 words, keeping 137742 word types\n",
      "2020-08-14 16:24:01,153 : INFO : PROGRESS: at sentence #410000, processed 2954075 words, keeping 139909 word types\n",
      "2020-08-14 16:24:01,199 : INFO : PROGRESS: at sentence #420000, processed 3026247 words, keeping 142144 word types\n",
      "2020-08-14 16:24:01,242 : INFO : PROGRESS: at sentence #430000, processed 3098659 words, keeping 144364 word types\n",
      "2020-08-14 16:24:01,278 : INFO : PROGRESS: at sentence #440000, processed 3170663 words, keeping 146439 word types\n",
      "2020-08-14 16:24:01,320 : INFO : PROGRESS: at sentence #450000, processed 3243344 words, keeping 148526 word types\n",
      "2020-08-14 16:24:01,360 : INFO : PROGRESS: at sentence #460000, processed 3315466 words, keeping 150610 word types\n",
      "2020-08-14 16:24:01,404 : INFO : PROGRESS: at sentence #470000, processed 3388295 words, keeping 152737 word types\n",
      "2020-08-14 16:24:01,442 : INFO : PROGRESS: at sentence #480000, processed 3460120 words, keeping 154757 word types\n",
      "2020-08-14 16:24:01,478 : INFO : PROGRESS: at sentence #490000, processed 3531883 words, keeping 156825 word types\n",
      "2020-08-14 16:24:01,524 : INFO : PROGRESS: at sentence #500000, processed 3604217 words, keeping 158859 word types\n",
      "2020-08-14 16:24:01,560 : INFO : PROGRESS: at sentence #510000, processed 3676427 words, keeping 160852 word types\n",
      "2020-08-14 16:24:01,604 : INFO : PROGRESS: at sentence #520000, processed 3749045 words, keeping 162863 word types\n",
      "2020-08-14 16:24:01,645 : INFO : PROGRESS: at sentence #530000, processed 3821622 words, keeping 164929 word types\n",
      "2020-08-14 16:24:01,683 : INFO : PROGRESS: at sentence #540000, processed 3893627 words, keeping 166840 word types\n",
      "2020-08-14 16:24:01,730 : INFO : PROGRESS: at sentence #550000, processed 3965477 words, keeping 168799 word types\n",
      "2020-08-14 16:24:01,781 : INFO : PROGRESS: at sentence #560000, processed 4038050 words, keeping 170802 word types\n",
      "2020-08-14 16:24:01,827 : INFO : PROGRESS: at sentence #570000, processed 4110296 words, keeping 172760 word types\n",
      "2020-08-14 16:24:01,876 : INFO : PROGRESS: at sentence #580000, processed 4182385 words, keeping 174635 word types\n",
      "2020-08-14 16:24:01,965 : INFO : PROGRESS: at sentence #590000, processed 4254632 words, keeping 176470 word types\n",
      "2020-08-14 16:24:02,039 : INFO : PROGRESS: at sentence #600000, processed 4326859 words, keeping 178350 word types\n",
      "2020-08-14 16:24:02,118 : INFO : PROGRESS: at sentence #610000, processed 4399183 words, keeping 180290 word types\n",
      "2020-08-14 16:24:02,201 : INFO : PROGRESS: at sentence #620000, processed 4471343 words, keeping 182129 word types\n",
      "2020-08-14 16:24:02,253 : INFO : PROGRESS: at sentence #630000, processed 4543286 words, keeping 184005 word types\n",
      "2020-08-14 16:24:02,293 : INFO : PROGRESS: at sentence #640000, processed 4615780 words, keeping 185835 word types\n",
      "2020-08-14 16:24:02,338 : INFO : PROGRESS: at sentence #650000, processed 4688481 words, keeping 187705 word types\n",
      "2020-08-14 16:24:02,389 : INFO : PROGRESS: at sentence #660000, processed 4760481 words, keeping 189439 word types\n",
      "2020-08-14 16:24:02,436 : INFO : PROGRESS: at sentence #670000, processed 4833024 words, keeping 191232 word types\n",
      "2020-08-14 16:24:02,479 : INFO : PROGRESS: at sentence #680000, processed 4904516 words, keeping 193177 word types\n",
      "2020-08-14 16:24:02,527 : INFO : PROGRESS: at sentence #690000, processed 4976968 words, keeping 194960 word types\n",
      "2020-08-14 16:24:02,570 : INFO : PROGRESS: at sentence #700000, processed 5049412 words, keeping 196725 word types\n",
      "2020-08-14 16:24:02,615 : INFO : PROGRESS: at sentence #710000, processed 5121976 words, keeping 198516 word types\n"
     ]
    },
    {
     "name": "stderr",
     "output_type": "stream",
     "text": [
      "2020-08-14 16:24:02,656 : INFO : PROGRESS: at sentence #720000, processed 5193881 words, keeping 200325 word types\n",
      "2020-08-14 16:24:02,702 : INFO : PROGRESS: at sentence #730000, processed 5265467 words, keeping 202133 word types\n",
      "2020-08-14 16:24:02,755 : INFO : PROGRESS: at sentence #740000, processed 5337518 words, keeping 203818 word types\n",
      "2020-08-14 16:24:02,795 : INFO : PROGRESS: at sentence #750000, processed 5409321 words, keeping 205535 word types\n",
      "2020-08-14 16:24:02,838 : INFO : PROGRESS: at sentence #760000, processed 5481512 words, keeping 207282 word types\n",
      "2020-08-14 16:24:02,887 : INFO : PROGRESS: at sentence #770000, processed 5554093 words, keeping 209076 word types\n",
      "2020-08-14 16:24:02,932 : INFO : PROGRESS: at sentence #780000, processed 5625382 words, keeping 210805 word types\n",
      "2020-08-14 16:24:02,975 : INFO : PROGRESS: at sentence #790000, processed 5698066 words, keeping 212618 word types\n",
      "2020-08-14 16:24:03,029 : INFO : PROGRESS: at sentence #800000, processed 5770880 words, keeping 214374 word types\n",
      "2020-08-14 16:24:03,076 : INFO : PROGRESS: at sentence #810000, processed 5843418 words, keeping 216009 word types\n",
      "2020-08-14 16:24:03,124 : INFO : PROGRESS: at sentence #820000, processed 5915628 words, keeping 217804 word types\n",
      "2020-08-14 16:24:03,180 : INFO : PROGRESS: at sentence #830000, processed 5987499 words, keeping 219585 word types\n",
      "2020-08-14 16:24:03,231 : INFO : PROGRESS: at sentence #840000, processed 6058973 words, keeping 221344 word types\n",
      "2020-08-14 16:24:03,292 : INFO : PROGRESS: at sentence #850000, processed 6131125 words, keeping 223002 word types\n",
      "2020-08-14 16:24:03,364 : INFO : PROGRESS: at sentence #860000, processed 6202951 words, keeping 224643 word types\n",
      "2020-08-14 16:24:03,436 : INFO : PROGRESS: at sentence #870000, processed 6275461 words, keeping 226362 word types\n",
      "2020-08-14 16:24:03,502 : INFO : PROGRESS: at sentence #880000, processed 6347661 words, keeping 227986 word types\n",
      "2020-08-14 16:24:03,566 : INFO : PROGRESS: at sentence #890000, processed 6419806 words, keeping 229634 word types\n",
      "2020-08-14 16:24:03,630 : INFO : PROGRESS: at sentence #900000, processed 6491644 words, keeping 231389 word types\n",
      "2020-08-14 16:24:03,694 : INFO : PROGRESS: at sentence #910000, processed 6564022 words, keeping 233050 word types\n",
      "2020-08-14 16:24:03,753 : INFO : PROGRESS: at sentence #920000, processed 6636228 words, keeping 234686 word types\n",
      "2020-08-14 16:24:03,817 : INFO : PROGRESS: at sentence #930000, processed 6708573 words, keeping 236393 word types\n",
      "2020-08-14 16:24:03,872 : INFO : PROGRESS: at sentence #940000, processed 6779956 words, keeping 238052 word types\n",
      "2020-08-14 16:24:03,906 : INFO : PROGRESS: at sentence #950000, processed 6852599 words, keeping 239716 word types\n",
      "2020-08-14 16:24:03,941 : INFO : PROGRESS: at sentence #960000, processed 6924717 words, keeping 241354 word types\n",
      "2020-08-14 16:24:03,985 : INFO : PROGRESS: at sentence #970000, processed 6996992 words, keeping 242980 word types\n",
      "2020-08-14 16:24:04,025 : INFO : PROGRESS: at sentence #980000, processed 7068402 words, keeping 244646 word types\n",
      "2020-08-14 16:24:04,068 : INFO : PROGRESS: at sentence #990000, processed 7140346 words, keeping 246186 word types\n",
      "2020-08-14 16:24:04,110 : INFO : PROGRESS: at sentence #1000000, processed 7211757 words, keeping 247726 word types\n",
      "2020-08-14 16:24:04,149 : INFO : PROGRESS: at sentence #1010000, processed 7283267 words, keeping 249288 word types\n",
      "2020-08-14 16:24:04,187 : INFO : PROGRESS: at sentence #1020000, processed 7355299 words, keeping 250860 word types\n",
      "2020-08-14 16:24:04,224 : INFO : PROGRESS: at sentence #1030000, processed 7426918 words, keeping 252366 word types\n",
      "2020-08-14 16:24:04,265 : INFO : PROGRESS: at sentence #1040000, processed 7498815 words, keeping 253930 word types\n",
      "2020-08-14 16:24:04,306 : INFO : PROGRESS: at sentence #1050000, processed 7570499 words, keeping 255471 word types\n",
      "2020-08-14 16:24:04,348 : INFO : PROGRESS: at sentence #1060000, processed 7643251 words, keeping 257035 word types\n",
      "2020-08-14 16:24:04,394 : INFO : PROGRESS: at sentence #1070000, processed 7714721 words, keeping 258509 word types\n",
      "2020-08-14 16:24:04,446 : INFO : PROGRESS: at sentence #1080000, processed 7787371 words, keeping 260071 word types\n",
      "2020-08-14 16:24:04,498 : INFO : PROGRESS: at sentence #1090000, processed 7859336 words, keeping 261683 word types\n",
      "2020-08-14 16:24:04,562 : INFO : PROGRESS: at sentence #1100000, processed 7932029 words, keeping 263278 word types\n",
      "2020-08-14 16:24:04,619 : INFO : PROGRESS: at sentence #1110000, processed 8004146 words, keeping 264800 word types\n",
      "2020-08-14 16:24:04,709 : INFO : PROGRESS: at sentence #1120000, processed 8075880 words, keeping 266309 word types\n",
      "2020-08-14 16:24:04,812 : INFO : PROGRESS: at sentence #1130000, processed 8148163 words, keeping 267826 word types\n",
      "2020-08-14 16:24:04,915 : INFO : PROGRESS: at sentence #1140000, processed 8220487 words, keeping 269391 word types\n",
      "2020-08-14 16:24:04,981 : INFO : PROGRESS: at sentence #1150000, processed 8292498 words, keeping 270894 word types\n",
      "2020-08-14 16:24:05,032 : INFO : PROGRESS: at sentence #1160000, processed 8363838 words, keeping 272400 word types\n",
      "2020-08-14 16:24:05,078 : INFO : PROGRESS: at sentence #1170000, processed 8435510 words, keeping 273970 word types\n",
      "2020-08-14 16:24:05,126 : INFO : PROGRESS: at sentence #1180000, processed 8507795 words, keeping 275521 word types\n",
      "2020-08-14 16:24:05,207 : INFO : PROGRESS: at sentence #1190000, processed 8579080 words, keeping 277007 word types\n",
      "2020-08-14 16:24:05,288 : INFO : PROGRESS: at sentence #1200000, processed 8650606 words, keeping 278457 word types\n",
      "2020-08-14 16:24:05,371 : INFO : PROGRESS: at sentence #1210000, processed 8721893 words, keeping 279959 word types\n",
      "2020-08-14 16:24:05,429 : INFO : PROGRESS: at sentence #1220000, processed 8793795 words, keeping 281427 word types\n",
      "2020-08-14 16:24:05,470 : INFO : PROGRESS: at sentence #1230000, processed 8865726 words, keeping 282981 word types\n",
      "2020-08-14 16:24:05,517 : INFO : PROGRESS: at sentence #1240000, processed 8938173 words, keeping 284542 word types\n",
      "2020-08-14 16:24:05,560 : INFO : PROGRESS: at sentence #1250000, processed 9010842 words, keeping 286064 word types\n",
      "2020-08-14 16:24:05,613 : INFO : PROGRESS: at sentence #1260000, processed 9083261 words, keeping 287521 word types\n",
      "2020-08-14 16:24:05,662 : INFO : PROGRESS: at sentence #1270000, processed 9155616 words, keeping 288987 word types\n",
      "2020-08-14 16:24:05,708 : INFO : collected 290418 word types from a corpus of 9227204 raw words and 1280000 sentences\n",
      "2020-08-14 16:24:05,710 : INFO : Loading a fresh vocabulary\n",
      "2020-08-14 16:24:06,091 : INFO : effective_min_count=10 retains 30369 unique words (10% of original 290418, drops 260049)\n",
      "2020-08-14 16:24:06,095 : INFO : effective_min_count=10 leaves 8780739 word corpus (95% of original 9227204, drops 446465)\n",
      "2020-08-14 16:24:06,428 : INFO : deleting the raw counts dictionary of 290418 items\n",
      "2020-08-14 16:24:06,441 : INFO : sample=0.001 downsamples 45 most-common words\n",
      "2020-08-14 16:24:06,441 : INFO : downsampling leaves estimated 8222658 word corpus (93.6% of prior 8780739)\n",
      "2020-08-14 16:24:06,623 : INFO : estimated required memory for 30369 words and 300 dimensions: 88070100 bytes\n",
      "2020-08-14 16:24:06,625 : INFO : resetting layer weights\n"
     ]
    }
   ],
   "source": [
    "w2v_model.build_vocab(documents)"
   ]
  },
  {
   "cell_type": "code",
   "execution_count": 17,
   "metadata": {
    "scrolled": true
   },
   "outputs": [
    {
     "name": "stdout",
     "output_type": "stream",
     "text": [
      "Vocab size 30369\n"
     ]
    }
   ],
   "source": [
    "words = w2v_model.wv.vocab.keys()\n",
    "vocab_size = len(words)\n",
    "print(\"Vocab size\", vocab_size)"
   ]
  },
  {
   "cell_type": "code",
   "execution_count": 18,
   "metadata": {},
   "outputs": [
    {
     "name": "stderr",
     "output_type": "stream",
     "text": [
      "2020-08-14 16:25:28,710 : INFO : training model with 8 workers on 30369 vocabulary and 300 features, using sg=0 hs=0 sample=0.001 negative=5 window=7\n",
      "2020-08-14 16:25:29,843 : INFO : EPOCH 1 - PROGRESS: at 6.29% examples, 515055 words/s, in_qsize 14, out_qsize 1\n",
      "2020-08-14 16:25:30,831 : INFO : EPOCH 1 - PROGRESS: at 13.58% examples, 555846 words/s, in_qsize 16, out_qsize 0\n",
      "2020-08-14 16:25:31,849 : INFO : EPOCH 1 - PROGRESS: at 20.27% examples, 553613 words/s, in_qsize 16, out_qsize 1\n",
      "2020-08-14 16:25:32,842 : INFO : EPOCH 1 - PROGRESS: at 27.53% examples, 564337 words/s, in_qsize 15, out_qsize 0\n",
      "2020-08-14 16:25:33,843 : INFO : EPOCH 1 - PROGRESS: at 34.57% examples, 566487 words/s, in_qsize 15, out_qsize 0\n",
      "2020-08-14 16:25:34,859 : INFO : EPOCH 1 - PROGRESS: at 41.59% examples, 568185 words/s, in_qsize 15, out_qsize 0\n",
      "2020-08-14 16:25:35,872 : INFO : EPOCH 1 - PROGRESS: at 48.94% examples, 571700 words/s, in_qsize 15, out_qsize 0\n",
      "2020-08-14 16:25:36,901 : INFO : EPOCH 1 - PROGRESS: at 56.51% examples, 575992 words/s, in_qsize 15, out_qsize 0\n",
      "2020-08-14 16:25:37,905 : INFO : EPOCH 1 - PROGRESS: at 63.65% examples, 577038 words/s, in_qsize 15, out_qsize 0\n",
      "2020-08-14 16:25:38,928 : INFO : EPOCH 1 - PROGRESS: at 70.70% examples, 576142 words/s, in_qsize 15, out_qsize 0\n",
      "2020-08-14 16:25:39,989 : INFO : EPOCH 1 - PROGRESS: at 77.96% examples, 574914 words/s, in_qsize 14, out_qsize 1\n",
      "2020-08-14 16:25:41,009 : INFO : EPOCH 1 - PROGRESS: at 85.55% examples, 577740 words/s, in_qsize 15, out_qsize 0\n",
      "2020-08-14 16:25:42,040 : INFO : EPOCH 1 - PROGRESS: at 92.28% examples, 574337 words/s, in_qsize 13, out_qsize 2\n",
      "2020-08-14 16:25:42,979 : INFO : worker thread finished; awaiting finish of 7 more threads\n",
      "2020-08-14 16:25:42,980 : INFO : worker thread finished; awaiting finish of 6 more threads\n",
      "2020-08-14 16:25:42,991 : INFO : worker thread finished; awaiting finish of 5 more threads\n",
      "2020-08-14 16:25:43,010 : INFO : worker thread finished; awaiting finish of 4 more threads\n",
      "2020-08-14 16:25:43,011 : INFO : worker thread finished; awaiting finish of 3 more threads\n",
      "2020-08-14 16:25:43,019 : INFO : worker thread finished; awaiting finish of 2 more threads\n",
      "2020-08-14 16:25:43,035 : INFO : worker thread finished; awaiting finish of 1 more threads\n",
      "2020-08-14 16:25:43,036 : INFO : worker thread finished; awaiting finish of 0 more threads\n",
      "2020-08-14 16:25:43,037 : INFO : EPOCH - 1 : training on 9227204 raw words (8222938 effective words) took 14.2s, 579194 effective words/s\n",
      "2020-08-14 16:25:44,048 : INFO : EPOCH 2 - PROGRESS: at 6.84% examples, 556263 words/s, in_qsize 15, out_qsize 0\n",
      "2020-08-14 16:25:45,101 : INFO : EPOCH 2 - PROGRESS: at 14.22% examples, 568264 words/s, in_qsize 15, out_qsize 0\n",
      "2020-08-14 16:25:46,102 : INFO : EPOCH 2 - PROGRESS: at 21.35% examples, 574526 words/s, in_qsize 16, out_qsize 0\n",
      "2020-08-14 16:25:47,150 : INFO : EPOCH 2 - PROGRESS: at 28.50% examples, 571125 words/s, in_qsize 15, out_qsize 0\n",
      "2020-08-14 16:25:48,160 : INFO : EPOCH 2 - PROGRESS: at 35.86% examples, 575655 words/s, in_qsize 14, out_qsize 1\n",
      "2020-08-14 16:25:49,180 : INFO : EPOCH 2 - PROGRESS: at 42.78% examples, 573238 words/s, in_qsize 15, out_qsize 0\n",
      "2020-08-14 16:25:50,246 : INFO : EPOCH 2 - PROGRESS: at 49.81% examples, 569296 words/s, in_qsize 15, out_qsize 0\n",
      "2020-08-14 16:25:51,255 : INFO : EPOCH 2 - PROGRESS: at 57.27% examples, 574116 words/s, in_qsize 14, out_qsize 1\n",
      "2020-08-14 16:25:52,257 : INFO : EPOCH 2 - PROGRESS: at 64.19% examples, 573218 words/s, in_qsize 15, out_qsize 0\n",
      "2020-08-14 16:25:53,290 : INFO : EPOCH 2 - PROGRESS: at 71.13% examples, 570965 words/s, in_qsize 16, out_qsize 2\n",
      "2020-08-14 16:25:54,309 : INFO : EPOCH 2 - PROGRESS: at 78.40% examples, 572440 words/s, in_qsize 13, out_qsize 2\n",
      "2020-08-14 16:25:55,318 : INFO : EPOCH 2 - PROGRESS: at 85.23% examples, 571209 words/s, in_qsize 16, out_qsize 0\n",
      "2020-08-14 16:25:56,326 : INFO : EPOCH 2 - PROGRESS: at 92.28% examples, 571416 words/s, in_qsize 15, out_qsize 0\n",
      "2020-08-14 16:25:57,243 : INFO : worker thread finished; awaiting finish of 7 more threads\n",
      "2020-08-14 16:25:57,265 : INFO : worker thread finished; awaiting finish of 6 more threads\n",
      "2020-08-14 16:25:57,267 : INFO : worker thread finished; awaiting finish of 5 more threads\n",
      "2020-08-14 16:25:57,270 : INFO : worker thread finished; awaiting finish of 4 more threads\n",
      "2020-08-14 16:25:57,276 : INFO : worker thread finished; awaiting finish of 3 more threads\n",
      "2020-08-14 16:25:57,290 : INFO : worker thread finished; awaiting finish of 2 more threads\n",
      "2020-08-14 16:25:57,294 : INFO : worker thread finished; awaiting finish of 1 more threads\n",
      "2020-08-14 16:25:57,300 : INFO : worker thread finished; awaiting finish of 0 more threads\n",
      "2020-08-14 16:25:57,304 : INFO : EPOCH - 2 : training on 9227204 raw words (8223246 effective words) took 14.3s, 577031 effective words/s\n",
      "2020-08-14 16:25:58,358 : INFO : EPOCH 3 - PROGRESS: at 6.73% examples, 527262 words/s, in_qsize 15, out_qsize 0\n",
      "2020-08-14 16:25:59,357 : INFO : EPOCH 3 - PROGRESS: at 14.00% examples, 560822 words/s, in_qsize 13, out_qsize 2\n",
      "2020-08-14 16:26:00,377 : INFO : EPOCH 3 - PROGRESS: at 21.35% examples, 571937 words/s, in_qsize 15, out_qsize 0\n",
      "2020-08-14 16:26:01,403 : INFO : EPOCH 3 - PROGRESS: at 28.50% examples, 572639 words/s, in_qsize 15, out_qsize 0\n",
      "2020-08-14 16:26:02,419 : INFO : EPOCH 3 - PROGRESS: at 35.75% examples, 575316 words/s, in_qsize 14, out_qsize 1\n",
      "2020-08-14 16:26:03,417 : INFO : EPOCH 3 - PROGRESS: at 42.57% examples, 572887 words/s, in_qsize 16, out_qsize 2\n",
      "2020-08-14 16:26:04,429 : INFO : EPOCH 3 - PROGRESS: at 49.59% examples, 572941 words/s, in_qsize 16, out_qsize 0\n",
      "2020-08-14 16:26:05,435 : INFO : EPOCH 3 - PROGRESS: at 56.84% examples, 575545 words/s, in_qsize 15, out_qsize 0\n",
      "2020-08-14 16:26:06,445 : INFO : EPOCH 3 - PROGRESS: at 63.76% examples, 574542 words/s, in_qsize 13, out_qsize 2\n",
      "2020-08-14 16:26:07,447 : INFO : EPOCH 3 - PROGRESS: at 70.80% examples, 574810 words/s, in_qsize 15, out_qsize 0\n",
      "2020-08-14 16:26:08,443 : INFO : EPOCH 3 - PROGRESS: at 78.07% examples, 576684 words/s, in_qsize 15, out_qsize 0\n",
      "2020-08-14 16:26:09,457 : INFO : EPOCH 3 - PROGRESS: at 85.13% examples, 576314 words/s, in_qsize 16, out_qsize 0\n",
      "2020-08-14 16:26:10,467 : INFO : EPOCH 3 - PROGRESS: at 92.39% examples, 577421 words/s, in_qsize 16, out_qsize 0\n",
      "2020-08-14 16:26:11,400 : INFO : worker thread finished; awaiting finish of 7 more threads\n",
      "2020-08-14 16:26:11,422 : INFO : worker thread finished; awaiting finish of 6 more threads\n",
      "2020-08-14 16:26:11,431 : INFO : worker thread finished; awaiting finish of 5 more threads\n",
      "2020-08-14 16:26:11,434 : INFO : worker thread finished; awaiting finish of 4 more threads\n",
      "2020-08-14 16:26:11,452 : INFO : worker thread finished; awaiting finish of 3 more threads\n",
      "2020-08-14 16:26:11,456 : INFO : worker thread finished; awaiting finish of 2 more threads\n",
      "2020-08-14 16:26:11,457 : INFO : worker thread finished; awaiting finish of 1 more threads\n",
      "2020-08-14 16:26:11,464 : INFO : worker thread finished; awaiting finish of 0 more threads\n",
      "2020-08-14 16:26:11,464 : INFO : EPOCH - 3 : training on 9227204 raw words (8223066 effective words) took 14.1s, 581301 effective words/s\n",
      "2020-08-14 16:26:12,485 : INFO : EPOCH 4 - PROGRESS: at 6.40% examples, 520439 words/s, in_qsize 15, out_qsize 0\n",
      "2020-08-14 16:26:13,500 : INFO : EPOCH 4 - PROGRESS: at 13.25% examples, 537748 words/s, in_qsize 16, out_qsize 0\n",
      "2020-08-14 16:26:14,508 : INFO : EPOCH 4 - PROGRESS: at 20.59% examples, 557581 words/s, in_qsize 15, out_qsize 0\n",
      "2020-08-14 16:26:15,521 : INFO : EPOCH 4 - PROGRESS: at 27.75% examples, 562811 words/s, in_qsize 15, out_qsize 0\n",
      "2020-08-14 16:26:16,540 : INFO : EPOCH 4 - PROGRESS: at 35.21% examples, 571547 words/s, in_qsize 14, out_qsize 1\n",
      "2020-08-14 16:26:17,547 : INFO : EPOCH 4 - PROGRESS: at 42.46% examples, 575576 words/s, in_qsize 15, out_qsize 0\n",
      "2020-08-14 16:26:18,559 : INFO : EPOCH 4 - PROGRESS: at 49.38% examples, 573416 words/s, in_qsize 15, out_qsize 0\n",
      "2020-08-14 16:26:19,653 : INFO : EPOCH 4 - PROGRESS: at 56.84% examples, 572261 words/s, in_qsize 15, out_qsize 0\n",
      "2020-08-14 16:26:20,652 : INFO : EPOCH 4 - PROGRESS: at 63.11% examples, 565589 words/s, in_qsize 16, out_qsize 0\n"
     ]
    },
    {
     "name": "stderr",
     "output_type": "stream",
     "text": [
      "2020-08-14 16:26:21,676 : INFO : EPOCH 4 - PROGRESS: at 70.26% examples, 566950 words/s, in_qsize 15, out_qsize 1\n",
      "2020-08-14 16:26:22,730 : INFO : EPOCH 4 - PROGRESS: at 77.74% examples, 568030 words/s, in_qsize 16, out_qsize 0\n",
      "2020-08-14 16:26:23,740 : INFO : EPOCH 4 - PROGRESS: at 85.23% examples, 571534 words/s, in_qsize 15, out_qsize 0\n",
      "2020-08-14 16:26:24,763 : INFO : EPOCH 4 - PROGRESS: at 92.50% examples, 572318 words/s, in_qsize 15, out_qsize 0\n",
      "2020-08-14 16:26:25,658 : INFO : worker thread finished; awaiting finish of 7 more threads\n",
      "2020-08-14 16:26:25,658 : INFO : worker thread finished; awaiting finish of 6 more threads\n",
      "2020-08-14 16:26:25,666 : INFO : worker thread finished; awaiting finish of 5 more threads\n",
      "2020-08-14 16:26:25,672 : INFO : worker thread finished; awaiting finish of 4 more threads\n",
      "2020-08-14 16:26:25,681 : INFO : worker thread finished; awaiting finish of 3 more threads\n",
      "2020-08-14 16:26:25,688 : INFO : worker thread finished; awaiting finish of 2 more threads\n",
      "2020-08-14 16:26:25,692 : INFO : worker thread finished; awaiting finish of 1 more threads\n",
      "2020-08-14 16:26:25,696 : INFO : worker thread finished; awaiting finish of 0 more threads\n",
      "2020-08-14 16:26:25,699 : INFO : EPOCH - 4 : training on 9227204 raw words (8223253 effective words) took 14.2s, 578318 effective words/s\n",
      "2020-08-14 16:26:26,719 : INFO : EPOCH 5 - PROGRESS: at 5.86% examples, 472494 words/s, in_qsize 15, out_qsize 0\n",
      "2020-08-14 16:26:27,736 : INFO : EPOCH 5 - PROGRESS: at 13.36% examples, 539292 words/s, in_qsize 15, out_qsize 0\n",
      "2020-08-14 16:26:28,762 : INFO : EPOCH 5 - PROGRESS: at 20.16% examples, 542922 words/s, in_qsize 15, out_qsize 0\n",
      "2020-08-14 16:26:29,790 : INFO : EPOCH 5 - PROGRESS: at 27.10% examples, 545564 words/s, in_qsize 16, out_qsize 1\n",
      "2020-08-14 16:26:30,802 : INFO : EPOCH 5 - PROGRESS: at 34.35% examples, 554168 words/s, in_qsize 16, out_qsize 0\n",
      "2020-08-14 16:26:31,818 : INFO : EPOCH 5 - PROGRESS: at 41.37% examples, 557709 words/s, in_qsize 15, out_qsize 0\n",
      "2020-08-14 16:26:32,827 : INFO : EPOCH 5 - PROGRESS: at 48.08% examples, 556164 words/s, in_qsize 15, out_qsize 0\n",
      "2020-08-14 16:26:33,853 : INFO : EPOCH 5 - PROGRESS: at 55.21% examples, 558167 words/s, in_qsize 15, out_qsize 0\n",
      "2020-08-14 16:26:34,866 : INFO : EPOCH 5 - PROGRESS: at 62.14% examples, 558327 words/s, in_qsize 16, out_qsize 1\n",
      "2020-08-14 16:26:35,879 : INFO : EPOCH 5 - PROGRESS: at 69.61% examples, 563476 words/s, in_qsize 15, out_qsize 0\n",
      "2020-08-14 16:26:36,899 : INFO : EPOCH 5 - PROGRESS: at 76.88% examples, 564883 words/s, in_qsize 14, out_qsize 1\n",
      "2020-08-14 16:26:37,916 : INFO : EPOCH 5 - PROGRESS: at 83.83% examples, 565098 words/s, in_qsize 15, out_qsize 0\n",
      "2020-08-14 16:26:38,945 : INFO : EPOCH 5 - PROGRESS: at 90.65% examples, 563179 words/s, in_qsize 15, out_qsize 0\n",
      "2020-08-14 16:26:39,957 : INFO : EPOCH 5 - PROGRESS: at 97.93% examples, 565100 words/s, in_qsize 15, out_qsize 0\n",
      "2020-08-14 16:26:40,129 : INFO : worker thread finished; awaiting finish of 7 more threads\n",
      "2020-08-14 16:26:40,132 : INFO : worker thread finished; awaiting finish of 6 more threads\n",
      "2020-08-14 16:26:40,135 : INFO : worker thread finished; awaiting finish of 5 more threads\n",
      "2020-08-14 16:26:40,142 : INFO : worker thread finished; awaiting finish of 4 more threads\n",
      "2020-08-14 16:26:40,167 : INFO : worker thread finished; awaiting finish of 3 more threads\n",
      "2020-08-14 16:26:40,169 : INFO : worker thread finished; awaiting finish of 2 more threads\n",
      "2020-08-14 16:26:40,171 : INFO : worker thread finished; awaiting finish of 1 more threads\n",
      "2020-08-14 16:26:40,180 : INFO : worker thread finished; awaiting finish of 0 more threads\n",
      "2020-08-14 16:26:40,181 : INFO : EPOCH - 5 : training on 9227204 raw words (8223298 effective words) took 14.5s, 568492 effective words/s\n",
      "2020-08-14 16:26:41,208 : INFO : EPOCH 6 - PROGRESS: at 6.62% examples, 534737 words/s, in_qsize 15, out_qsize 0\n",
      "2020-08-14 16:26:42,206 : INFO : EPOCH 6 - PROGRESS: at 13.90% examples, 563316 words/s, in_qsize 14, out_qsize 1\n",
      "2020-08-14 16:26:43,221 : INFO : EPOCH 6 - PROGRESS: at 21.35% examples, 579844 words/s, in_qsize 15, out_qsize 0\n",
      "2020-08-14 16:26:44,242 : INFO : EPOCH 6 - PROGRESS: at 28.29% examples, 573235 words/s, in_qsize 16, out_qsize 0\n",
      "2020-08-14 16:26:45,252 : INFO : EPOCH 6 - PROGRESS: at 35.65% examples, 578919 words/s, in_qsize 14, out_qsize 1\n",
      "2020-08-14 16:26:46,278 : INFO : EPOCH 6 - PROGRESS: at 43.11% examples, 582204 words/s, in_qsize 15, out_qsize 0\n",
      "2020-08-14 16:26:47,326 : INFO : EPOCH 6 - PROGRESS: at 49.92% examples, 575544 words/s, in_qsize 15, out_qsize 0\n",
      "2020-08-14 16:26:48,321 : INFO : EPOCH 6 - PROGRESS: at 56.73% examples, 573486 words/s, in_qsize 15, out_qsize 0\n",
      "2020-08-14 16:26:49,330 : INFO : EPOCH 6 - PROGRESS: at 63.87% examples, 574996 words/s, in_qsize 16, out_qsize 0\n",
      "2020-08-14 16:26:50,345 : INFO : EPOCH 6 - PROGRESS: at 70.16% examples, 568322 words/s, in_qsize 16, out_qsize 1\n",
      "2020-08-14 16:26:51,356 : INFO : EPOCH 6 - PROGRESS: at 77.20% examples, 568610 words/s, in_qsize 16, out_qsize 0\n",
      "2020-08-14 16:26:52,366 : INFO : EPOCH 6 - PROGRESS: at 83.94% examples, 567094 words/s, in_qsize 16, out_qsize 0\n",
      "2020-08-14 16:26:53,375 : INFO : EPOCH 6 - PROGRESS: at 91.20% examples, 568919 words/s, in_qsize 15, out_qsize 0\n",
      "2020-08-14 16:26:54,389 : INFO : EPOCH 6 - PROGRESS: at 98.58% examples, 571073 words/s, in_qsize 13, out_qsize 1\n",
      "2020-08-14 16:26:54,463 : INFO : worker thread finished; awaiting finish of 7 more threads\n",
      "2020-08-14 16:26:54,477 : INFO : worker thread finished; awaiting finish of 6 more threads\n",
      "2020-08-14 16:26:54,482 : INFO : worker thread finished; awaiting finish of 5 more threads\n",
      "2020-08-14 16:26:54,483 : INFO : worker thread finished; awaiting finish of 4 more threads\n",
      "2020-08-14 16:26:54,494 : INFO : worker thread finished; awaiting finish of 3 more threads\n",
      "2020-08-14 16:26:54,506 : INFO : worker thread finished; awaiting finish of 2 more threads\n",
      "2020-08-14 16:26:54,528 : INFO : worker thread finished; awaiting finish of 1 more threads\n",
      "2020-08-14 16:26:54,531 : INFO : worker thread finished; awaiting finish of 0 more threads\n",
      "2020-08-14 16:26:54,531 : INFO : EPOCH - 6 : training on 9227204 raw words (8222571 effective words) took 14.3s, 573514 effective words/s\n",
      "2020-08-14 16:26:55,588 : INFO : EPOCH 7 - PROGRESS: at 6.08% examples, 484256 words/s, in_qsize 14, out_qsize 1\n",
      "2020-08-14 16:26:56,593 : INFO : EPOCH 7 - PROGRESS: at 13.14% examples, 529116 words/s, in_qsize 15, out_qsize 0\n",
      "2020-08-14 16:26:57,632 : INFO : EPOCH 7 - PROGRESS: at 20.48% examples, 547384 words/s, in_qsize 16, out_qsize 0\n",
      "2020-08-14 16:26:58,641 : INFO : EPOCH 7 - PROGRESS: at 28.07% examples, 565683 words/s, in_qsize 16, out_qsize 0\n",
      "2020-08-14 16:26:59,640 : INFO : EPOCH 7 - PROGRESS: at 34.68% examples, 560580 words/s, in_qsize 14, out_qsize 1\n",
      "2020-08-14 16:27:00,684 : INFO : EPOCH 7 - PROGRESS: at 42.02% examples, 564444 words/s, in_qsize 15, out_qsize 0\n",
      "2020-08-14 16:27:01,704 : INFO : EPOCH 7 - PROGRESS: at 48.84% examples, 561920 words/s, in_qsize 12, out_qsize 3\n",
      "2020-08-14 16:27:02,725 : INFO : EPOCH 7 - PROGRESS: at 56.29% examples, 566818 words/s, in_qsize 15, out_qsize 0\n",
      "2020-08-14 16:27:03,745 : INFO : EPOCH 7 - PROGRESS: at 63.22% examples, 566398 words/s, in_qsize 16, out_qsize 0\n",
      "2020-08-14 16:27:04,753 : INFO : EPOCH 7 - PROGRESS: at 70.15% examples, 566054 words/s, in_qsize 14, out_qsize 1\n",
      "2020-08-14 16:27:05,779 : INFO : EPOCH 7 - PROGRESS: at 77.42% examples, 567579 words/s, in_qsize 15, out_qsize 0\n",
      "2020-08-14 16:27:06,810 : INFO : EPOCH 7 - PROGRESS: at 84.59% examples, 567964 words/s, in_qsize 15, out_qsize 0\n",
      "2020-08-14 16:27:07,818 : INFO : EPOCH 7 - PROGRESS: at 91.85% examples, 569420 words/s, in_qsize 15, out_qsize 0\n",
      "2020-08-14 16:27:08,777 : INFO : worker thread finished; awaiting finish of 7 more threads\n",
      "2020-08-14 16:27:08,797 : INFO : worker thread finished; awaiting finish of 6 more threads\n",
      "2020-08-14 16:27:08,799 : INFO : worker thread finished; awaiting finish of 5 more threads\n",
      "2020-08-14 16:27:08,815 : INFO : worker thread finished; awaiting finish of 4 more threads\n",
      "2020-08-14 16:27:08,828 : INFO : worker thread finished; awaiting finish of 3 more threads\n",
      "2020-08-14 16:27:08,832 : INFO : EPOCH 7 - PROGRESS: at 99.78% examples, 575129 words/s, in_qsize 1, out_qsize 3\n"
     ]
    },
    {
     "name": "stderr",
     "output_type": "stream",
     "text": [
      "2020-08-14 16:27:08,833 : INFO : worker thread finished; awaiting finish of 2 more threads\n",
      "2020-08-14 16:27:08,834 : INFO : worker thread finished; awaiting finish of 1 more threads\n",
      "2020-08-14 16:27:08,843 : INFO : worker thread finished; awaiting finish of 0 more threads\n",
      "2020-08-14 16:27:08,843 : INFO : EPOCH - 7 : training on 9227204 raw words (8221698 effective words) took 14.3s, 575834 effective words/s\n",
      "2020-08-14 16:27:09,859 : INFO : EPOCH 8 - PROGRESS: at 5.86% examples, 479187 words/s, in_qsize 15, out_qsize 0\n",
      "2020-08-14 16:27:10,879 : INFO : EPOCH 8 - PROGRESS: at 12.60% examples, 512286 words/s, in_qsize 15, out_qsize 0\n",
      "2020-08-14 16:27:11,876 : INFO : EPOCH 8 - PROGRESS: at 19.40% examples, 528157 words/s, in_qsize 15, out_qsize 0\n",
      "2020-08-14 16:27:12,909 : INFO : EPOCH 8 - PROGRESS: at 26.67% examples, 540684 words/s, in_qsize 15, out_qsize 0\n",
      "2020-08-14 16:27:13,914 : INFO : EPOCH 8 - PROGRESS: at 33.92% examples, 551094 words/s, in_qsize 15, out_qsize 0\n",
      "2020-08-14 16:27:14,941 : INFO : EPOCH 8 - PROGRESS: at 41.37% examples, 559368 words/s, in_qsize 15, out_qsize 0\n",
      "2020-08-14 16:27:15,951 : INFO : EPOCH 8 - PROGRESS: at 48.40% examples, 560980 words/s, in_qsize 15, out_qsize 0\n",
      "2020-08-14 16:27:16,965 : INFO : EPOCH 8 - PROGRESS: at 55.53% examples, 563712 words/s, in_qsize 15, out_qsize 0\n",
      "2020-08-14 16:27:17,987 : INFO : EPOCH 8 - PROGRESS: at 62.36% examples, 562409 words/s, in_qsize 16, out_qsize 0\n",
      "2020-08-14 16:27:18,991 : INFO : EPOCH 8 - PROGRESS: at 69.50% examples, 564341 words/s, in_qsize 16, out_qsize 0\n",
      "2020-08-14 16:27:20,001 : INFO : EPOCH 8 - PROGRESS: at 76.88% examples, 567321 words/s, in_qsize 15, out_qsize 0\n",
      "2020-08-14 16:27:21,044 : INFO : EPOCH 8 - PROGRESS: at 84.15% examples, 568404 words/s, in_qsize 13, out_qsize 2\n",
      "2020-08-14 16:27:22,067 : INFO : EPOCH 8 - PROGRESS: at 91.63% examples, 570477 words/s, in_qsize 15, out_qsize 0\n",
      "2020-08-14 16:27:23,060 : INFO : worker thread finished; awaiting finish of 7 more threads\n",
      "2020-08-14 16:27:23,061 : INFO : worker thread finished; awaiting finish of 6 more threads\n",
      "2020-08-14 16:27:23,074 : INFO : worker thread finished; awaiting finish of 5 more threads\n",
      "2020-08-14 16:27:23,084 : INFO : EPOCH 8 - PROGRESS: at 99.56% examples, 575781 words/s, in_qsize 4, out_qsize 1\n",
      "2020-08-14 16:27:23,088 : INFO : worker thread finished; awaiting finish of 4 more threads\n",
      "2020-08-14 16:27:23,088 : INFO : worker thread finished; awaiting finish of 3 more threads\n",
      "2020-08-14 16:27:23,109 : INFO : worker thread finished; awaiting finish of 2 more threads\n",
      "2020-08-14 16:27:23,118 : INFO : worker thread finished; awaiting finish of 1 more threads\n",
      "2020-08-14 16:27:23,124 : INFO : worker thread finished; awaiting finish of 0 more threads\n",
      "2020-08-14 16:27:23,126 : INFO : EPOCH - 8 : training on 9227204 raw words (8222099 effective words) took 14.3s, 576647 effective words/s\n",
      "2020-08-14 16:27:24,136 : INFO : EPOCH 9 - PROGRESS: at 6.30% examples, 516079 words/s, in_qsize 15, out_qsize 0\n",
      "2020-08-14 16:27:25,164 : INFO : EPOCH 9 - PROGRESS: at 13.58% examples, 550851 words/s, in_qsize 14, out_qsize 1\n",
      "2020-08-14 16:27:26,184 : INFO : EPOCH 9 - PROGRESS: at 21.03% examples, 566547 words/s, in_qsize 14, out_qsize 1\n",
      "2020-08-14 16:27:27,209 : INFO : EPOCH 9 - PROGRESS: at 27.42% examples, 553820 words/s, in_qsize 16, out_qsize 0\n",
      "2020-08-14 16:27:28,219 : INFO : EPOCH 9 - PROGRESS: at 34.78% examples, 562827 words/s, in_qsize 16, out_qsize 2\n",
      "2020-08-14 16:27:29,225 : INFO : EPOCH 9 - PROGRESS: at 41.48% examples, 560142 words/s, in_qsize 14, out_qsize 1\n",
      "2020-08-14 16:27:30,246 : INFO : EPOCH 9 - PROGRESS: at 48.40% examples, 559713 words/s, in_qsize 13, out_qsize 5\n",
      "2020-08-14 16:27:31,261 : INFO : EPOCH 9 - PROGRESS: at 55.86% examples, 565813 words/s, in_qsize 15, out_qsize 0\n",
      "2020-08-14 16:27:32,275 : INFO : EPOCH 9 - PROGRESS: at 62.78% examples, 565207 words/s, in_qsize 16, out_qsize 0\n",
      "2020-08-14 16:27:33,288 : INFO : EPOCH 9 - PROGRESS: at 70.16% examples, 568603 words/s, in_qsize 13, out_qsize 2\n",
      "2020-08-14 16:27:34,294 : INFO : EPOCH 9 - PROGRESS: at 77.52% examples, 571550 words/s, in_qsize 15, out_qsize 2\n",
      "2020-08-14 16:27:35,294 : INFO : EPOCH 9 - PROGRESS: at 85.02% examples, 575016 words/s, in_qsize 14, out_qsize 1\n",
      "2020-08-14 16:27:36,320 : INFO : EPOCH 9 - PROGRESS: at 91.20% examples, 569329 words/s, in_qsize 15, out_qsize 0\n",
      "2020-08-14 16:27:37,336 : INFO : EPOCH 9 - PROGRESS: at 98.26% examples, 568927 words/s, in_qsize 14, out_qsize 1\n",
      "2020-08-14 16:27:37,463 : INFO : worker thread finished; awaiting finish of 7 more threads\n",
      "2020-08-14 16:27:37,478 : INFO : worker thread finished; awaiting finish of 6 more threads\n",
      "2020-08-14 16:27:37,488 : INFO : worker thread finished; awaiting finish of 5 more threads\n",
      "2020-08-14 16:27:37,492 : INFO : worker thread finished; awaiting finish of 4 more threads\n",
      "2020-08-14 16:27:37,513 : INFO : worker thread finished; awaiting finish of 3 more threads\n",
      "2020-08-14 16:27:37,515 : INFO : worker thread finished; awaiting finish of 2 more threads\n",
      "2020-08-14 16:27:37,519 : INFO : worker thread finished; awaiting finish of 1 more threads\n",
      "2020-08-14 16:27:37,529 : INFO : worker thread finished; awaiting finish of 0 more threads\n",
      "2020-08-14 16:27:37,532 : INFO : EPOCH - 9 : training on 9227204 raw words (8221564 effective words) took 14.4s, 571577 effective words/s\n",
      "2020-08-14 16:27:38,558 : INFO : EPOCH 10 - PROGRESS: at 5.86% examples, 472921 words/s, in_qsize 14, out_qsize 1\n",
      "2020-08-14 16:27:39,563 : INFO : EPOCH 10 - PROGRESS: at 13.25% examples, 537161 words/s, in_qsize 16, out_qsize 0\n",
      "2020-08-14 16:27:40,557 : INFO : EPOCH 10 - PROGRESS: at 20.27% examples, 550643 words/s, in_qsize 15, out_qsize 0\n",
      "2020-08-14 16:27:41,589 : INFO : EPOCH 10 - PROGRESS: at 27.31% examples, 554321 words/s, in_qsize 14, out_qsize 1\n",
      "2020-08-14 16:27:42,608 : INFO : EPOCH 10 - PROGRESS: at 34.68% examples, 562289 words/s, in_qsize 15, out_qsize 0\n",
      "2020-08-14 16:27:43,620 : INFO : EPOCH 10 - PROGRESS: at 42.02% examples, 568838 words/s, in_qsize 15, out_qsize 0\n",
      "2020-08-14 16:27:44,632 : INFO : EPOCH 10 - PROGRESS: at 48.19% examples, 558936 words/s, in_qsize 14, out_qsize 1\n",
      "2020-08-14 16:27:45,638 : INFO : EPOCH 10 - PROGRESS: at 55.32% examples, 561519 words/s, in_qsize 15, out_qsize 0\n",
      "2020-08-14 16:27:46,647 : INFO : EPOCH 10 - PROGRESS: at 62.57% examples, 564865 words/s, in_qsize 14, out_qsize 1\n",
      "2020-08-14 16:27:47,667 : INFO : EPOCH 10 - PROGRESS: at 70.05% examples, 569167 words/s, in_qsize 15, out_qsize 0\n",
      "2020-08-14 16:27:48,678 : INFO : EPOCH 10 - PROGRESS: at 77.20% examples, 569978 words/s, in_qsize 13, out_qsize 2\n",
      "2020-08-14 16:27:49,685 : INFO : EPOCH 10 - PROGRESS: at 84.59% examples, 572380 words/s, in_qsize 14, out_qsize 1\n",
      "2020-08-14 16:27:50,761 : INFO : EPOCH 10 - PROGRESS: at 91.96% examples, 572137 words/s, in_qsize 15, out_qsize 0\n",
      "2020-08-14 16:27:51,750 : INFO : EPOCH 10 - PROGRESS: at 98.68% examples, 570662 words/s, in_qsize 12, out_qsize 1\n",
      "2020-08-14 16:27:51,813 : INFO : worker thread finished; awaiting finish of 7 more threads\n",
      "2020-08-14 16:27:51,848 : INFO : worker thread finished; awaiting finish of 6 more threads\n",
      "2020-08-14 16:27:51,859 : INFO : worker thread finished; awaiting finish of 5 more threads\n",
      "2020-08-14 16:27:51,861 : INFO : worker thread finished; awaiting finish of 4 more threads\n",
      "2020-08-14 16:27:51,866 : INFO : worker thread finished; awaiting finish of 3 more threads\n",
      "2020-08-14 16:27:51,883 : INFO : worker thread finished; awaiting finish of 2 more threads\n",
      "2020-08-14 16:27:51,889 : INFO : worker thread finished; awaiting finish of 1 more threads\n",
      "2020-08-14 16:27:51,895 : INFO : worker thread finished; awaiting finish of 0 more threads\n",
      "2020-08-14 16:27:51,895 : INFO : EPOCH - 10 : training on 9227204 raw words (8222370 effective words) took 14.4s, 572757 effective words/s\n",
      "2020-08-14 16:27:52,917 : INFO : EPOCH 11 - PROGRESS: at 6.08% examples, 492373 words/s, in_qsize 16, out_qsize 0\n",
      "2020-08-14 16:27:53,927 : INFO : EPOCH 11 - PROGRESS: at 13.04% examples, 530009 words/s, in_qsize 14, out_qsize 1\n",
      "2020-08-14 16:27:54,938 : INFO : EPOCH 11 - PROGRESS: at 20.05% examples, 542254 words/s, in_qsize 13, out_qsize 2\n",
      "2020-08-14 16:27:55,957 : INFO : EPOCH 11 - PROGRESS: at 27.20% examples, 552352 words/s, in_qsize 15, out_qsize 0\n"
     ]
    },
    {
     "name": "stderr",
     "output_type": "stream",
     "text": [
      "2020-08-14 16:27:56,965 : INFO : EPOCH 11 - PROGRESS: at 34.57% examples, 561325 words/s, in_qsize 14, out_qsize 1\n",
      "2020-08-14 16:27:57,971 : INFO : EPOCH 11 - PROGRESS: at 41.70% examples, 564835 words/s, in_qsize 15, out_qsize 0\n",
      "2020-08-14 16:27:58,978 : INFO : EPOCH 11 - PROGRESS: at 48.62% examples, 564837 words/s, in_qsize 15, out_qsize 0\n",
      "2020-08-14 16:27:59,987 : INFO : EPOCH 11 - PROGRESS: at 55.64% examples, 566341 words/s, in_qsize 15, out_qsize 0\n",
      "2020-08-14 16:28:01,020 : INFO : EPOCH 11 - PROGRESS: at 62.36% examples, 562551 words/s, in_qsize 15, out_qsize 0\n",
      "2020-08-14 16:28:02,030 : INFO : EPOCH 11 - PROGRESS: at 69.62% examples, 565318 words/s, in_qsize 14, out_qsize 1\n",
      "2020-08-14 16:28:03,053 : INFO : EPOCH 11 - PROGRESS: at 76.98% examples, 567967 words/s, in_qsize 14, out_qsize 1\n",
      "2020-08-14 16:28:04,076 : INFO : EPOCH 11 - PROGRESS: at 84.26% examples, 569505 words/s, in_qsize 16, out_qsize 0\n",
      "2020-08-14 16:28:05,127 : INFO : EPOCH 11 - PROGRESS: at 91.42% examples, 568430 words/s, in_qsize 15, out_qsize 0\n",
      "2020-08-14 16:28:06,154 : INFO : EPOCH 11 - PROGRESS: at 98.26% examples, 566655 words/s, in_qsize 15, out_qsize 0\n",
      "2020-08-14 16:28:06,270 : INFO : worker thread finished; awaiting finish of 7 more threads\n",
      "2020-08-14 16:28:06,287 : INFO : worker thread finished; awaiting finish of 6 more threads\n",
      "2020-08-14 16:28:06,295 : INFO : worker thread finished; awaiting finish of 5 more threads\n",
      "2020-08-14 16:28:06,298 : INFO : worker thread finished; awaiting finish of 4 more threads\n",
      "2020-08-14 16:28:06,299 : INFO : worker thread finished; awaiting finish of 3 more threads\n",
      "2020-08-14 16:28:06,320 : INFO : worker thread finished; awaiting finish of 2 more threads\n",
      "2020-08-14 16:28:06,325 : INFO : worker thread finished; awaiting finish of 1 more threads\n",
      "2020-08-14 16:28:06,328 : INFO : worker thread finished; awaiting finish of 0 more threads\n",
      "2020-08-14 16:28:06,329 : INFO : EPOCH - 11 : training on 9227204 raw words (8222893 effective words) took 14.4s, 570278 effective words/s\n",
      "2020-08-14 16:28:07,342 : INFO : EPOCH 12 - PROGRESS: at 6.19% examples, 504749 words/s, in_qsize 12, out_qsize 3\n",
      "2020-08-14 16:28:08,349 : INFO : EPOCH 12 - PROGRESS: at 13.47% examples, 548156 words/s, in_qsize 14, out_qsize 1\n",
      "2020-08-14 16:28:09,360 : INFO : EPOCH 12 - PROGRESS: at 20.59% examples, 561163 words/s, in_qsize 15, out_qsize 0\n",
      "2020-08-14 16:28:10,362 : INFO : EPOCH 12 - PROGRESS: at 27.96% examples, 570330 words/s, in_qsize 16, out_qsize 1\n",
      "2020-08-14 16:28:11,375 : INFO : EPOCH 12 - PROGRESS: at 35.10% examples, 572294 words/s, in_qsize 15, out_qsize 0\n",
      "2020-08-14 16:28:12,439 : INFO : EPOCH 12 - PROGRESS: at 42.02% examples, 566980 words/s, in_qsize 16, out_qsize 2\n",
      "2020-08-14 16:28:13,453 : INFO : EPOCH 12 - PROGRESS: at 48.73% examples, 563765 words/s, in_qsize 15, out_qsize 0\n",
      "2020-08-14 16:28:14,467 : INFO : EPOCH 12 - PROGRESS: at 55.97% examples, 566193 words/s, in_qsize 14, out_qsize 1\n",
      "2020-08-14 16:28:15,513 : INFO : EPOCH 12 - PROGRESS: at 63.43% examples, 569512 words/s, in_qsize 14, out_qsize 1\n",
      "2020-08-14 16:28:16,522 : INFO : EPOCH 12 - PROGRESS: at 69.94% examples, 565585 words/s, in_qsize 15, out_qsize 2\n",
      "2020-08-14 16:28:17,527 : INFO : EPOCH 12 - PROGRESS: at 77.42% examples, 569092 words/s, in_qsize 14, out_qsize 1\n",
      "2020-08-14 16:28:18,560 : INFO : EPOCH 12 - PROGRESS: at 84.48% examples, 568473 words/s, in_qsize 14, out_qsize 1\n",
      "2020-08-14 16:28:19,585 : INFO : EPOCH 12 - PROGRESS: at 91.53% examples, 568417 words/s, in_qsize 15, out_qsize 0\n",
      "2020-08-14 16:28:20,589 : INFO : EPOCH 12 - PROGRESS: at 99.00% examples, 571249 words/s, in_qsize 10, out_qsize 0\n",
      "2020-08-14 16:28:20,604 : INFO : worker thread finished; awaiting finish of 7 more threads\n",
      "2020-08-14 16:28:20,630 : INFO : worker thread finished; awaiting finish of 6 more threads\n",
      "2020-08-14 16:28:20,631 : INFO : worker thread finished; awaiting finish of 5 more threads\n",
      "2020-08-14 16:28:20,631 : INFO : worker thread finished; awaiting finish of 4 more threads\n",
      "2020-08-14 16:28:20,636 : INFO : worker thread finished; awaiting finish of 3 more threads\n",
      "2020-08-14 16:28:20,645 : INFO : worker thread finished; awaiting finish of 2 more threads\n",
      "2020-08-14 16:28:20,674 : INFO : worker thread finished; awaiting finish of 1 more threads\n",
      "2020-08-14 16:28:20,676 : INFO : worker thread finished; awaiting finish of 0 more threads\n",
      "2020-08-14 16:28:20,679 : INFO : EPOCH - 12 : training on 9227204 raw words (8222238 effective words) took 14.3s, 573686 effective words/s\n",
      "2020-08-14 16:28:21,713 : INFO : EPOCH 13 - PROGRESS: at 6.08% examples, 490342 words/s, in_qsize 12, out_qsize 3\n",
      "2020-08-14 16:28:22,715 : INFO : EPOCH 13 - PROGRESS: at 13.25% examples, 536895 words/s, in_qsize 12, out_qsize 3\n",
      "2020-08-14 16:28:23,734 : INFO : EPOCH 13 - PROGRESS: at 20.70% examples, 560504 words/s, in_qsize 15, out_qsize 0\n",
      "2020-08-14 16:28:24,733 : INFO : EPOCH 13 - PROGRESS: at 27.53% examples, 559698 words/s, in_qsize 16, out_qsize 0\n",
      "2020-08-14 16:28:25,755 : INFO : EPOCH 13 - PROGRESS: at 34.68% examples, 563523 words/s, in_qsize 14, out_qsize 1\n",
      "2020-08-14 16:28:26,757 : INFO : EPOCH 13 - PROGRESS: at 41.80% examples, 567322 words/s, in_qsize 15, out_qsize 0\n",
      "2020-08-14 16:28:27,766 : INFO : EPOCH 13 - PROGRESS: at 48.73% examples, 567125 words/s, in_qsize 13, out_qsize 2\n",
      "2020-08-14 16:28:28,762 : INFO : EPOCH 13 - PROGRESS: at 55.97% examples, 570669 words/s, in_qsize 15, out_qsize 0\n",
      "2020-08-14 16:28:29,795 : INFO : EPOCH 13 - PROGRESS: at 62.89% examples, 568824 words/s, in_qsize 16, out_qsize 0\n",
      "2020-08-14 16:28:30,806 : INFO : EPOCH 13 - PROGRESS: at 70.37% examples, 572598 words/s, in_qsize 15, out_qsize 0\n",
      "2020-08-14 16:28:31,821 : INFO : EPOCH 13 - PROGRESS: at 77.31% examples, 571682 words/s, in_qsize 16, out_qsize 0\n",
      "2020-08-14 16:28:32,820 : INFO : EPOCH 13 - PROGRESS: at 84.15% examples, 570442 words/s, in_qsize 14, out_qsize 3\n",
      "2020-08-14 16:28:33,842 : INFO : EPOCH 13 - PROGRESS: at 91.31% examples, 570826 words/s, in_qsize 12, out_qsize 3\n",
      "2020-08-14 16:28:34,857 : INFO : EPOCH 13 - PROGRESS: at 97.71% examples, 567373 words/s, in_qsize 15, out_qsize 0\n",
      "2020-08-14 16:28:35,057 : INFO : worker thread finished; awaiting finish of 7 more threads\n",
      "2020-08-14 16:28:35,062 : INFO : worker thread finished; awaiting finish of 6 more threads\n",
      "2020-08-14 16:28:35,069 : INFO : worker thread finished; awaiting finish of 5 more threads\n",
      "2020-08-14 16:28:35,072 : INFO : worker thread finished; awaiting finish of 4 more threads\n",
      "2020-08-14 16:28:35,079 : INFO : worker thread finished; awaiting finish of 3 more threads\n",
      "2020-08-14 16:28:35,089 : INFO : worker thread finished; awaiting finish of 2 more threads\n",
      "2020-08-14 16:28:35,116 : INFO : worker thread finished; awaiting finish of 1 more threads\n",
      "2020-08-14 16:28:35,120 : INFO : worker thread finished; awaiting finish of 0 more threads\n",
      "2020-08-14 16:28:35,120 : INFO : EPOCH - 13 : training on 9227204 raw words (8221791 effective words) took 14.4s, 570236 effective words/s\n",
      "2020-08-14 16:28:36,154 : INFO : EPOCH 14 - PROGRESS: at 6.40% examples, 511550 words/s, in_qsize 16, out_qsize 0\n",
      "2020-08-14 16:28:37,181 : INFO : EPOCH 14 - PROGRESS: at 13.47% examples, 537705 words/s, in_qsize 15, out_qsize 1\n",
      "2020-08-14 16:28:38,181 : INFO : EPOCH 14 - PROGRESS: at 20.81% examples, 559880 words/s, in_qsize 16, out_qsize 0\n",
      "2020-08-14 16:28:39,195 : INFO : EPOCH 14 - PROGRESS: at 28.07% examples, 567136 words/s, in_qsize 15, out_qsize 0\n",
      "2020-08-14 16:28:40,202 : INFO : EPOCH 14 - PROGRESS: at 35.00% examples, 566551 words/s, in_qsize 16, out_qsize 0\n",
      "2020-08-14 16:28:41,231 : INFO : EPOCH 14 - PROGRESS: at 42.02% examples, 567165 words/s, in_qsize 15, out_qsize 0\n",
      "2020-08-14 16:28:42,227 : INFO : EPOCH 14 - PROGRESS: at 49.27% examples, 570871 words/s, in_qsize 15, out_qsize 0\n",
      "2020-08-14 16:28:43,232 : INFO : EPOCH 14 - PROGRESS: at 56.40% examples, 572630 words/s, in_qsize 16, out_qsize 1\n",
      "2020-08-14 16:28:44,236 : INFO : EPOCH 14 - PROGRESS: at 63.65% examples, 574854 words/s, in_qsize 15, out_qsize 0\n",
      "2020-08-14 16:28:45,250 : INFO : EPOCH 14 - PROGRESS: at 70.91% examples, 576263 words/s, in_qsize 15, out_qsize 0\n",
      "2020-08-14 16:28:46,296 : INFO : EPOCH 14 - PROGRESS: at 78.07% examples, 575373 words/s, in_qsize 14, out_qsize 1\n"
     ]
    },
    {
     "name": "stderr",
     "output_type": "stream",
     "text": [
      "2020-08-14 16:28:47,328 : INFO : EPOCH 14 - PROGRESS: at 85.13% examples, 573965 words/s, in_qsize 15, out_qsize 0\n",
      "2020-08-14 16:28:48,336 : INFO : EPOCH 14 - PROGRESS: at 92.50% examples, 575775 words/s, in_qsize 15, out_qsize 0\n",
      "2020-08-14 16:28:49,249 : INFO : worker thread finished; awaiting finish of 7 more threads\n",
      "2020-08-14 16:28:49,249 : INFO : worker thread finished; awaiting finish of 6 more threads\n",
      "2020-08-14 16:28:49,261 : INFO : worker thread finished; awaiting finish of 5 more threads\n",
      "2020-08-14 16:28:49,272 : INFO : worker thread finished; awaiting finish of 4 more threads\n",
      "2020-08-14 16:28:49,282 : INFO : worker thread finished; awaiting finish of 3 more threads\n",
      "2020-08-14 16:28:49,288 : INFO : worker thread finished; awaiting finish of 2 more threads\n",
      "2020-08-14 16:28:49,300 : INFO : worker thread finished; awaiting finish of 1 more threads\n",
      "2020-08-14 16:28:49,304 : INFO : worker thread finished; awaiting finish of 0 more threads\n",
      "2020-08-14 16:28:49,306 : INFO : EPOCH - 14 : training on 9227204 raw words (8222471 effective words) took 14.2s, 580314 effective words/s\n",
      "2020-08-14 16:28:50,356 : INFO : EPOCH 15 - PROGRESS: at 6.51% examples, 516437 words/s, in_qsize 15, out_qsize 0\n",
      "2020-08-14 16:28:51,438 : INFO : EPOCH 15 - PROGRESS: at 12.39% examples, 479227 words/s, in_qsize 16, out_qsize 1\n",
      "2020-08-14 16:28:52,484 : INFO : EPOCH 15 - PROGRESS: at 19.62% examples, 509838 words/s, in_qsize 13, out_qsize 2\n",
      "2020-08-14 16:28:53,498 : INFO : EPOCH 15 - PROGRESS: at 26.67% examples, 525103 words/s, in_qsize 16, out_qsize 3\n",
      "2020-08-14 16:28:54,487 : INFO : EPOCH 15 - PROGRESS: at 33.92% examples, 538759 words/s, in_qsize 14, out_qsize 1\n",
      "2020-08-14 16:28:55,500 : INFO : EPOCH 15 - PROGRESS: at 41.26% examples, 548595 words/s, in_qsize 14, out_qsize 1\n",
      "2020-08-14 16:28:56,542 : INFO : EPOCH 15 - PROGRESS: at 48.30% examples, 549550 words/s, in_qsize 16, out_qsize 0\n",
      "2020-08-14 16:28:57,543 : INFO : EPOCH 15 - PROGRESS: at 55.42% examples, 554048 words/s, in_qsize 15, out_qsize 0\n",
      "2020-08-14 16:28:58,595 : INFO : EPOCH 15 - PROGRESS: at 62.46% examples, 554048 words/s, in_qsize 15, out_qsize 0\n",
      "2020-08-14 16:28:59,592 : INFO : EPOCH 15 - PROGRESS: at 69.72% examples, 558154 words/s, in_qsize 15, out_qsize 0\n",
      "2020-08-14 16:29:00,631 : INFO : EPOCH 15 - PROGRESS: at 76.66% examples, 557738 words/s, in_qsize 15, out_qsize 0\n",
      "2020-08-14 16:29:01,636 : INFO : EPOCH 15 - PROGRESS: at 83.83% examples, 559630 words/s, in_qsize 15, out_qsize 0\n",
      "2020-08-14 16:29:02,694 : INFO : EPOCH 15 - PROGRESS: at 90.54% examples, 556959 words/s, in_qsize 15, out_qsize 0\n",
      "2020-08-14 16:29:03,694 : INFO : EPOCH 15 - PROGRESS: at 96.96% examples, 554627 words/s, in_qsize 14, out_qsize 1\n",
      "2020-08-14 16:29:03,959 : INFO : worker thread finished; awaiting finish of 7 more threads\n",
      "2020-08-14 16:29:03,973 : INFO : worker thread finished; awaiting finish of 6 more threads\n",
      "2020-08-14 16:29:03,981 : INFO : worker thread finished; awaiting finish of 5 more threads\n",
      "2020-08-14 16:29:03,991 : INFO : worker thread finished; awaiting finish of 4 more threads\n",
      "2020-08-14 16:29:03,999 : INFO : worker thread finished; awaiting finish of 3 more threads\n",
      "2020-08-14 16:29:04,005 : INFO : worker thread finished; awaiting finish of 2 more threads\n",
      "2020-08-14 16:29:04,016 : INFO : worker thread finished; awaiting finish of 1 more threads\n",
      "2020-08-14 16:29:04,024 : INFO : worker thread finished; awaiting finish of 0 more threads\n",
      "2020-08-14 16:29:04,026 : INFO : EPOCH - 15 : training on 9227204 raw words (8222934 effective words) took 14.7s, 559348 effective words/s\n",
      "2020-08-14 16:29:05,058 : INFO : EPOCH 16 - PROGRESS: at 4.67% examples, 378691 words/s, in_qsize 13, out_qsize 2\n",
      "2020-08-14 16:29:06,082 : INFO : EPOCH 16 - PROGRESS: at 10.97% examples, 442297 words/s, in_qsize 14, out_qsize 1\n",
      "2020-08-14 16:29:07,099 : INFO : EPOCH 16 - PROGRESS: at 17.46% examples, 467770 words/s, in_qsize 14, out_qsize 1\n",
      "2020-08-14 16:29:08,131 : INFO : EPOCH 16 - PROGRESS: at 24.50% examples, 492960 words/s, in_qsize 16, out_qsize 0\n",
      "2020-08-14 16:29:09,131 : INFO : EPOCH 16 - PROGRESS: at 31.43% examples, 508086 words/s, in_qsize 15, out_qsize 0\n",
      "2020-08-14 16:29:10,168 : INFO : EPOCH 16 - PROGRESS: at 38.68% examples, 518261 words/s, in_qsize 15, out_qsize 0\n",
      "2020-08-14 16:29:11,206 : INFO : EPOCH 16 - PROGRESS: at 46.02% examples, 528543 words/s, in_qsize 15, out_qsize 0\n",
      "2020-08-14 16:29:12,219 : INFO : EPOCH 16 - PROGRESS: at 53.27% examples, 535824 words/s, in_qsize 15, out_qsize 0\n",
      "2020-08-14 16:29:13,237 : INFO : EPOCH 16 - PROGRESS: at 60.63% examples, 542602 words/s, in_qsize 15, out_qsize 1\n",
      "2020-08-14 16:29:14,263 : INFO : EPOCH 16 - PROGRESS: at 68.10% examples, 547979 words/s, in_qsize 15, out_qsize 0\n",
      "2020-08-14 16:29:15,330 : INFO : EPOCH 16 - PROGRESS: at 75.24% examples, 548525 words/s, in_qsize 16, out_qsize 0\n",
      "2020-08-14 16:29:16,372 : INFO : EPOCH 16 - PROGRESS: at 82.42% examples, 549826 words/s, in_qsize 15, out_qsize 0\n",
      "2020-08-14 16:29:17,391 : INFO : EPOCH 16 - PROGRESS: at 89.78% examples, 553002 words/s, in_qsize 16, out_qsize 1\n",
      "2020-08-14 16:29:18,410 : INFO : EPOCH 16 - PROGRESS: at 97.39% examples, 557224 words/s, in_qsize 16, out_qsize 0\n",
      "2020-08-14 16:29:18,649 : INFO : worker thread finished; awaiting finish of 7 more threads\n",
      "2020-08-14 16:29:18,649 : INFO : worker thread finished; awaiting finish of 6 more threads\n",
      "2020-08-14 16:29:18,649 : INFO : worker thread finished; awaiting finish of 5 more threads\n",
      "2020-08-14 16:29:18,665 : INFO : worker thread finished; awaiting finish of 4 more threads\n",
      "2020-08-14 16:29:18,678 : INFO : worker thread finished; awaiting finish of 3 more threads\n",
      "2020-08-14 16:29:18,680 : INFO : worker thread finished; awaiting finish of 2 more threads\n",
      "2020-08-14 16:29:18,690 : INFO : worker thread finished; awaiting finish of 1 more threads\n",
      "2020-08-14 16:29:18,706 : INFO : worker thread finished; awaiting finish of 0 more threads\n",
      "2020-08-14 16:29:18,708 : INFO : EPOCH - 16 : training on 9227204 raw words (8222580 effective words) took 14.7s, 560831 effective words/s\n",
      "2020-08-14 16:29:19,754 : INFO : EPOCH 17 - PROGRESS: at 6.40% examples, 507219 words/s, in_qsize 15, out_qsize 0\n",
      "2020-08-14 16:29:20,751 : INFO : EPOCH 17 - PROGRESS: at 13.58% examples, 546235 words/s, in_qsize 15, out_qsize 0\n",
      "2020-08-14 16:29:21,762 : INFO : EPOCH 17 - PROGRESS: at 20.70% examples, 558697 words/s, in_qsize 16, out_qsize 0\n",
      "2020-08-14 16:29:22,770 : INFO : EPOCH 17 - PROGRESS: at 27.86% examples, 565562 words/s, in_qsize 15, out_qsize 0\n",
      "2020-08-14 16:29:23,771 : INFO : EPOCH 17 - PROGRESS: at 35.21% examples, 572424 words/s, in_qsize 14, out_qsize 1\n",
      "2020-08-14 16:29:24,799 : INFO : EPOCH 17 - PROGRESS: at 42.57% examples, 575499 words/s, in_qsize 15, out_qsize 0\n",
      "2020-08-14 16:29:25,818 : INFO : EPOCH 17 - PROGRESS: at 49.81% examples, 576968 words/s, in_qsize 15, out_qsize 0\n",
      "2020-08-14 16:29:26,823 : INFO : EPOCH 17 - PROGRESS: at 57.38% examples, 582299 words/s, in_qsize 15, out_qsize 0\n",
      "2020-08-14 16:29:27,839 : INFO : EPOCH 17 - PROGRESS: at 63.65% examples, 574531 words/s, in_qsize 16, out_qsize 0\n",
      "2020-08-14 16:29:28,846 : INFO : EPOCH 17 - PROGRESS: at 70.80% examples, 575550 words/s, in_qsize 16, out_qsize 0\n",
      "2020-08-14 16:29:29,894 : INFO : EPOCH 17 - PROGRESS: at 78.29% examples, 576042 words/s, in_qsize 15, out_qsize 0\n",
      "2020-08-14 16:29:30,910 : INFO : EPOCH 17 - PROGRESS: at 85.34% examples, 575851 words/s, in_qsize 16, out_qsize 2\n",
      "2020-08-14 16:29:31,918 : INFO : EPOCH 17 - PROGRESS: at 92.28% examples, 575002 words/s, in_qsize 16, out_qsize 0\n",
      "2020-08-14 16:29:32,850 : INFO : worker thread finished; awaiting finish of 7 more threads\n",
      "2020-08-14 16:29:32,857 : INFO : worker thread finished; awaiting finish of 6 more threads\n",
      "2020-08-14 16:29:32,861 : INFO : worker thread finished; awaiting finish of 5 more threads\n",
      "2020-08-14 16:29:32,863 : INFO : worker thread finished; awaiting finish of 4 more threads\n",
      "2020-08-14 16:29:32,882 : INFO : worker thread finished; awaiting finish of 3 more threads\n",
      "2020-08-14 16:29:32,887 : INFO : worker thread finished; awaiting finish of 2 more threads\n",
      "2020-08-14 16:29:32,899 : INFO : worker thread finished; awaiting finish of 1 more threads\n",
      "2020-08-14 16:29:32,906 : INFO : worker thread finished; awaiting finish of 0 more threads\n"
     ]
    },
    {
     "name": "stderr",
     "output_type": "stream",
     "text": [
      "2020-08-14 16:29:32,908 : INFO : EPOCH - 17 : training on 9227204 raw words (8222574 effective words) took 14.2s, 579852 effective words/s\n",
      "2020-08-14 16:29:33,936 : INFO : EPOCH 18 - PROGRESS: at 5.86% examples, 471160 words/s, in_qsize 13, out_qsize 2\n",
      "2020-08-14 16:29:34,953 : INFO : EPOCH 18 - PROGRESS: at 12.71% examples, 511885 words/s, in_qsize 13, out_qsize 2\n",
      "2020-08-14 16:29:35,961 : INFO : EPOCH 18 - PROGRESS: at 19.94% examples, 537535 words/s, in_qsize 15, out_qsize 0\n",
      "2020-08-14 16:29:36,971 : INFO : EPOCH 18 - PROGRESS: at 26.99% examples, 545916 words/s, in_qsize 15, out_qsize 1\n",
      "2020-08-14 16:29:38,021 : INFO : EPOCH 18 - PROGRESS: at 33.81% examples, 544267 words/s, in_qsize 14, out_qsize 1\n",
      "2020-08-14 16:29:39,031 : INFO : EPOCH 18 - PROGRESS: at 41.05% examples, 551810 words/s, in_qsize 16, out_qsize 1\n",
      "2020-08-14 16:29:40,041 : INFO : EPOCH 18 - PROGRESS: at 48.40% examples, 558703 words/s, in_qsize 15, out_qsize 0\n",
      "2020-08-14 16:29:41,042 : INFO : EPOCH 18 - PROGRESS: at 55.21% examples, 559003 words/s, in_qsize 15, out_qsize 0\n",
      "2020-08-14 16:29:42,095 : INFO : EPOCH 18 - PROGRESS: at 62.03% examples, 556349 words/s, in_qsize 16, out_qsize 0\n",
      "2020-08-14 16:29:43,112 : INFO : EPOCH 18 - PROGRESS: at 69.18% examples, 558717 words/s, in_qsize 15, out_qsize 0\n",
      "2020-08-14 16:29:44,102 : INFO : EPOCH 18 - PROGRESS: at 76.33% examples, 561069 words/s, in_qsize 14, out_qsize 1\n",
      "2020-08-14 16:29:45,110 : INFO : EPOCH 18 - PROGRESS: at 83.07% examples, 560052 words/s, in_qsize 15, out_qsize 0\n",
      "2020-08-14 16:29:46,136 : INFO : EPOCH 18 - PROGRESS: at 89.89% examples, 559515 words/s, in_qsize 15, out_qsize 0\n",
      "2020-08-14 16:29:47,150 : INFO : EPOCH 18 - PROGRESS: at 97.29% examples, 562074 words/s, in_qsize 15, out_qsize 0\n",
      "2020-08-14 16:29:47,396 : INFO : worker thread finished; awaiting finish of 7 more threads\n",
      "2020-08-14 16:29:47,398 : INFO : worker thread finished; awaiting finish of 6 more threads\n",
      "2020-08-14 16:29:47,402 : INFO : worker thread finished; awaiting finish of 5 more threads\n",
      "2020-08-14 16:29:47,423 : INFO : worker thread finished; awaiting finish of 4 more threads\n",
      "2020-08-14 16:29:47,425 : INFO : worker thread finished; awaiting finish of 3 more threads\n",
      "2020-08-14 16:29:47,425 : INFO : worker thread finished; awaiting finish of 2 more threads\n",
      "2020-08-14 16:29:47,441 : INFO : worker thread finished; awaiting finish of 1 more threads\n",
      "2020-08-14 16:29:47,442 : INFO : worker thread finished; awaiting finish of 0 more threads\n",
      "2020-08-14 16:29:47,443 : INFO : EPOCH - 18 : training on 9227204 raw words (8223352 effective words) took 14.5s, 566311 effective words/s\n",
      "2020-08-14 16:29:48,476 : INFO : EPOCH 19 - PROGRESS: at 5.86% examples, 472891 words/s, in_qsize 15, out_qsize 0\n",
      "2020-08-14 16:29:49,483 : INFO : EPOCH 19 - PROGRESS: at 13.25% examples, 537711 words/s, in_qsize 15, out_qsize 0\n",
      "2020-08-14 16:29:50,488 : INFO : EPOCH 19 - PROGRESS: at 20.38% examples, 551826 words/s, in_qsize 14, out_qsize 1\n",
      "2020-08-14 16:29:51,512 : INFO : EPOCH 19 - PROGRESS: at 26.78% examples, 543228 words/s, in_qsize 15, out_qsize 0\n",
      "2020-08-14 16:29:52,562 : INFO : EPOCH 19 - PROGRESS: at 33.59% examples, 540786 words/s, in_qsize 16, out_qsize 0\n",
      "2020-08-14 16:29:53,592 : INFO : EPOCH 19 - PROGRESS: at 40.73% examples, 545201 words/s, in_qsize 16, out_qsize 0\n",
      "2020-08-14 16:29:54,621 : INFO : EPOCH 19 - PROGRESS: at 47.65% examples, 547511 words/s, in_qsize 15, out_qsize 0\n",
      "2020-08-14 16:29:55,627 : INFO : EPOCH 19 - PROGRESS: at 54.78% examples, 551959 words/s, in_qsize 15, out_qsize 0\n",
      "2020-08-14 16:29:56,623 : INFO : EPOCH 19 - PROGRESS: at 62.14% examples, 557660 words/s, in_qsize 14, out_qsize 1\n",
      "2020-08-14 16:29:57,643 : INFO : EPOCH 19 - PROGRESS: at 69.39% examples, 560916 words/s, in_qsize 15, out_qsize 0\n",
      "2020-08-14 16:29:58,674 : INFO : EPOCH 19 - PROGRESS: at 76.66% examples, 562409 words/s, in_qsize 15, out_qsize 0\n",
      "2020-08-14 16:29:59,682 : INFO : EPOCH 19 - PROGRESS: at 83.83% examples, 563770 words/s, in_qsize 14, out_qsize 1\n",
      "2020-08-14 16:30:00,716 : INFO : EPOCH 19 - PROGRESS: at 90.11% examples, 559086 words/s, in_qsize 15, out_qsize 0\n",
      "2020-08-14 16:30:01,734 : INFO : EPOCH 19 - PROGRESS: at 97.18% examples, 560305 words/s, in_qsize 14, out_qsize 0\n",
      "2020-08-14 16:30:02,005 : INFO : worker thread finished; awaiting finish of 7 more threads\n",
      "2020-08-14 16:30:02,006 : INFO : worker thread finished; awaiting finish of 6 more threads\n",
      "2020-08-14 16:30:02,015 : INFO : worker thread finished; awaiting finish of 5 more threads\n",
      "2020-08-14 16:30:02,022 : INFO : worker thread finished; awaiting finish of 4 more threads\n",
      "2020-08-14 16:30:02,030 : INFO : worker thread finished; awaiting finish of 3 more threads\n",
      "2020-08-14 16:30:02,041 : INFO : worker thread finished; awaiting finish of 2 more threads\n",
      "2020-08-14 16:30:02,049 : INFO : worker thread finished; awaiting finish of 1 more threads\n",
      "2020-08-14 16:30:02,053 : INFO : worker thread finished; awaiting finish of 0 more threads\n",
      "2020-08-14 16:30:02,057 : INFO : EPOCH - 19 : training on 9227204 raw words (8222985 effective words) took 14.6s, 563443 effective words/s\n",
      "2020-08-14 16:30:03,087 : INFO : EPOCH 20 - PROGRESS: at 6.19% examples, 494567 words/s, in_qsize 15, out_qsize 0\n",
      "2020-08-14 16:30:04,089 : INFO : EPOCH 20 - PROGRESS: at 12.93% examples, 522625 words/s, in_qsize 15, out_qsize 0\n",
      "2020-08-14 16:30:05,122 : INFO : EPOCH 20 - PROGRESS: at 19.84% examples, 534087 words/s, in_qsize 15, out_qsize 0\n",
      "2020-08-14 16:30:06,146 : INFO : EPOCH 20 - PROGRESS: at 27.20% examples, 547995 words/s, in_qsize 16, out_qsize 0\n",
      "2020-08-14 16:30:07,150 : INFO : EPOCH 20 - PROGRESS: at 33.81% examples, 546773 words/s, in_qsize 16, out_qsize 2\n",
      "2020-08-14 16:30:08,163 : INFO : EPOCH 20 - PROGRESS: at 41.26% examples, 555771 words/s, in_qsize 15, out_qsize 0\n",
      "2020-08-14 16:30:09,191 : INFO : EPOCH 20 - PROGRESS: at 48.40% examples, 559059 words/s, in_qsize 15, out_qsize 0\n",
      "2020-08-14 16:30:10,196 : INFO : EPOCH 20 - PROGRESS: at 54.78% examples, 554488 words/s, in_qsize 15, out_qsize 0\n",
      "2020-08-14 16:30:11,212 : INFO : EPOCH 20 - PROGRESS: at 62.03% examples, 558283 words/s, in_qsize 15, out_qsize 0\n",
      "2020-08-14 16:30:12,217 : INFO : EPOCH 20 - PROGRESS: at 68.75% examples, 557135 words/s, in_qsize 16, out_qsize 0\n",
      "2020-08-14 16:30:13,238 : INFO : EPOCH 20 - PROGRESS: at 76.22% examples, 561102 words/s, in_qsize 15, out_qsize 0\n",
      "2020-08-14 16:30:14,258 : INFO : EPOCH 20 - PROGRESS: at 83.07% examples, 560475 words/s, in_qsize 16, out_qsize 1\n",
      "2020-08-14 16:30:15,298 : INFO : EPOCH 20 - PROGRESS: at 90.54% examples, 562925 words/s, in_qsize 15, out_qsize 0\n",
      "2020-08-14 16:30:16,332 : INFO : EPOCH 20 - PROGRESS: at 98.04% examples, 564759 words/s, in_qsize 15, out_qsize 0\n",
      "2020-08-14 16:30:16,494 : INFO : worker thread finished; awaiting finish of 7 more threads\n",
      "2020-08-14 16:30:16,499 : INFO : worker thread finished; awaiting finish of 6 more threads\n",
      "2020-08-14 16:30:16,504 : INFO : worker thread finished; awaiting finish of 5 more threads\n",
      "2020-08-14 16:30:16,509 : INFO : worker thread finished; awaiting finish of 4 more threads\n",
      "2020-08-14 16:30:16,519 : INFO : worker thread finished; awaiting finish of 3 more threads\n",
      "2020-08-14 16:30:16,529 : INFO : worker thread finished; awaiting finish of 2 more threads\n",
      "2020-08-14 16:30:16,542 : INFO : worker thread finished; awaiting finish of 1 more threads\n",
      "2020-08-14 16:30:16,542 : INFO : worker thread finished; awaiting finish of 0 more threads\n",
      "2020-08-14 16:30:16,548 : INFO : EPOCH - 20 : training on 9227204 raw words (8222460 effective words) took 14.5s, 568036 effective words/s\n",
      "2020-08-14 16:30:17,595 : INFO : EPOCH 21 - PROGRESS: at 6.73% examples, 534516 words/s, in_qsize 15, out_qsize 0\n",
      "2020-08-14 16:30:18,623 : INFO : EPOCH 21 - PROGRESS: at 13.79% examples, 550083 words/s, in_qsize 15, out_qsize 0\n",
      "2020-08-14 16:30:19,627 : INFO : EPOCH 21 - PROGRESS: at 21.25% examples, 569932 words/s, in_qsize 15, out_qsize 0\n",
      "2020-08-14 16:30:20,650 : INFO : EPOCH 21 - PROGRESS: at 28.83% examples, 580155 words/s, in_qsize 16, out_qsize 0\n",
      "2020-08-14 16:30:21,665 : INFO : EPOCH 21 - PROGRESS: at 35.75% examples, 576671 words/s, in_qsize 16, out_qsize 0\n",
      "2020-08-14 16:30:22,714 : INFO : EPOCH 21 - PROGRESS: at 43.32% examples, 578860 words/s, in_qsize 15, out_qsize 0\n"
     ]
    },
    {
     "name": "stderr",
     "output_type": "stream",
     "text": [
      "2020-08-14 16:30:23,741 : INFO : EPOCH 21 - PROGRESS: at 51.10% examples, 585154 words/s, in_qsize 15, out_qsize 0\n",
      "2020-08-14 16:30:24,761 : INFO : EPOCH 21 - PROGRESS: at 58.14% examples, 583456 words/s, in_qsize 15, out_qsize 2\n",
      "2020-08-14 16:30:25,788 : INFO : EPOCH 21 - PROGRESS: at 65.39% examples, 583112 words/s, in_qsize 14, out_qsize 1\n",
      "2020-08-14 16:30:26,797 : INFO : EPOCH 21 - PROGRESS: at 72.43% examples, 581968 words/s, in_qsize 14, out_qsize 1\n",
      "2020-08-14 16:30:27,793 : INFO : EPOCH 21 - PROGRESS: at 79.60% examples, 582469 words/s, in_qsize 14, out_qsize 1\n",
      "2020-08-14 16:30:28,806 : INFO : EPOCH 21 - PROGRESS: at 86.32% examples, 579573 words/s, in_qsize 13, out_qsize 2\n",
      "2020-08-14 16:30:29,813 : INFO : EPOCH 21 - PROGRESS: at 93.37% examples, 579270 words/s, in_qsize 15, out_qsize 0\n",
      "2020-08-14 16:30:30,586 : INFO : worker thread finished; awaiting finish of 7 more threads\n",
      "2020-08-14 16:30:30,588 : INFO : worker thread finished; awaiting finish of 6 more threads\n",
      "2020-08-14 16:30:30,599 : INFO : worker thread finished; awaiting finish of 5 more threads\n",
      "2020-08-14 16:30:30,602 : INFO : worker thread finished; awaiting finish of 4 more threads\n",
      "2020-08-14 16:30:30,604 : INFO : worker thread finished; awaiting finish of 3 more threads\n",
      "2020-08-14 16:30:30,628 : INFO : worker thread finished; awaiting finish of 2 more threads\n",
      "2020-08-14 16:30:30,637 : INFO : worker thread finished; awaiting finish of 1 more threads\n",
      "2020-08-14 16:30:30,640 : INFO : worker thread finished; awaiting finish of 0 more threads\n",
      "2020-08-14 16:30:30,640 : INFO : EPOCH - 21 : training on 9227204 raw words (8223102 effective words) took 14.1s, 584222 effective words/s\n",
      "2020-08-14 16:30:31,709 : INFO : EPOCH 22 - PROGRESS: at 6.19% examples, 498728 words/s, in_qsize 16, out_qsize 0\n",
      "2020-08-14 16:30:32,735 : INFO : EPOCH 22 - PROGRESS: at 13.15% examples, 528423 words/s, in_qsize 15, out_qsize 2\n",
      "2020-08-14 16:30:33,741 : INFO : EPOCH 22 - PROGRESS: at 20.27% examples, 546675 words/s, in_qsize 16, out_qsize 0\n",
      "2020-08-14 16:30:34,746 : INFO : EPOCH 22 - PROGRESS: at 26.34% examples, 533925 words/s, in_qsize 15, out_qsize 0\n",
      "2020-08-14 16:30:35,753 : INFO : EPOCH 22 - PROGRESS: at 33.59% examples, 545843 words/s, in_qsize 15, out_qsize 0\n",
      "2020-08-14 16:30:36,808 : INFO : EPOCH 22 - PROGRESS: at 39.00% examples, 524563 words/s, in_qsize 15, out_qsize 0\n",
      "2020-08-14 16:30:37,815 : INFO : EPOCH 22 - PROGRESS: at 45.37% examples, 524166 words/s, in_qsize 13, out_qsize 2\n",
      "2020-08-14 16:30:38,836 : INFO : EPOCH 22 - PROGRESS: at 51.97% examples, 525159 words/s, in_qsize 14, out_qsize 1\n",
      "2020-08-14 16:30:39,866 : INFO : EPOCH 22 - PROGRESS: at 59.34% examples, 532268 words/s, in_qsize 15, out_qsize 0\n",
      "2020-08-14 16:30:40,869 : INFO : EPOCH 22 - PROGRESS: at 66.58% examples, 538113 words/s, in_qsize 13, out_qsize 2\n",
      "2020-08-14 16:30:41,881 : INFO : EPOCH 22 - PROGRESS: at 73.51% examples, 540261 words/s, in_qsize 13, out_qsize 2\n",
      "2020-08-14 16:30:42,897 : INFO : EPOCH 22 - PROGRESS: at 80.03% examples, 538961 words/s, in_qsize 15, out_qsize 0\n",
      "2020-08-14 16:30:43,917 : INFO : EPOCH 22 - PROGRESS: at 87.40% examples, 543337 words/s, in_qsize 14, out_qsize 1\n",
      "2020-08-14 16:30:44,939 : INFO : EPOCH 22 - PROGRESS: at 94.69% examples, 546412 words/s, in_qsize 14, out_qsize 1\n",
      "2020-08-14 16:30:45,558 : INFO : worker thread finished; awaiting finish of 7 more threads\n",
      "2020-08-14 16:30:45,558 : INFO : worker thread finished; awaiting finish of 6 more threads\n",
      "2020-08-14 16:30:45,578 : INFO : worker thread finished; awaiting finish of 5 more threads\n",
      "2020-08-14 16:30:45,582 : INFO : worker thread finished; awaiting finish of 4 more threads\n",
      "2020-08-14 16:30:45,594 : INFO : worker thread finished; awaiting finish of 3 more threads\n",
      "2020-08-14 16:30:45,598 : INFO : worker thread finished; awaiting finish of 2 more threads\n",
      "2020-08-14 16:30:45,607 : INFO : worker thread finished; awaiting finish of 1 more threads\n",
      "2020-08-14 16:30:45,610 : INFO : worker thread finished; awaiting finish of 0 more threads\n",
      "2020-08-14 16:30:45,612 : INFO : EPOCH - 22 : training on 9227204 raw words (8221410 effective words) took 14.9s, 551174 effective words/s\n",
      "2020-08-14 16:30:46,671 : INFO : EPOCH 23 - PROGRESS: at 5.97% examples, 465782 words/s, in_qsize 15, out_qsize 0\n",
      "2020-08-14 16:30:47,718 : INFO : EPOCH 23 - PROGRESS: at 12.39% examples, 484986 words/s, in_qsize 15, out_qsize 0\n",
      "2020-08-14 16:30:48,731 : INFO : EPOCH 23 - PROGRESS: at 19.84% examples, 525263 words/s, in_qsize 16, out_qsize 1\n",
      "2020-08-14 16:30:49,746 : INFO : EPOCH 23 - PROGRESS: at 26.99% examples, 537304 words/s, in_qsize 15, out_qsize 0\n",
      "2020-08-14 16:30:50,778 : INFO : EPOCH 23 - PROGRESS: at 34.35% examples, 547362 words/s, in_qsize 16, out_qsize 0\n",
      "2020-08-14 16:30:51,804 : INFO : EPOCH 23 - PROGRESS: at 41.70% examples, 555595 words/s, in_qsize 15, out_qsize 0\n",
      "2020-08-14 16:30:52,812 : INFO : EPOCH 23 - PROGRESS: at 48.30% examples, 553297 words/s, in_qsize 16, out_qsize 0\n",
      "2020-08-14 16:30:53,816 : INFO : EPOCH 23 - PROGRESS: at 55.42% examples, 556682 words/s, in_qsize 15, out_qsize 0\n",
      "2020-08-14 16:30:54,840 : INFO : EPOCH 23 - PROGRESS: at 62.36% examples, 556614 words/s, in_qsize 15, out_qsize 0\n",
      "2020-08-14 16:30:55,856 : INFO : EPOCH 23 - PROGRESS: at 69.72% examples, 560338 words/s, in_qsize 13, out_qsize 2\n",
      "2020-08-14 16:30:56,869 : INFO : EPOCH 23 - PROGRESS: at 76.55% examples, 560140 words/s, in_qsize 16, out_qsize 0\n",
      "2020-08-14 16:30:57,869 : INFO : EPOCH 23 - PROGRESS: at 83.62% examples, 561297 words/s, in_qsize 15, out_qsize 0\n",
      "2020-08-14 16:30:58,917 : INFO : EPOCH 23 - PROGRESS: at 90.87% examples, 562536 words/s, in_qsize 13, out_qsize 2\n",
      "2020-08-14 16:30:59,929 : INFO : EPOCH 23 - PROGRESS: at 98.36% examples, 565698 words/s, in_qsize 16, out_qsize 0\n",
      "2020-08-14 16:31:00,013 : INFO : worker thread finished; awaiting finish of 7 more threads\n",
      "2020-08-14 16:31:00,018 : INFO : worker thread finished; awaiting finish of 6 more threads\n",
      "2020-08-14 16:31:00,035 : INFO : worker thread finished; awaiting finish of 5 more threads\n",
      "2020-08-14 16:31:00,044 : INFO : worker thread finished; awaiting finish of 4 more threads\n",
      "2020-08-14 16:31:00,076 : INFO : worker thread finished; awaiting finish of 3 more threads\n",
      "2020-08-14 16:31:00,080 : INFO : worker thread finished; awaiting finish of 2 more threads\n",
      "2020-08-14 16:31:00,083 : INFO : worker thread finished; awaiting finish of 1 more threads\n",
      "2020-08-14 16:31:00,085 : INFO : worker thread finished; awaiting finish of 0 more threads\n",
      "2020-08-14 16:31:00,086 : INFO : EPOCH - 23 : training on 9227204 raw words (8223080 effective words) took 14.5s, 568852 effective words/s\n",
      "2020-08-14 16:31:01,113 : INFO : EPOCH 24 - PROGRESS: at 5.54% examples, 445414 words/s, in_qsize 15, out_qsize 0\n",
      "2020-08-14 16:31:02,156 : INFO : EPOCH 24 - PROGRESS: at 12.82% examples, 511140 words/s, in_qsize 15, out_qsize 0\n",
      "2020-08-14 16:31:03,159 : INFO : EPOCH 24 - PROGRESS: at 19.73% examples, 529959 words/s, in_qsize 14, out_qsize 1\n",
      "2020-08-14 16:31:04,167 : INFO : EPOCH 24 - PROGRESS: at 26.77% examples, 541130 words/s, in_qsize 16, out_qsize 0\n",
      "2020-08-14 16:31:05,164 : INFO : EPOCH 24 - PROGRESS: at 32.41% examples, 525709 words/s, in_qsize 16, out_qsize 0\n",
      "2020-08-14 16:31:06,184 : INFO : EPOCH 24 - PROGRESS: at 39.33% examples, 531531 words/s, in_qsize 15, out_qsize 0\n",
      "2020-08-14 16:31:07,197 : INFO : EPOCH 24 - PROGRESS: at 46.35% examples, 536991 words/s, in_qsize 16, out_qsize 0\n",
      "2020-08-14 16:31:08,261 : INFO : EPOCH 24 - PROGRESS: at 53.05% examples, 534958 words/s, in_qsize 15, out_qsize 0\n",
      "2020-08-14 16:31:09,310 : INFO : EPOCH 24 - PROGRESS: at 60.30% examples, 539061 words/s, in_qsize 15, out_qsize 0\n",
      "2020-08-14 16:31:10,316 : INFO : EPOCH 24 - PROGRESS: at 68.10% examples, 548884 words/s, in_qsize 15, out_qsize 0\n",
      "2020-08-14 16:31:11,322 : INFO : EPOCH 24 - PROGRESS: at 74.92% examples, 549759 words/s, in_qsize 14, out_qsize 4\n",
      "2020-08-14 16:31:12,320 : INFO : EPOCH 24 - PROGRESS: at 82.53% examples, 555561 words/s, in_qsize 16, out_qsize 0\n",
      "2020-08-14 16:31:13,323 : INFO : EPOCH 24 - PROGRESS: at 89.56% examples, 557071 words/s, in_qsize 14, out_qsize 1\n",
      "2020-08-14 16:31:14,327 : INFO : EPOCH 24 - PROGRESS: at 96.75% examples, 558915 words/s, in_qsize 13, out_qsize 2\n"
     ]
    },
    {
     "name": "stderr",
     "output_type": "stream",
     "text": [
      "2020-08-14 16:31:14,659 : INFO : worker thread finished; awaiting finish of 7 more threads\n",
      "2020-08-14 16:31:14,664 : INFO : worker thread finished; awaiting finish of 6 more threads\n",
      "2020-08-14 16:31:14,664 : INFO : worker thread finished; awaiting finish of 5 more threads\n",
      "2020-08-14 16:31:14,672 : INFO : worker thread finished; awaiting finish of 4 more threads\n",
      "2020-08-14 16:31:14,681 : INFO : worker thread finished; awaiting finish of 3 more threads\n",
      "2020-08-14 16:31:14,707 : INFO : worker thread finished; awaiting finish of 2 more threads\n",
      "2020-08-14 16:31:14,710 : INFO : worker thread finished; awaiting finish of 1 more threads\n",
      "2020-08-14 16:31:14,721 : INFO : worker thread finished; awaiting finish of 0 more threads\n",
      "2020-08-14 16:31:14,723 : INFO : EPOCH - 24 : training on 9227204 raw words (8222441 effective words) took 14.6s, 562585 effective words/s\n",
      "2020-08-14 16:31:15,760 : INFO : EPOCH 25 - PROGRESS: at 5.76% examples, 461803 words/s, in_qsize 14, out_qsize 1\n",
      "2020-08-14 16:31:16,795 : INFO : EPOCH 25 - PROGRESS: at 13.14% examples, 521545 words/s, in_qsize 15, out_qsize 0\n",
      "2020-08-14 16:31:17,806 : INFO : EPOCH 25 - PROGRESS: at 20.48% examples, 548343 words/s, in_qsize 15, out_qsize 0\n",
      "2020-08-14 16:31:18,850 : INFO : EPOCH 25 - PROGRESS: at 27.86% examples, 556345 words/s, in_qsize 16, out_qsize 1\n",
      "2020-08-14 16:31:19,882 : INFO : EPOCH 25 - PROGRESS: at 35.10% examples, 560393 words/s, in_qsize 15, out_qsize 0\n",
      "2020-08-14 16:31:20,910 : INFO : EPOCH 25 - PROGRESS: at 42.68% examples, 568098 words/s, in_qsize 15, out_qsize 0\n",
      "2020-08-14 16:31:21,933 : INFO : EPOCH 25 - PROGRESS: at 50.02% examples, 571303 words/s, in_qsize 14, out_qsize 1\n",
      "2020-08-14 16:31:22,944 : INFO : EPOCH 25 - PROGRESS: at 57.27% examples, 574137 words/s, in_qsize 15, out_qsize 0\n",
      "2020-08-14 16:31:23,960 : INFO : EPOCH 25 - PROGRESS: at 64.19% examples, 572774 words/s, in_qsize 15, out_qsize 0\n",
      "2020-08-14 16:31:24,958 : INFO : EPOCH 25 - PROGRESS: at 71.12% examples, 572379 words/s, in_qsize 16, out_qsize 0\n",
      "2020-08-14 16:31:25,984 : INFO : EPOCH 25 - PROGRESS: at 78.62% examples, 575117 words/s, in_qsize 14, out_qsize 1\n",
      "2020-08-14 16:31:26,985 : INFO : EPOCH 25 - PROGRESS: at 86.21% examples, 578640 words/s, in_qsize 14, out_qsize 1\n",
      "2020-08-14 16:31:28,009 : INFO : EPOCH 25 - PROGRESS: at 93.26% examples, 577749 words/s, in_qsize 15, out_qsize 0\n",
      "2020-08-14 16:31:28,808 : INFO : worker thread finished; awaiting finish of 7 more threads\n",
      "2020-08-14 16:31:28,813 : INFO : worker thread finished; awaiting finish of 6 more threads\n",
      "2020-08-14 16:31:28,813 : INFO : worker thread finished; awaiting finish of 5 more threads\n",
      "2020-08-14 16:31:28,816 : INFO : worker thread finished; awaiting finish of 4 more threads\n",
      "2020-08-14 16:31:28,823 : INFO : worker thread finished; awaiting finish of 3 more threads\n",
      "2020-08-14 16:31:28,835 : INFO : worker thread finished; awaiting finish of 2 more threads\n",
      "2020-08-14 16:31:28,851 : INFO : worker thread finished; awaiting finish of 1 more threads\n",
      "2020-08-14 16:31:28,860 : INFO : worker thread finished; awaiting finish of 0 more threads\n",
      "2020-08-14 16:31:28,862 : INFO : EPOCH - 25 : training on 9227204 raw words (8222710 effective words) took 14.1s, 582301 effective words/s\n",
      "2020-08-14 16:31:29,894 : INFO : EPOCH 26 - PROGRESS: at 6.19% examples, 501863 words/s, in_qsize 16, out_qsize 0\n",
      "2020-08-14 16:31:30,891 : INFO : EPOCH 26 - PROGRESS: at 12.60% examples, 512552 words/s, in_qsize 15, out_qsize 0\n",
      "2020-08-14 16:31:31,900 : INFO : EPOCH 26 - PROGRESS: at 20.16% examples, 547958 words/s, in_qsize 16, out_qsize 0\n",
      "2020-08-14 16:31:32,912 : INFO : EPOCH 26 - PROGRESS: at 27.20% examples, 554228 words/s, in_qsize 13, out_qsize 2\n",
      "2020-08-14 16:31:33,908 : INFO : EPOCH 26 - PROGRESS: at 33.92% examples, 553698 words/s, in_qsize 15, out_qsize 0\n",
      "2020-08-14 16:31:34,916 : INFO : EPOCH 26 - PROGRESS: at 40.73% examples, 554865 words/s, in_qsize 15, out_qsize 0\n",
      "2020-08-14 16:31:35,962 : INFO : EPOCH 26 - PROGRESS: at 47.65% examples, 553673 words/s, in_qsize 16, out_qsize 0\n",
      "2020-08-14 16:31:36,977 : INFO : EPOCH 26 - PROGRESS: at 54.56% examples, 554672 words/s, in_qsize 15, out_qsize 0\n",
      "2020-08-14 16:31:37,996 : INFO : EPOCH 26 - PROGRESS: at 62.14% examples, 560711 words/s, in_qsize 16, out_qsize 0\n",
      "2020-08-14 16:31:39,017 : INFO : EPOCH 26 - PROGRESS: at 68.43% examples, 554759 words/s, in_qsize 15, out_qsize 0\n",
      "2020-08-14 16:31:40,032 : INFO : EPOCH 26 - PROGRESS: at 75.78% examples, 558889 words/s, in_qsize 14, out_qsize 1\n",
      "2020-08-14 16:31:41,056 : INFO : EPOCH 26 - PROGRESS: at 82.96% examples, 560017 words/s, in_qsize 15, out_qsize 0\n",
      "2020-08-14 16:31:42,061 : INFO : EPOCH 26 - PROGRESS: at 90.22% examples, 562531 words/s, in_qsize 15, out_qsize 0\n",
      "2020-08-14 16:31:43,063 : INFO : EPOCH 26 - PROGRESS: at 97.82% examples, 566697 words/s, in_qsize 15, out_qsize 0\n",
      "2020-08-14 16:31:43,246 : INFO : worker thread finished; awaiting finish of 7 more threads\n",
      "2020-08-14 16:31:43,269 : INFO : worker thread finished; awaiting finish of 6 more threads\n",
      "2020-08-14 16:31:43,273 : INFO : worker thread finished; awaiting finish of 5 more threads\n",
      "2020-08-14 16:31:43,274 : INFO : worker thread finished; awaiting finish of 4 more threads\n",
      "2020-08-14 16:31:43,299 : INFO : worker thread finished; awaiting finish of 3 more threads\n",
      "2020-08-14 16:31:43,301 : INFO : worker thread finished; awaiting finish of 2 more threads\n",
      "2020-08-14 16:31:43,309 : INFO : worker thread finished; awaiting finish of 1 more threads\n",
      "2020-08-14 16:31:43,320 : INFO : worker thread finished; awaiting finish of 0 more threads\n",
      "2020-08-14 16:31:43,323 : INFO : EPOCH - 26 : training on 9227204 raw words (8222734 effective words) took 14.4s, 569383 effective words/s\n",
      "2020-08-14 16:31:44,359 : INFO : EPOCH 27 - PROGRESS: at 6.18% examples, 501640 words/s, in_qsize 14, out_qsize 1\n",
      "2020-08-14 16:31:45,390 : INFO : EPOCH 27 - PROGRESS: at 13.57% examples, 548091 words/s, in_qsize 16, out_qsize 0\n",
      "2020-08-14 16:31:46,383 : INFO : EPOCH 27 - PROGRESS: at 20.70% examples, 559666 words/s, in_qsize 15, out_qsize 0\n",
      "2020-08-14 16:31:47,401 : INFO : EPOCH 27 - PROGRESS: at 28.07% examples, 570661 words/s, in_qsize 14, out_qsize 1\n",
      "2020-08-14 16:31:48,413 : INFO : EPOCH 27 - PROGRESS: at 35.00% examples, 568650 words/s, in_qsize 15, out_qsize 0\n",
      "2020-08-14 16:31:49,426 : INFO : EPOCH 27 - PROGRESS: at 41.80% examples, 566583 words/s, in_qsize 15, out_qsize 0\n",
      "2020-08-14 16:31:50,431 : INFO : EPOCH 27 - PROGRESS: at 48.62% examples, 565509 words/s, in_qsize 16, out_qsize 3\n",
      "2020-08-14 16:31:51,444 : INFO : EPOCH 27 - PROGRESS: at 55.86% examples, 567858 words/s, in_qsize 15, out_qsize 0\n",
      "2020-08-14 16:31:52,485 : INFO : EPOCH 27 - PROGRESS: at 63.00% examples, 567342 words/s, in_qsize 14, out_qsize 1\n",
      "2020-08-14 16:31:53,487 : INFO : EPOCH 27 - PROGRESS: at 69.61% examples, 564916 words/s, in_qsize 16, out_qsize 2\n",
      "2020-08-14 16:31:54,551 : INFO : EPOCH 27 - PROGRESS: at 77.31% examples, 567628 words/s, in_qsize 15, out_qsize 0\n",
      "2020-08-14 16:31:55,558 : INFO : EPOCH 27 - PROGRESS: at 84.80% examples, 571219 words/s, in_qsize 15, out_qsize 0\n",
      "2020-08-14 16:31:56,573 : INFO : EPOCH 27 - PROGRESS: at 91.42% examples, 568475 words/s, in_qsize 15, out_qsize 0\n",
      "2020-08-14 16:31:57,572 : INFO : EPOCH 27 - PROGRESS: at 98.80% examples, 571035 words/s, in_qsize 12, out_qsize 0\n",
      "2020-08-14 16:31:57,630 : INFO : worker thread finished; awaiting finish of 7 more threads\n",
      "2020-08-14 16:31:57,641 : INFO : worker thread finished; awaiting finish of 6 more threads\n",
      "2020-08-14 16:31:57,649 : INFO : worker thread finished; awaiting finish of 5 more threads\n",
      "2020-08-14 16:31:57,650 : INFO : worker thread finished; awaiting finish of 4 more threads\n",
      "2020-08-14 16:31:57,670 : INFO : worker thread finished; awaiting finish of 3 more threads\n",
      "2020-08-14 16:31:57,677 : INFO : worker thread finished; awaiting finish of 2 more threads\n",
      "2020-08-14 16:31:57,682 : INFO : worker thread finished; awaiting finish of 1 more threads\n",
      "2020-08-14 16:31:57,697 : INFO : worker thread finished; awaiting finish of 0 more threads\n",
      "2020-08-14 16:31:57,699 : INFO : EPOCH - 27 : training on 9227204 raw words (8222586 effective words) took 14.3s, 573382 effective words/s\n",
      "2020-08-14 16:31:58,726 : INFO : EPOCH 28 - PROGRESS: at 5.97% examples, 481514 words/s, in_qsize 14, out_qsize 1\n"
     ]
    },
    {
     "name": "stderr",
     "output_type": "stream",
     "text": [
      "2020-08-14 16:31:59,762 : INFO : EPOCH 28 - PROGRESS: at 13.14% examples, 527665 words/s, in_qsize 15, out_qsize 0\n",
      "2020-08-14 16:32:00,774 : INFO : EPOCH 28 - PROGRESS: at 19.84% examples, 533677 words/s, in_qsize 15, out_qsize 0\n",
      "2020-08-14 16:32:01,778 : INFO : EPOCH 28 - PROGRESS: at 27.10% examples, 547581 words/s, in_qsize 15, out_qsize 0\n",
      "2020-08-14 16:32:02,790 : INFO : EPOCH 28 - PROGRESS: at 34.24% examples, 554149 words/s, in_qsize 16, out_qsize 1\n",
      "2020-08-14 16:32:03,790 : INFO : EPOCH 28 - PROGRESS: at 41.59% examples, 562257 words/s, in_qsize 16, out_qsize 0\n",
      "2020-08-14 16:32:04,820 : INFO : EPOCH 28 - PROGRESS: at 48.30% examples, 559297 words/s, in_qsize 15, out_qsize 0\n",
      "2020-08-14 16:32:05,818 : INFO : EPOCH 28 - PROGRESS: at 55.42% examples, 562473 words/s, in_qsize 15, out_qsize 0\n",
      "2020-08-14 16:32:06,844 : INFO : EPOCH 28 - PROGRESS: at 62.68% examples, 565266 words/s, in_qsize 15, out_qsize 0\n",
      "2020-08-14 16:32:07,835 : INFO : EPOCH 28 - PROGRESS: at 69.83% examples, 567249 words/s, in_qsize 13, out_qsize 2\n",
      "2020-08-14 16:32:08,850 : INFO : EPOCH 28 - PROGRESS: at 77.20% examples, 570101 words/s, in_qsize 14, out_qsize 1\n",
      "2020-08-14 16:32:09,868 : INFO : EPOCH 28 - PROGRESS: at 84.15% examples, 569541 words/s, in_qsize 16, out_qsize 0\n",
      "2020-08-14 16:32:10,870 : INFO : EPOCH 28 - PROGRESS: at 91.20% examples, 569922 words/s, in_qsize 16, out_qsize 1\n",
      "2020-08-14 16:32:11,882 : INFO : EPOCH 28 - PROGRESS: at 98.58% examples, 572075 words/s, in_qsize 14, out_qsize 0\n",
      "2020-08-14 16:32:11,971 : INFO : worker thread finished; awaiting finish of 7 more threads\n",
      "2020-08-14 16:32:11,977 : INFO : worker thread finished; awaiting finish of 6 more threads\n",
      "2020-08-14 16:32:11,981 : INFO : worker thread finished; awaiting finish of 5 more threads\n",
      "2020-08-14 16:32:11,985 : INFO : worker thread finished; awaiting finish of 4 more threads\n",
      "2020-08-14 16:32:12,007 : INFO : worker thread finished; awaiting finish of 3 more threads\n",
      "2020-08-14 16:32:12,010 : INFO : worker thread finished; awaiting finish of 2 more threads\n",
      "2020-08-14 16:32:12,024 : INFO : worker thread finished; awaiting finish of 1 more threads\n",
      "2020-08-14 16:32:12,033 : INFO : worker thread finished; awaiting finish of 0 more threads\n",
      "2020-08-14 16:32:12,034 : INFO : EPOCH - 28 : training on 9227204 raw words (8222340 effective words) took 14.3s, 574355 effective words/s\n",
      "2020-08-14 16:32:13,129 : INFO : EPOCH 29 - PROGRESS: at 7.06% examples, 537131 words/s, in_qsize 16, out_qsize 0\n",
      "2020-08-14 16:32:14,134 : INFO : EPOCH 29 - PROGRESS: at 14.22% examples, 557644 words/s, in_qsize 14, out_qsize 1\n",
      "2020-08-14 16:32:15,152 : INFO : EPOCH 29 - PROGRESS: at 20.70% examples, 548213 words/s, in_qsize 15, out_qsize 0\n",
      "2020-08-14 16:32:16,171 : INFO : EPOCH 29 - PROGRESS: at 28.07% examples, 559464 words/s, in_qsize 14, out_qsize 1\n",
      "2020-08-14 16:32:17,218 : INFO : EPOCH 29 - PROGRESS: at 35.32% examples, 561245 words/s, in_qsize 15, out_qsize 0\n",
      "2020-08-14 16:32:18,242 : INFO : EPOCH 29 - PROGRESS: at 42.67% examples, 566664 words/s, in_qsize 15, out_qsize 0\n",
      "2020-08-14 16:32:19,255 : INFO : EPOCH 29 - PROGRESS: at 49.27% examples, 562424 words/s, in_qsize 15, out_qsize 0\n",
      "2020-08-14 16:32:20,284 : INFO : EPOCH 29 - PROGRESS: at 56.73% examples, 567011 words/s, in_qsize 15, out_qsize 0\n",
      "2020-08-14 16:32:21,302 : INFO : EPOCH 29 - PROGRESS: at 63.97% examples, 568924 words/s, in_qsize 16, out_qsize 1\n",
      "2020-08-14 16:32:22,338 : INFO : EPOCH 29 - PROGRESS: at 71.02% examples, 569040 words/s, in_qsize 16, out_qsize 0\n",
      "2020-08-14 16:32:23,333 : INFO : EPOCH 29 - PROGRESS: at 78.18% examples, 569712 words/s, in_qsize 12, out_qsize 3\n",
      "2020-08-14 16:32:24,346 : INFO : EPOCH 29 - PROGRESS: at 85.13% examples, 569373 words/s, in_qsize 16, out_qsize 3\n",
      "2020-08-14 16:32:25,353 : INFO : EPOCH 29 - PROGRESS: at 92.28% examples, 570625 words/s, in_qsize 14, out_qsize 1\n",
      "2020-08-14 16:32:26,272 : INFO : worker thread finished; awaiting finish of 7 more threads\n",
      "2020-08-14 16:32:26,274 : INFO : worker thread finished; awaiting finish of 6 more threads\n",
      "2020-08-14 16:32:26,279 : INFO : worker thread finished; awaiting finish of 5 more threads\n",
      "2020-08-14 16:32:26,301 : INFO : worker thread finished; awaiting finish of 4 more threads\n",
      "2020-08-14 16:32:26,303 : INFO : worker thread finished; awaiting finish of 3 more threads\n",
      "2020-08-14 16:32:26,307 : INFO : worker thread finished; awaiting finish of 2 more threads\n",
      "2020-08-14 16:32:26,317 : INFO : worker thread finished; awaiting finish of 1 more threads\n",
      "2020-08-14 16:32:26,320 : INFO : worker thread finished; awaiting finish of 0 more threads\n",
      "2020-08-14 16:32:26,320 : INFO : EPOCH - 29 : training on 9227204 raw words (8222448 effective words) took 14.3s, 576416 effective words/s\n",
      "2020-08-14 16:32:27,345 : INFO : EPOCH 30 - PROGRESS: at 6.08% examples, 498167 words/s, in_qsize 15, out_qsize 0\n",
      "2020-08-14 16:32:28,347 : INFO : EPOCH 30 - PROGRESS: at 13.04% examples, 532785 words/s, in_qsize 16, out_qsize 2\n",
      "2020-08-14 16:32:29,395 : INFO : EPOCH 30 - PROGRESS: at 19.40% examples, 521633 words/s, in_qsize 16, out_qsize 3\n",
      "2020-08-14 16:32:30,441 : INFO : EPOCH 30 - PROGRESS: at 26.89% examples, 537746 words/s, in_qsize 15, out_qsize 0\n",
      "2020-08-14 16:32:31,479 : INFO : EPOCH 30 - PROGRESS: at 33.81% examples, 540810 words/s, in_qsize 15, out_qsize 0\n",
      "2020-08-14 16:32:32,474 : INFO : EPOCH 30 - PROGRESS: at 40.94% examples, 548176 words/s, in_qsize 15, out_qsize 0\n",
      "2020-08-14 16:32:33,505 : INFO : EPOCH 30 - PROGRESS: at 47.86% examples, 549846 words/s, in_qsize 16, out_qsize 0\n",
      "2020-08-14 16:32:34,500 : INFO : EPOCH 30 - PROGRESS: at 54.89% examples, 552977 words/s, in_qsize 16, out_qsize 0\n",
      "2020-08-14 16:32:35,528 : INFO : EPOCH 30 - PROGRESS: at 62.03% examples, 555766 words/s, in_qsize 15, out_qsize 0\n",
      "2020-08-14 16:32:36,558 : INFO : EPOCH 30 - PROGRESS: at 69.29% examples, 558020 words/s, in_qsize 13, out_qsize 2\n",
      "2020-08-14 16:32:37,598 : INFO : EPOCH 30 - PROGRESS: at 76.88% examples, 561620 words/s, in_qsize 15, out_qsize 0\n",
      "2020-08-14 16:32:38,615 : INFO : EPOCH 30 - PROGRESS: at 84.37% examples, 565579 words/s, in_qsize 14, out_qsize 1\n",
      "2020-08-14 16:32:39,622 : INFO : EPOCH 30 - PROGRESS: at 92.17% examples, 570399 words/s, in_qsize 15, out_qsize 0\n",
      "2020-08-14 16:32:40,598 : INFO : worker thread finished; awaiting finish of 7 more threads\n",
      "2020-08-14 16:32:40,623 : INFO : worker thread finished; awaiting finish of 6 more threads\n",
      "2020-08-14 16:32:40,626 : INFO : worker thread finished; awaiting finish of 5 more threads\n",
      "2020-08-14 16:32:40,633 : INFO : worker thread finished; awaiting finish of 4 more threads\n",
      "2020-08-14 16:32:40,635 : INFO : worker thread finished; awaiting finish of 3 more threads\n",
      "2020-08-14 16:32:40,642 : INFO : EPOCH 30 - PROGRESS: at 99.78% examples, 573901 words/s, in_qsize 2, out_qsize 1\n",
      "2020-08-14 16:32:40,644 : INFO : worker thread finished; awaiting finish of 2 more threads\n",
      "2020-08-14 16:32:40,656 : INFO : worker thread finished; awaiting finish of 1 more threads\n",
      "2020-08-14 16:32:40,665 : INFO : worker thread finished; awaiting finish of 0 more threads\n",
      "2020-08-14 16:32:40,666 : INFO : EPOCH - 30 : training on 9227204 raw words (8223591 effective words) took 14.3s, 574162 effective words/s\n",
      "2020-08-14 16:32:41,709 : INFO : EPOCH 31 - PROGRESS: at 5.65% examples, 445152 words/s, in_qsize 15, out_qsize 0\n",
      "2020-08-14 16:32:42,713 : INFO : EPOCH 31 - PROGRESS: at 12.93% examples, 519324 words/s, in_qsize 13, out_qsize 2\n",
      "2020-08-14 16:32:43,760 : INFO : EPOCH 31 - PROGRESS: at 19.51% examples, 520226 words/s, in_qsize 15, out_qsize 0\n",
      "2020-08-14 16:32:44,804 : INFO : EPOCH 31 - PROGRESS: at 26.56% examples, 528485 words/s, in_qsize 15, out_qsize 0\n",
      "2020-08-14 16:32:45,811 : INFO : EPOCH 31 - PROGRESS: at 33.59% examples, 537776 words/s, in_qsize 15, out_qsize 0\n",
      "2020-08-14 16:32:46,835 : INFO : EPOCH 31 - PROGRESS: at 40.62% examples, 542202 words/s, in_qsize 13, out_qsize 2\n",
      "2020-08-14 16:32:47,842 : INFO : EPOCH 31 - PROGRESS: at 47.97% examples, 550267 words/s, in_qsize 14, out_qsize 1\n",
      "2020-08-14 16:32:48,853 : INFO : EPOCH 31 - PROGRESS: at 55.42% examples, 557638 words/s, in_qsize 16, out_qsize 1\n",
      "2020-08-14 16:32:49,869 : INFO : EPOCH 31 - PROGRESS: at 62.46% examples, 559296 words/s, in_qsize 14, out_qsize 1\n"
     ]
    },
    {
     "name": "stderr",
     "output_type": "stream",
     "text": [
      "2020-08-14 16:32:50,878 : INFO : EPOCH 31 - PROGRESS: at 69.61% examples, 561860 words/s, in_qsize 15, out_qsize 0\n",
      "2020-08-14 16:32:51,872 : INFO : EPOCH 31 - PROGRESS: at 76.33% examples, 560728 words/s, in_qsize 16, out_qsize 0\n",
      "2020-08-14 16:32:52,902 : INFO : EPOCH 31 - PROGRESS: at 83.62% examples, 562225 words/s, in_qsize 13, out_qsize 2\n",
      "2020-08-14 16:32:53,918 : INFO : EPOCH 31 - PROGRESS: at 90.76% examples, 563591 words/s, in_qsize 16, out_qsize 2\n",
      "2020-08-14 16:32:54,925 : INFO : EPOCH 31 - PROGRESS: at 97.61% examples, 563199 words/s, in_qsize 16, out_qsize 0\n",
      "2020-08-14 16:32:55,113 : INFO : worker thread finished; awaiting finish of 7 more threads\n",
      "2020-08-14 16:32:55,118 : INFO : worker thread finished; awaiting finish of 6 more threads\n",
      "2020-08-14 16:32:55,139 : INFO : worker thread finished; awaiting finish of 5 more threads\n",
      "2020-08-14 16:32:55,139 : INFO : worker thread finished; awaiting finish of 4 more threads\n",
      "2020-08-14 16:32:55,147 : INFO : worker thread finished; awaiting finish of 3 more threads\n",
      "2020-08-14 16:32:55,164 : INFO : worker thread finished; awaiting finish of 2 more threads\n",
      "2020-08-14 16:32:55,167 : INFO : worker thread finished; awaiting finish of 1 more threads\n",
      "2020-08-14 16:32:55,176 : INFO : worker thread finished; awaiting finish of 0 more threads\n",
      "2020-08-14 16:32:55,179 : INFO : EPOCH - 31 : training on 9227204 raw words (8222609 effective words) took 14.5s, 567212 effective words/s\n",
      "2020-08-14 16:32:56,196 : INFO : EPOCH 32 - PROGRESS: at 5.75% examples, 468541 words/s, in_qsize 15, out_qsize 0\n",
      "2020-08-14 16:32:57,198 : INFO : EPOCH 32 - PROGRESS: at 12.93% examples, 527708 words/s, in_qsize 15, out_qsize 0\n",
      "2020-08-14 16:32:58,204 : INFO : EPOCH 32 - PROGRESS: at 20.05% examples, 547376 words/s, in_qsize 15, out_qsize 0\n",
      "2020-08-14 16:32:59,220 : INFO : EPOCH 32 - PROGRESS: at 27.42% examples, 557878 words/s, in_qsize 15, out_qsize 0\n",
      "2020-08-14 16:33:00,295 : INFO : EPOCH 32 - PROGRESS: at 34.46% examples, 555140 words/s, in_qsize 16, out_qsize 3\n",
      "2020-08-14 16:33:01,285 : INFO : EPOCH 32 - PROGRESS: at 41.48% examples, 558937 words/s, in_qsize 15, out_qsize 0\n",
      "2020-08-14 16:33:02,334 : INFO : EPOCH 32 - PROGRESS: at 48.51% examples, 558290 words/s, in_qsize 15, out_qsize 0\n",
      "2020-08-14 16:33:03,345 : INFO : EPOCH 32 - PROGRESS: at 55.53% examples, 560509 words/s, in_qsize 13, out_qsize 2\n",
      "2020-08-14 16:33:04,353 : INFO : EPOCH 32 - PROGRESS: at 62.46% examples, 560888 words/s, in_qsize 15, out_qsize 0\n",
      "2020-08-14 16:33:05,377 : INFO : EPOCH 32 - PROGRESS: at 69.61% examples, 562549 words/s, in_qsize 15, out_qsize 0\n",
      "2020-08-14 16:33:06,403 : INFO : EPOCH 32 - PROGRESS: at 76.55% examples, 561924 words/s, in_qsize 15, out_qsize 0\n",
      "2020-08-14 16:33:07,406 : INFO : EPOCH 32 - PROGRESS: at 83.72% examples, 563732 words/s, in_qsize 15, out_qsize 0\n",
      "2020-08-14 16:33:08,441 : INFO : EPOCH 32 - PROGRESS: at 90.98% examples, 564732 words/s, in_qsize 16, out_qsize 0\n",
      "2020-08-14 16:33:09,473 : INFO : EPOCH 32 - PROGRESS: at 98.79% examples, 568756 words/s, in_qsize 11, out_qsize 1\n",
      "2020-08-14 16:33:09,529 : INFO : worker thread finished; awaiting finish of 7 more threads\n",
      "2020-08-14 16:33:09,542 : INFO : worker thread finished; awaiting finish of 6 more threads\n",
      "2020-08-14 16:33:09,552 : INFO : worker thread finished; awaiting finish of 5 more threads\n",
      "2020-08-14 16:33:09,556 : INFO : worker thread finished; awaiting finish of 4 more threads\n",
      "2020-08-14 16:33:09,581 : INFO : worker thread finished; awaiting finish of 3 more threads\n",
      "2020-08-14 16:33:09,587 : INFO : worker thread finished; awaiting finish of 2 more threads\n",
      "2020-08-14 16:33:09,588 : INFO : worker thread finished; awaiting finish of 1 more threads\n",
      "2020-08-14 16:33:09,594 : INFO : worker thread finished; awaiting finish of 0 more threads\n",
      "2020-08-14 16:33:09,596 : INFO : EPOCH - 32 : training on 9227204 raw words (8223159 effective words) took 14.4s, 571050 effective words/s\n",
      "2020-08-14 16:33:09,597 : INFO : training on a 295270528 raw words (263124591 effective words) took 460.9s, 570930 effective words/s\n"
     ]
    },
    {
     "name": "stdout",
     "output_type": "stream",
     "text": [
      "Wall time: 7min 40s\n"
     ]
    },
    {
     "data": {
      "text/plain": [
       "(263124591, 295270528)"
      ]
     },
     "execution_count": 18,
     "metadata": {},
     "output_type": "execute_result"
    }
   ],
   "source": [
    "%%time\n",
    "w2v_model.train(documents, total_examples=len(documents), epochs=W2V_EPOCH)"
   ]
  },
  {
   "cell_type": "code",
   "execution_count": 19,
   "metadata": {},
   "outputs": [
    {
     "name": "stderr",
     "output_type": "stream",
     "text": [
      "c:\\users\\yoges\\pycharmprojects\\tweetsenti\\venv\\lib\\site-packages\\ipykernel_launcher.py:1: DeprecationWarning: Call to deprecated `most_similar` (Method will be removed in 4.0.0, use self.wv.most_similar() instead).\n",
      "  \"\"\"Entry point for launching an IPython kernel.\n",
      "2020-08-14 16:33:24,105 : INFO : precomputing L2-norms of word weight vectors\n"
     ]
    },
    {
     "data": {
      "text/plain": [
       "[('fantastic', 0.7194418907165527),\n",
       " ('good', 0.6982159614562988),\n",
       " ('wonderful', 0.6960442066192627),\n",
       " ('awesome', 0.6814688444137573),\n",
       " ('amazing', 0.6574661731719971),\n",
       " ('fab', 0.6134650111198425),\n",
       " ('fabulous', 0.6126446723937988),\n",
       " ('excellent', 0.5731711387634277),\n",
       " ('nice', 0.5721452236175537),\n",
       " ('gr8', 0.5631394386291504)]"
      ]
     },
     "execution_count": 19,
     "metadata": {},
     "output_type": "execute_result"
    }
   ],
   "source": [
    "w2v_model.most_similar(\"great\")"
   ]
  },
  {
   "cell_type": "markdown",
   "metadata": {},
   "source": [
    "Tokenize Text"
   ]
  },
  {
   "cell_type": "code",
   "execution_count": 20,
   "metadata": {},
   "outputs": [
    {
     "name": "stdout",
     "output_type": "stream",
     "text": [
      "Total words 290419\n",
      "Wall time: 33.6 s\n"
     ]
    }
   ],
   "source": [
    "%%time\n",
    "tokenizer = Tokenizer()\n",
    "tokenizer.fit_on_texts(df_train.text)\n",
    "\n",
    "vocab_size = len(tokenizer.word_index) + 1\n",
    "print(\"Total words\", vocab_size)"
   ]
  },
  {
   "cell_type": "code",
   "execution_count": 21,
   "metadata": {},
   "outputs": [
    {
     "name": "stdout",
     "output_type": "stream",
     "text": [
      "Wall time: 49.2 s\n"
     ]
    }
   ],
   "source": [
    "%%time\n",
    "x_train = pad_sequences(tokenizer.texts_to_sequences(df_train.text), maxlen=SEQUENCE_LENGTH)\n",
    "x_test = pad_sequences(tokenizer.texts_to_sequences(df_test.text), maxlen=SEQUENCE_LENGTH)"
   ]
  },
  {
   "cell_type": "markdown",
   "metadata": {},
   "source": [
    "Label Encoder"
   ]
  },
  {
   "cell_type": "code",
   "execution_count": 22,
   "metadata": {},
   "outputs": [
    {
     "data": {
      "text/plain": [
       "['POSITIVE', 'NEGATIVE', 'NEUTRAL']"
      ]
     },
     "execution_count": 22,
     "metadata": {},
     "output_type": "execute_result"
    }
   ],
   "source": [
    "labels = df_train.target.unique().tolist()\n",
    "labels.append(NEUTRAL)\n",
    "labels"
   ]
  },
  {
   "cell_type": "code",
   "execution_count": 23,
   "metadata": {},
   "outputs": [
    {
     "name": "stdout",
     "output_type": "stream",
     "text": [
      "y_train (1280000, 1)\n",
      "y_test (320000, 1)\n"
     ]
    }
   ],
   "source": [
    "encoder = LabelEncoder()\n",
    "encoder.fit(df_train.target.tolist())\n",
    "\n",
    "y_train = encoder.transform(df_train.target.tolist())\n",
    "y_test = encoder.transform(df_test.target.tolist())\n",
    "\n",
    "y_train = y_train.reshape(-1,1)\n",
    "y_test = y_test.reshape(-1,1)\n",
    "\n",
    "print(\"y_train\",y_train.shape)\n",
    "print(\"y_test\",y_test.shape)"
   ]
  },
  {
   "cell_type": "code",
   "execution_count": 24,
   "metadata": {},
   "outputs": [
    {
     "name": "stdout",
     "output_type": "stream",
     "text": [
      "x_train (1280000, 300)\n",
      "y_train (1280000, 1)\n",
      "\n",
      "x_test (320000, 300)\n",
      "y_test (320000, 1)\n"
     ]
    }
   ],
   "source": [
    "print(\"x_train\", x_train.shape)\n",
    "print(\"y_train\", y_train.shape)\n",
    "print()\n",
    "print(\"x_test\", x_test.shape)\n",
    "print(\"y_test\", y_test.shape)"
   ]
  },
  {
   "cell_type": "code",
   "execution_count": 25,
   "metadata": {},
   "outputs": [
    {
     "data": {
      "text/plain": [
       "array([[1],\n",
       "       [1],\n",
       "       [1],\n",
       "       [0],\n",
       "       [1],\n",
       "       [1],\n",
       "       [1],\n",
       "       [1],\n",
       "       [1],\n",
       "       [1]], dtype=int64)"
      ]
     },
     "execution_count": 25,
     "metadata": {},
     "output_type": "execute_result"
    }
   ],
   "source": [
    "y_train[:10]"
   ]
  },
  {
   "cell_type": "markdown",
   "metadata": {},
   "source": [
    "Embedding Layer"
   ]
  },
  {
   "cell_type": "code",
   "execution_count": 26,
   "metadata": {},
   "outputs": [
    {
     "name": "stdout",
     "output_type": "stream",
     "text": [
      "(290419, 300)\n"
     ]
    }
   ],
   "source": [
    "embedding_matrix = np.zeros((vocab_size, W2V_SIZE))\n",
    "for word, i in tokenizer.word_index.items():\n",
    "  if word in w2v_model.wv:\n",
    "    embedding_matrix[i] = w2v_model.wv[word]\n",
    "print(embedding_matrix.shape)"
   ]
  },
  {
   "cell_type": "code",
   "execution_count": 27,
   "metadata": {},
   "outputs": [],
   "source": [
    "embedding_layer = Embedding(vocab_size, W2V_SIZE, weights=[embedding_matrix], input_length=SEQUENCE_LENGTH, trainable=False)"
   ]
  },
  {
   "cell_type": "markdown",
   "metadata": {},
   "source": [
    "Build Model"
   ]
  },
  {
   "cell_type": "code",
   "execution_count": 28,
   "metadata": {},
   "outputs": [
    {
     "name": "stdout",
     "output_type": "stream",
     "text": [
      "Model: \"sequential\"\n",
      "_________________________________________________________________\n",
      "Layer (type)                 Output Shape              Param #   \n",
      "=================================================================\n",
      "embedding (Embedding)        (None, 300, 300)          87125700  \n",
      "_________________________________________________________________\n",
      "dropout (Dropout)            (None, 300, 300)          0         \n",
      "_________________________________________________________________\n",
      "lstm (LSTM)                  (None, 100)               160400    \n",
      "_________________________________________________________________\n",
      "dense (Dense)                (None, 1)                 101       \n",
      "=================================================================\n",
      "Total params: 87,286,201\n",
      "Trainable params: 160,501\n",
      "Non-trainable params: 87,125,700\n",
      "_________________________________________________________________\n"
     ]
    }
   ],
   "source": [
    "model = Sequential()\n",
    "model.add(embedding_layer)\n",
    "model.add(Dropout(0.5))\n",
    "model.add(LSTM(100, dropout=0.2, recurrent_dropout=0.2))\n",
    "model.add(Dense(1, activation='sigmoid'))\n",
    "\n",
    "model.summary()"
   ]
  },
  {
   "cell_type": "markdown",
   "metadata": {},
   "source": [
    "Compile Model"
   ]
  },
  {
   "cell_type": "code",
   "execution_count": 29,
   "metadata": {},
   "outputs": [],
   "source": [
    "model.compile(loss='binary_crossentropy',\n",
    "              optimizer=\"adam\",\n",
    "              metrics=['accuracy'])"
   ]
  },
  {
   "cell_type": "markdown",
   "metadata": {},
   "source": [
    "Callbacks"
   ]
  },
  {
   "cell_type": "code",
   "execution_count": 30,
   "metadata": {},
   "outputs": [],
   "source": [
    "callbacks = [ReduceLROnPlateau(monitor='val_loss', patience=5, cooldown=0),\n",
    "              EarlyStopping(monitor='val_acc', min_delta=1e-4, patience=5)]"
   ]
  },
  {
   "cell_type": "markdown",
   "metadata": {},
   "source": [
    "Training"
   ]
  },
  {
   "cell_type": "code",
   "execution_count": 33,
   "metadata": {},
   "outputs": [
    {
     "name": "stdout",
     "output_type": "stream",
     "text": [
      " 15/141 [==>...........................] - ETA: 5:15:27 - loss: 0.5924 - accuracy: 0.6806"
     ]
    },
    {
     "ename": "KeyboardInterrupt",
     "evalue": "",
     "output_type": "error",
     "traceback": [
      "\u001b[1;31m---------------------------------------------------------------------------\u001b[0m",
      "\u001b[1;31mKeyboardInterrupt\u001b[0m                         Traceback (most recent call last)",
      "\u001b[1;32m<timed exec>\u001b[0m in \u001b[0;36m<module>\u001b[1;34m\u001b[0m\n",
      "\u001b[1;32mc:\\users\\yoges\\pycharmprojects\\tweetsenti\\venv\\lib\\site-packages\\tensorflow\\python\\keras\\engine\\training.py\u001b[0m in \u001b[0;36m_method_wrapper\u001b[1;34m(self, *args, **kwargs)\u001b[0m\n\u001b[0;32m    106\u001b[0m   \u001b[1;32mdef\u001b[0m \u001b[0m_method_wrapper\u001b[0m\u001b[1;33m(\u001b[0m\u001b[0mself\u001b[0m\u001b[1;33m,\u001b[0m \u001b[1;33m*\u001b[0m\u001b[0margs\u001b[0m\u001b[1;33m,\u001b[0m \u001b[1;33m**\u001b[0m\u001b[0mkwargs\u001b[0m\u001b[1;33m)\u001b[0m\u001b[1;33m:\u001b[0m\u001b[1;33m\u001b[0m\u001b[1;33m\u001b[0m\u001b[0m\n\u001b[0;32m    107\u001b[0m     \u001b[1;32mif\u001b[0m \u001b[1;32mnot\u001b[0m \u001b[0mself\u001b[0m\u001b[1;33m.\u001b[0m\u001b[0m_in_multi_worker_mode\u001b[0m\u001b[1;33m(\u001b[0m\u001b[1;33m)\u001b[0m\u001b[1;33m:\u001b[0m  \u001b[1;31m# pylint: disable=protected-access\u001b[0m\u001b[1;33m\u001b[0m\u001b[1;33m\u001b[0m\u001b[0m\n\u001b[1;32m--> 108\u001b[1;33m       \u001b[1;32mreturn\u001b[0m \u001b[0mmethod\u001b[0m\u001b[1;33m(\u001b[0m\u001b[0mself\u001b[0m\u001b[1;33m,\u001b[0m \u001b[1;33m*\u001b[0m\u001b[0margs\u001b[0m\u001b[1;33m,\u001b[0m \u001b[1;33m**\u001b[0m\u001b[0mkwargs\u001b[0m\u001b[1;33m)\u001b[0m\u001b[1;33m\u001b[0m\u001b[1;33m\u001b[0m\u001b[0m\n\u001b[0m\u001b[0;32m    109\u001b[0m \u001b[1;33m\u001b[0m\u001b[0m\n\u001b[0;32m    110\u001b[0m     \u001b[1;31m# Running inside `run_distribute_coordinator` already.\u001b[0m\u001b[1;33m\u001b[0m\u001b[1;33m\u001b[0m\u001b[1;33m\u001b[0m\u001b[0m\n",
      "\u001b[1;32mc:\\users\\yoges\\pycharmprojects\\tweetsenti\\venv\\lib\\site-packages\\tensorflow\\python\\keras\\engine\\training.py\u001b[0m in \u001b[0;36mfit\u001b[1;34m(self, x, y, batch_size, epochs, verbose, callbacks, validation_split, validation_data, shuffle, class_weight, sample_weight, initial_epoch, steps_per_epoch, validation_steps, validation_batch_size, validation_freq, max_queue_size, workers, use_multiprocessing)\u001b[0m\n\u001b[0;32m   1096\u001b[0m                 batch_size=batch_size):\n\u001b[0;32m   1097\u001b[0m               \u001b[0mcallbacks\u001b[0m\u001b[1;33m.\u001b[0m\u001b[0mon_train_batch_begin\u001b[0m\u001b[1;33m(\u001b[0m\u001b[0mstep\u001b[0m\u001b[1;33m)\u001b[0m\u001b[1;33m\u001b[0m\u001b[1;33m\u001b[0m\u001b[0m\n\u001b[1;32m-> 1098\u001b[1;33m               \u001b[0mtmp_logs\u001b[0m \u001b[1;33m=\u001b[0m \u001b[0mtrain_function\u001b[0m\u001b[1;33m(\u001b[0m\u001b[0miterator\u001b[0m\u001b[1;33m)\u001b[0m\u001b[1;33m\u001b[0m\u001b[1;33m\u001b[0m\u001b[0m\n\u001b[0m\u001b[0;32m   1099\u001b[0m               \u001b[1;32mif\u001b[0m \u001b[0mdata_handler\u001b[0m\u001b[1;33m.\u001b[0m\u001b[0mshould_sync\u001b[0m\u001b[1;33m:\u001b[0m\u001b[1;33m\u001b[0m\u001b[1;33m\u001b[0m\u001b[0m\n\u001b[0;32m   1100\u001b[0m                 \u001b[0mcontext\u001b[0m\u001b[1;33m.\u001b[0m\u001b[0masync_wait\u001b[0m\u001b[1;33m(\u001b[0m\u001b[1;33m)\u001b[0m\u001b[1;33m\u001b[0m\u001b[1;33m\u001b[0m\u001b[0m\n",
      "\u001b[1;32mc:\\users\\yoges\\pycharmprojects\\tweetsenti\\venv\\lib\\site-packages\\tensorflow\\python\\eager\\def_function.py\u001b[0m in \u001b[0;36m__call__\u001b[1;34m(self, *args, **kwds)\u001b[0m\n\u001b[0;32m    778\u001b[0m       \u001b[1;32melse\u001b[0m\u001b[1;33m:\u001b[0m\u001b[1;33m\u001b[0m\u001b[1;33m\u001b[0m\u001b[0m\n\u001b[0;32m    779\u001b[0m         \u001b[0mcompiler\u001b[0m \u001b[1;33m=\u001b[0m \u001b[1;34m\"nonXla\"\u001b[0m\u001b[1;33m\u001b[0m\u001b[1;33m\u001b[0m\u001b[0m\n\u001b[1;32m--> 780\u001b[1;33m         \u001b[0mresult\u001b[0m \u001b[1;33m=\u001b[0m \u001b[0mself\u001b[0m\u001b[1;33m.\u001b[0m\u001b[0m_call\u001b[0m\u001b[1;33m(\u001b[0m\u001b[1;33m*\u001b[0m\u001b[0margs\u001b[0m\u001b[1;33m,\u001b[0m \u001b[1;33m**\u001b[0m\u001b[0mkwds\u001b[0m\u001b[1;33m)\u001b[0m\u001b[1;33m\u001b[0m\u001b[1;33m\u001b[0m\u001b[0m\n\u001b[0m\u001b[0;32m    781\u001b[0m \u001b[1;33m\u001b[0m\u001b[0m\n\u001b[0;32m    782\u001b[0m       \u001b[0mnew_tracing_count\u001b[0m \u001b[1;33m=\u001b[0m \u001b[0mself\u001b[0m\u001b[1;33m.\u001b[0m\u001b[0m_get_tracing_count\u001b[0m\u001b[1;33m(\u001b[0m\u001b[1;33m)\u001b[0m\u001b[1;33m\u001b[0m\u001b[1;33m\u001b[0m\u001b[0m\n",
      "\u001b[1;32mc:\\users\\yoges\\pycharmprojects\\tweetsenti\\venv\\lib\\site-packages\\tensorflow\\python\\eager\\def_function.py\u001b[0m in \u001b[0;36m_call\u001b[1;34m(self, *args, **kwds)\u001b[0m\n\u001b[0;32m    805\u001b[0m       \u001b[1;31m# In this case we have created variables on the first call, so we run the\u001b[0m\u001b[1;33m\u001b[0m\u001b[1;33m\u001b[0m\u001b[1;33m\u001b[0m\u001b[0m\n\u001b[0;32m    806\u001b[0m       \u001b[1;31m# defunned version which is guaranteed to never create variables.\u001b[0m\u001b[1;33m\u001b[0m\u001b[1;33m\u001b[0m\u001b[1;33m\u001b[0m\u001b[0m\n\u001b[1;32m--> 807\u001b[1;33m       \u001b[1;32mreturn\u001b[0m \u001b[0mself\u001b[0m\u001b[1;33m.\u001b[0m\u001b[0m_stateless_fn\u001b[0m\u001b[1;33m(\u001b[0m\u001b[1;33m*\u001b[0m\u001b[0margs\u001b[0m\u001b[1;33m,\u001b[0m \u001b[1;33m**\u001b[0m\u001b[0mkwds\u001b[0m\u001b[1;33m)\u001b[0m  \u001b[1;31m# pylint: disable=not-callable\u001b[0m\u001b[1;33m\u001b[0m\u001b[1;33m\u001b[0m\u001b[0m\n\u001b[0m\u001b[0;32m    808\u001b[0m     \u001b[1;32melif\u001b[0m \u001b[0mself\u001b[0m\u001b[1;33m.\u001b[0m\u001b[0m_stateful_fn\u001b[0m \u001b[1;32mis\u001b[0m \u001b[1;32mnot\u001b[0m \u001b[1;32mNone\u001b[0m\u001b[1;33m:\u001b[0m\u001b[1;33m\u001b[0m\u001b[1;33m\u001b[0m\u001b[0m\n\u001b[0;32m    809\u001b[0m       \u001b[1;31m# Release the lock early so that multiple threads can perform the call\u001b[0m\u001b[1;33m\u001b[0m\u001b[1;33m\u001b[0m\u001b[1;33m\u001b[0m\u001b[0m\n",
      "\u001b[1;32mc:\\users\\yoges\\pycharmprojects\\tweetsenti\\venv\\lib\\site-packages\\tensorflow\\python\\eager\\function.py\u001b[0m in \u001b[0;36m__call__\u001b[1;34m(self, *args, **kwargs)\u001b[0m\n\u001b[0;32m   2827\u001b[0m     \u001b[1;32mwith\u001b[0m \u001b[0mself\u001b[0m\u001b[1;33m.\u001b[0m\u001b[0m_lock\u001b[0m\u001b[1;33m:\u001b[0m\u001b[1;33m\u001b[0m\u001b[1;33m\u001b[0m\u001b[0m\n\u001b[0;32m   2828\u001b[0m       \u001b[0mgraph_function\u001b[0m\u001b[1;33m,\u001b[0m \u001b[0margs\u001b[0m\u001b[1;33m,\u001b[0m \u001b[0mkwargs\u001b[0m \u001b[1;33m=\u001b[0m \u001b[0mself\u001b[0m\u001b[1;33m.\u001b[0m\u001b[0m_maybe_define_function\u001b[0m\u001b[1;33m(\u001b[0m\u001b[0margs\u001b[0m\u001b[1;33m,\u001b[0m \u001b[0mkwargs\u001b[0m\u001b[1;33m)\u001b[0m\u001b[1;33m\u001b[0m\u001b[1;33m\u001b[0m\u001b[0m\n\u001b[1;32m-> 2829\u001b[1;33m     \u001b[1;32mreturn\u001b[0m \u001b[0mgraph_function\u001b[0m\u001b[1;33m.\u001b[0m\u001b[0m_filtered_call\u001b[0m\u001b[1;33m(\u001b[0m\u001b[0margs\u001b[0m\u001b[1;33m,\u001b[0m \u001b[0mkwargs\u001b[0m\u001b[1;33m)\u001b[0m  \u001b[1;31m# pylint: disable=protected-access\u001b[0m\u001b[1;33m\u001b[0m\u001b[1;33m\u001b[0m\u001b[0m\n\u001b[0m\u001b[0;32m   2830\u001b[0m \u001b[1;33m\u001b[0m\u001b[0m\n\u001b[0;32m   2831\u001b[0m   \u001b[1;33m@\u001b[0m\u001b[0mproperty\u001b[0m\u001b[1;33m\u001b[0m\u001b[1;33m\u001b[0m\u001b[0m\n",
      "\u001b[1;32mc:\\users\\yoges\\pycharmprojects\\tweetsenti\\venv\\lib\\site-packages\\tensorflow\\python\\eager\\function.py\u001b[0m in \u001b[0;36m_filtered_call\u001b[1;34m(self, args, kwargs, cancellation_manager)\u001b[0m\n\u001b[0;32m   1846\u001b[0m                            resource_variable_ops.BaseResourceVariable))],\n\u001b[0;32m   1847\u001b[0m         \u001b[0mcaptured_inputs\u001b[0m\u001b[1;33m=\u001b[0m\u001b[0mself\u001b[0m\u001b[1;33m.\u001b[0m\u001b[0mcaptured_inputs\u001b[0m\u001b[1;33m,\u001b[0m\u001b[1;33m\u001b[0m\u001b[1;33m\u001b[0m\u001b[0m\n\u001b[1;32m-> 1848\u001b[1;33m         cancellation_manager=cancellation_manager)\n\u001b[0m\u001b[0;32m   1849\u001b[0m \u001b[1;33m\u001b[0m\u001b[0m\n\u001b[0;32m   1850\u001b[0m   \u001b[1;32mdef\u001b[0m \u001b[0m_call_flat\u001b[0m\u001b[1;33m(\u001b[0m\u001b[0mself\u001b[0m\u001b[1;33m,\u001b[0m \u001b[0margs\u001b[0m\u001b[1;33m,\u001b[0m \u001b[0mcaptured_inputs\u001b[0m\u001b[1;33m,\u001b[0m \u001b[0mcancellation_manager\u001b[0m\u001b[1;33m=\u001b[0m\u001b[1;32mNone\u001b[0m\u001b[1;33m)\u001b[0m\u001b[1;33m:\u001b[0m\u001b[1;33m\u001b[0m\u001b[1;33m\u001b[0m\u001b[0m\n",
      "\u001b[1;32mc:\\users\\yoges\\pycharmprojects\\tweetsenti\\venv\\lib\\site-packages\\tensorflow\\python\\eager\\function.py\u001b[0m in \u001b[0;36m_call_flat\u001b[1;34m(self, args, captured_inputs, cancellation_manager)\u001b[0m\n\u001b[0;32m   1922\u001b[0m       \u001b[1;31m# No tape is watching; skip to running the function.\u001b[0m\u001b[1;33m\u001b[0m\u001b[1;33m\u001b[0m\u001b[1;33m\u001b[0m\u001b[0m\n\u001b[0;32m   1923\u001b[0m       return self._build_call_outputs(self._inference_function.call(\n\u001b[1;32m-> 1924\u001b[1;33m           ctx, args, cancellation_manager=cancellation_manager))\n\u001b[0m\u001b[0;32m   1925\u001b[0m     forward_backward = self._select_forward_and_backward_functions(\n\u001b[0;32m   1926\u001b[0m         \u001b[0margs\u001b[0m\u001b[1;33m,\u001b[0m\u001b[1;33m\u001b[0m\u001b[1;33m\u001b[0m\u001b[0m\n",
      "\u001b[1;32mc:\\users\\yoges\\pycharmprojects\\tweetsenti\\venv\\lib\\site-packages\\tensorflow\\python\\eager\\function.py\u001b[0m in \u001b[0;36mcall\u001b[1;34m(self, ctx, args, cancellation_manager)\u001b[0m\n\u001b[0;32m    548\u001b[0m               \u001b[0minputs\u001b[0m\u001b[1;33m=\u001b[0m\u001b[0margs\u001b[0m\u001b[1;33m,\u001b[0m\u001b[1;33m\u001b[0m\u001b[1;33m\u001b[0m\u001b[0m\n\u001b[0;32m    549\u001b[0m               \u001b[0mattrs\u001b[0m\u001b[1;33m=\u001b[0m\u001b[0mattrs\u001b[0m\u001b[1;33m,\u001b[0m\u001b[1;33m\u001b[0m\u001b[1;33m\u001b[0m\u001b[0m\n\u001b[1;32m--> 550\u001b[1;33m               ctx=ctx)\n\u001b[0m\u001b[0;32m    551\u001b[0m         \u001b[1;32melse\u001b[0m\u001b[1;33m:\u001b[0m\u001b[1;33m\u001b[0m\u001b[1;33m\u001b[0m\u001b[0m\n\u001b[0;32m    552\u001b[0m           outputs = execute.execute_with_cancellation(\n",
      "\u001b[1;32mc:\\users\\yoges\\pycharmprojects\\tweetsenti\\venv\\lib\\site-packages\\tensorflow\\python\\eager\\execute.py\u001b[0m in \u001b[0;36mquick_execute\u001b[1;34m(op_name, num_outputs, inputs, attrs, ctx, name)\u001b[0m\n\u001b[0;32m     58\u001b[0m     \u001b[0mctx\u001b[0m\u001b[1;33m.\u001b[0m\u001b[0mensure_initialized\u001b[0m\u001b[1;33m(\u001b[0m\u001b[1;33m)\u001b[0m\u001b[1;33m\u001b[0m\u001b[1;33m\u001b[0m\u001b[0m\n\u001b[0;32m     59\u001b[0m     tensors = pywrap_tfe.TFE_Py_Execute(ctx._handle, device_name, op_name,\n\u001b[1;32m---> 60\u001b[1;33m                                         inputs, attrs, num_outputs)\n\u001b[0m\u001b[0;32m     61\u001b[0m   \u001b[1;32mexcept\u001b[0m \u001b[0mcore\u001b[0m\u001b[1;33m.\u001b[0m\u001b[0m_NotOkStatusException\u001b[0m \u001b[1;32mas\u001b[0m \u001b[0me\u001b[0m\u001b[1;33m:\u001b[0m\u001b[1;33m\u001b[0m\u001b[1;33m\u001b[0m\u001b[0m\n\u001b[0;32m     62\u001b[0m     \u001b[1;32mif\u001b[0m \u001b[0mname\u001b[0m \u001b[1;32mis\u001b[0m \u001b[1;32mnot\u001b[0m \u001b[1;32mNone\u001b[0m\u001b[1;33m:\u001b[0m\u001b[1;33m\u001b[0m\u001b[1;33m\u001b[0m\u001b[0m\n",
      "\u001b[1;31mKeyboardInterrupt\u001b[0m: "
     ]
    }
   ],
   "source": [
    "%%time\n",
    "history = model.fit(x_train, y_train,\n",
    "                    batch_size=BATCH_SIZE,\n",
    "                    epochs=EPOCHS,\n",
    "                    validation_split=0.1,\n",
    "                    verbose=1,\n",
    "                    callbacks=callbacks)"
   ]
  },
  {
   "cell_type": "markdown",
   "metadata": {},
   "source": [
    "Evaluate"
   ]
  },
  {
   "cell_type": "code",
   "execution_count": 34,
   "metadata": {},
   "outputs": [
    {
     "name": "stdout",
     "output_type": "stream",
     "text": [
      "40/40 [==============================] - 440s 11s/step - loss: 0.5437 - accuracy: 0.7324\n",
      "\n",
      "ACCURACY: 0.7324437499046326\n",
      "LOSS: 0.5437046885490417\n",
      "Wall time: 7min 30s\n"
     ]
    }
   ],
   "source": [
    "%%time\n",
    "score = model.evaluate(x_test, y_test, batch_size=BATCH_SIZE)\n",
    "print()\n",
    "print(\"ACCURACY:\",score[1])\n",
    "print(\"LOSS:\",score[0])"
   ]
  },
  {
   "cell_type": "code",
   "execution_count": null,
   "metadata": {},
   "outputs": [],
   "source": [
    "acc = history.history['acc']\n",
    "val_acc = history.history['val_acc']\n",
    "loss = history.history['loss']\n",
    "val_loss = history.history['val_loss']\n",
    " \n",
    "epochs = range(len(acc))\n",
    " \n",
    "plt.plot(epochs, acc, 'b', label='Training acc')\n",
    "plt.plot(epochs, val_acc, 'r', label='Validation acc')\n",
    "plt.title('Training and validation accuracy')\n",
    "plt.legend()\n",
    " \n",
    "plt.figure()\n",
    " \n",
    "plt.plot(epochs, loss, 'b', label='Training loss')\n",
    "plt.plot(epochs, val_loss, 'r', label='Validation loss')\n",
    "plt.title('Training and validation loss')\n",
    "plt.legend()\n",
    " \n",
    "plt.show()"
   ]
  },
  {
   "cell_type": "markdown",
   "metadata": {},
   "source": [
    "Predictions"
   ]
  },
  {
   "cell_type": "code",
   "execution_count": 44,
   "metadata": {},
   "outputs": [],
   "source": [
    "def decode_sentiment(score, include_neutral=True):\n",
    "    if include_neutral:\n",
    "        label = NEUTRAL\n",
    "        if score <= 0.5:\n",
    "            label = NEGATIVE\n",
    "        elif score >= 0.7:\n",
    "            label = POSITIVE\n",
    "\n",
    "        return label\n",
    "    else:\n",
    "        return NEGATIVE if score < 0.5 else POSITIVE"
   ]
  },
  {
   "cell_type": "code",
   "execution_count": 45,
   "metadata": {},
   "outputs": [],
   "source": [
    "def predict(text, include_neutral=True):\n",
    "    start_at = time.time()\n",
    "    # Tokenize text\n",
    "    x_test = pad_sequences(tokenizer.texts_to_sequences([text]), maxlen=SEQUENCE_LENGTH)\n",
    "    # Predict\n",
    "    score = model.predict([x_test])[0]\n",
    "    # Decode sentiment\n",
    "    label = decode_sentiment(score, include_neutral=include_neutral)\n",
    "\n",
    "    return {\"label\": label, \"score\": float(score),\n",
    "       \"elapsed_time\": time.time()-start_at}"
   ]
  },
  {
   "cell_type": "code",
   "execution_count": 46,
   "metadata": {
    "pycharm": {
     "name": "#%%\n"
    }
   },
   "outputs": [
    {
     "data": {
      "text/plain": [
       "{'label': 'POSITIVE',\n",
       " 'score': 0.9222733974456787,\n",
       " 'elapsed_time': 0.056458234786987305}"
      ]
     },
     "execution_count": 46,
     "metadata": {},
     "output_type": "execute_result"
    }
   ],
   "source": [
    "predict(\"He's a fantastic cricketer\")"
   ]
  },
  {
   "cell_type": "code",
   "execution_count": 47,
   "metadata": {
    "pycharm": {
     "name": "#%%\n"
    }
   },
   "outputs": [
    {
     "data": {
      "text/plain": [
       "{'label': 'NEGATIVE',\n",
       " 'score': 0.15010875463485718,\n",
       " 'elapsed_time': 0.05885577201843262}"
      ]
     },
     "execution_count": 47,
     "metadata": {},
     "output_type": "execute_result"
    }
   ],
   "source": [
    "predict(\"I hate seafood\")"
   ]
  },
  {
   "cell_type": "code",
   "execution_count": 48,
   "metadata": {
    "pycharm": {
     "name": "#%%\n"
    }
   },
   "outputs": [
    {
     "data": {
      "text/plain": [
       "{'label': 'NEUTRAL',\n",
       " 'score': 0.5154789090156555,\n",
       " 'elapsed_time': 0.06282615661621094}"
      ]
     },
     "execution_count": 48,
     "metadata": {},
     "output_type": "execute_result"
    }
   ],
   "source": [
    "predict(\"It is a fish\")"
   ]
  },
  {
   "cell_type": "markdown",
   "metadata": {},
   "source": [
    "Confusion Matrix"
   ]
  },
  {
   "cell_type": "code",
   "execution_count": 49,
   "metadata": {
    "pycharm": {
     "name": "#%%\n"
    }
   },
   "outputs": [
    {
     "name": "stdout",
     "output_type": "stream",
     "text": [
      "40/40 [==============================] - 506s 13s/step\n",
      "Wall time: 8min 37s\n"
     ]
    }
   ],
   "source": [
    "%%time\n",
    "y_pred_1d = []\n",
    "y_test_1d = list(df_test.target)\n",
    "scores = model.predict(x_test, verbose=1, batch_size=8000)\n",
    "y_pred_1d = [decode_sentiment(score, include_neutral=False) for score in scores]"
   ]
  },
  {
   "cell_type": "code",
   "execution_count": 50,
   "metadata": {
    "pycharm": {
     "name": "#%%\n"
    }
   },
   "outputs": [],
   "source": [
    "def plot_confusion_matrix(cm, classes,\n",
    "                          title='Confusion matrix',\n",
    "                          cmap=plt.cm.Blues):\n",
    "    cm = cm.astype('float') / cm.sum(axis=1)[:, np.newaxis]\n",
    "\n",
    "    plt.imshow(cm, interpolation='nearest', cmap=cmap)\n",
    "    plt.title(title, fontsize=30)\n",
    "    plt.colorbar()\n",
    "    tick_marks = np.arange(len(classes))\n",
    "    plt.xticks(tick_marks, classes, rotation=90, fontsize=22)\n",
    "    plt.yticks(tick_marks, classes, fontsize=22)\n",
    "\n",
    "    fmt = '.2f'\n",
    "    thresh = cm.max() / 2.\n",
    "    for i, j in itertools.product(range(cm.shape[0]), range(cm.shape[1])):\n",
    "        plt.text(j, i, format(cm[i, j], fmt),\n",
    "                 horizontalalignment=\"center\",\n",
    "                 color=\"white\" if cm[i, j] > thresh else \"black\")\n",
    "\n",
    "    plt.ylabel('True label', fontsize=25)\n",
    "    plt.xlabel('Predicted label', fontsize=25)"
   ]
  },
  {
   "cell_type": "code",
   "execution_count": 51,
   "metadata": {
    "pycharm": {
     "name": "#%%\n"
    }
   },
   "outputs": [
    {
     "data": {
      "image/png": "[encoded data removed]",
      "text/plain": [
       "<Figure size 864x864 with 2 Axes>"
      ]
     },
     "metadata": {
      "needs_background": "light"
     },
     "output_type": "display_data"
    },
    {
     "name": "stdout",
     "output_type": "stream",
     "text": [
      "Wall time: 1.18 s\n"
     ]
    }
   ],
   "source": [
    "%%time\n",
    "\n",
    "cnf_matrix = confusion_matrix(y_test_1d, y_pred_1d)\n",
    "plt.figure(figsize=(12,12))\n",
    "plot_confusion_matrix(cnf_matrix, classes=df_train.target.unique(), title=\"Confusion matrix\")\n",
    "plt.show()"
   ]
  },
  {
   "cell_type": "markdown",
   "metadata": {},
   "source": [
    "Classification Report"
   ]
  },
  {
   "cell_type": "code",
   "execution_count": 52,
   "metadata": {
    "pycharm": {
     "name": "#%%\n"
    }
   },
   "outputs": [
    {
     "name": "stdout",
     "output_type": "stream",
     "text": [
      "              precision    recall  f1-score   support\n",
      "\n",
      "    NEGATIVE       0.73      0.73      0.73    159494\n",
      "    POSITIVE       0.73      0.73      0.73    160506\n",
      "\n",
      "    accuracy                           0.73    320000\n",
      "   macro avg       0.73      0.73      0.73    320000\n",
      "weighted avg       0.73      0.73      0.73    320000\n",
      "\n"
     ]
    }
   ],
   "source": [
    "print(classification_report(y_test_1d, y_pred_1d))"
   ]
  },
  {
   "cell_type": "markdown",
   "metadata": {},
   "source": [
    "Accuracy"
   ]
  },
  {
   "cell_type": "code",
   "execution_count": 53,
   "metadata": {
    "pycharm": {
     "name": "#%%\n"
    }
   },
   "outputs": [
    {
     "data": {
      "text/plain": [
       "0.73244375"
      ]
     },
     "execution_count": 53,
     "metadata": {},
     "output_type": "execute_result"
    }
   ],
   "source": [
    "accuracy_score(y_test_1d, y_pred_1d)"
   ]
  },
  {
   "cell_type": "code",
   "execution_count": null,
   "metadata": {
    "pycharm": {
     "name": "#%%\n"
    }
   },
   "outputs": [],
   "source": [
    "Save Model"
   ]
  },
  {
   "cell_type": "code",
   "execution_count": null,
   "metadata": {
    "pycharm": {
     "name": "#%%\n"
    }
   },
   "outputs": [],
   "source": [
    "model.save(KERAS_MODEL)\n",
    "w2v_model.save(WORD2VEC_MODEL)\n",
    "pickle.dump(tokenizer, open(TOKENIZER_MODEL, \"wb\"), protocol=0)\n",
    "pickle.dump(encoder, open(ENCODER_MODEL, \"wb\"), protocol=0)"
   ]
  }
 ],
 "metadata": {
  "kernelspec": {
   "display_name": "Python 3",
   "language": "python",
   "name": "python3"
  },
  "language_info": {
   "codemirror_mode": {
    "name": "ipython",
    "version": 3
   },
   "file_extension": ".py",
   "mimetype": "text/x-python",
   "name": "python",
   "nbconvert_exporter": "python",
   "pygments_lexer": "ipython3",
   "version": "3.7.7"
  }
 },
 "nbformat": 4,
 "nbformat_minor": 1
}
