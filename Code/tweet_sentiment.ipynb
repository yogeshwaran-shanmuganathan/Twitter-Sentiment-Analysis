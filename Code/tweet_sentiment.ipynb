{
 "cells": [
  {
   "cell_type": "markdown",
   "metadata": {},
   "source": [
    "# Twitter Sentiment Analysis"
   ]
  },
  {
   "cell_type": "markdown",
   "metadata": {},
   "source": [
    "Importing necessary packages"
   ]
  },
  {
   "cell_type": "code",
   "execution_count": 1,
   "metadata": {
    "pycharm": {
     "is_executing": true,
     "name": "#%%\n"
    }
   },
   "outputs": [],
   "source": [
    "# Packages\n",
    "# DataFrame\n",
    "import pandas as pd\n",
    "\n",
    "# Matplot\n",
    "import matplotlib.pyplot as plt\n",
    "\n",
    "#plotly\n",
    "import plotly.express as px\n",
    "\n",
    "#seaborn\n",
    "import seaborn as sns\n",
    "\n",
    "# Scikit-learn\n",
    "from sklearn.model_selection import train_test_split\n",
    "from sklearn.preprocessing import LabelEncoder\n",
    "from sklearn.metrics import confusion_matrix, classification_report, accuracy_score\n",
    "from sklearn.manifold import TSNE\n",
    "from sklearn.feature_extraction.text import TfidfVectorizer\n",
    "\n",
    "# Keras\n",
    "from keras.preprocessing.text import Tokenizer\n",
    "from keras.preprocessing.sequence import pad_sequences\n",
    "from keras.models import Sequential\n",
    "from keras.layers import Activation, Dense, Dropout, Embedding, Flatten, Conv1D, MaxPooling1D, LSTM\n",
    "from keras import utils\n",
    "from keras.callbacks import ReduceLROnPlateau, EarlyStopping\n",
    "\n",
    "# nltk\n",
    "import nltk\n",
    "from nltk.corpus import stopwords\n",
    "from nltk.stem import SnowballStemmer\n",
    "\n",
    "# Word2vec\n",
    "import gensim\n",
    "\n",
    "# Utility\n",
    "import re\n",
    "import numpy as np\n",
    "import os\n",
    "from collections import Counter\n",
    "import logging\n",
    "import time\n",
    "import pickle\n",
    "import itertools\n",
    "\n",
    "# Set log\n",
    "logging.basicConfig(format='%(asctime)s : %(levelname)s : %(message)s', level=logging.INFO)"
   ]
  },
  {
   "cell_type": "code",
   "execution_count": 2,
   "metadata": {
    "pycharm": {
     "name": "#%%\n"
    }
   },
   "outputs": [
    {
     "name": "stderr",
     "output_type": "stream",
     "text": [
      "[nltk_data] Downloading package stopwords to\n",
      "[nltk_data]     C:\\Users\\yoges\\AppData\\Roaming\\nltk_data...\n",
      "[nltk_data]   Package stopwords is already up-to-date!\n"
     ]
    },
    {
     "data": {
      "text/plain": [
       "True"
      ]
     },
     "execution_count": 2,
     "metadata": {},
     "output_type": "execute_result"
    }
   ],
   "source": [
    "nltk.download('stopwords')"
   ]
  },
  {
   "cell_type": "markdown",
   "metadata": {},
   "source": [
    "Initialisation"
   ]
  },
  {
   "cell_type": "code",
   "execution_count": 3,
   "metadata": {
    "pycharm": {
     "name": "#%%\n"
    }
   },
   "outputs": [],
   "source": [
    "# DATASET\n",
    "DATASET_COLUMNS = [\"target\", \"ids\", \"date\", \"flag\", \"user\", \"text\"]\n",
    "DATASET_ENCODING = \"ISO-8859-1\"\n",
    "TRAIN_SIZE = 0.8\n",
    "\n",
    "# TEXT CLENAING\n",
    "TEXT_CLEANING_RE = \"@\\S+|https?:\\S+|http?:\\S|[^A-Za-z0-9]+\"\n",
    "\n",
    "# WORD2VEC\n",
    "W2V_SIZE = 300\n",
    "W2V_WINDOW = 7\n",
    "W2V_EPOCH = 32\n",
    "W2V_MIN_COUNT = 10\n",
    "\n",
    "# KERAS\n",
    "SEQUENCE_LENGTH = 300\n",
    "EPOCHS = 1\n",
    "BATCH_SIZE = 8192\n",
    "\n",
    "# SENTIMENT\n",
    "POSITIVE = \"POSITIVE\"\n",
    "NEGATIVE = \"NEGATIVE\"\n",
    "NEUTRAL = \"NEUTRAL\"\n",
    "\n",
    "# EXPORT\n",
    "KERAS_MODEL = \"keras_model.h5\"\n",
    "WORD2VEC_MODEL = \"word2vec_model.w2v\"\n",
    "TOKENIZER_MODEL = \"tokenizer_model.pkl\"\n",
    "ENCODER_MODEL = \"encoder_model.pkl\""
   ]
  },
  {
   "cell_type": "markdown",
   "metadata": {},
   "source": [
    "Reading Input Dataset"
   ]
  },
  {
   "cell_type": "code",
   "execution_count": 4,
   "metadata": {
    "pycharm": {
     "name": "#%%\n"
    }
   },
   "outputs": [],
   "source": [
    "df = pd.read_csv(\"training.1600000.processed.noemoticon.csv\", encoding =DATASET_ENCODING , names=DATASET_COLUMNS)"
   ]
  },
  {
   "cell_type": "code",
   "execution_count": 5,
   "metadata": {
    "pycharm": {
     "name": "#%%\n"
    }
   },
   "outputs": [
    {
     "name": "stdout",
     "output_type": "stream",
     "text": [
      "Dataset size: 1600000\n"
     ]
    },
    {
     "data": {
      "text/html": [
       "<div>\n",
       "<style scoped>\n",
       "    .dataframe tbody tr th:only-of-type {\n",
       "        vertical-align: middle;\n",
       "    }\n",
       "\n",
       "    .dataframe tbody tr th {\n",
       "        vertical-align: top;\n",
       "    }\n",
       "\n",
       "    .dataframe thead th {\n",
       "        text-align: right;\n",
       "    }\n",
       "</style>\n",
       "<table border=\"1\" class=\"dataframe\">\n",
       "  <thead>\n",
       "    <tr style=\"text-align: right;\">\n",
       "      <th></th>\n",
       "      <th>target</th>\n",
       "      <th>ids</th>\n",
       "      <th>date</th>\n",
       "      <th>flag</th>\n",
       "      <th>user</th>\n",
       "      <th>text</th>\n",
       "    </tr>\n",
       "  </thead>\n",
       "  <tbody>\n",
       "    <tr>\n",
       "      <th>0</th>\n",
       "      <td>0</td>\n",
       "      <td>1467810369</td>\n",
       "      <td>Mon Apr 06 22:19:45 PDT 2009</td>\n",
       "      <td>NO_QUERY</td>\n",
       "      <td>_TheSpecialOne_</td>\n",
       "      <td>@switchfoot http://twitpic.com/2y1zl - Awww, t...</td>\n",
       "    </tr>\n",
       "    <tr>\n",
       "      <th>1</th>\n",
       "      <td>0</td>\n",
       "      <td>1467810672</td>\n",
       "      <td>Mon Apr 06 22:19:49 PDT 2009</td>\n",
       "      <td>NO_QUERY</td>\n",
       "      <td>scotthamilton</td>\n",
       "      <td>is upset that he can't update his Facebook by ...</td>\n",
       "    </tr>\n",
       "    <tr>\n",
       "      <th>2</th>\n",
       "      <td>0</td>\n",
       "      <td>1467810917</td>\n",
       "      <td>Mon Apr 06 22:19:53 PDT 2009</td>\n",
       "      <td>NO_QUERY</td>\n",
       "      <td>mattycus</td>\n",
       "      <td>@Kenichan I dived many times for the ball. Man...</td>\n",
       "    </tr>\n",
       "    <tr>\n",
       "      <th>3</th>\n",
       "      <td>0</td>\n",
       "      <td>1467811184</td>\n",
       "      <td>Mon Apr 06 22:19:57 PDT 2009</td>\n",
       "      <td>NO_QUERY</td>\n",
       "      <td>ElleCTF</td>\n",
       "      <td>my whole body feels itchy and like its on fire</td>\n",
       "    </tr>\n",
       "    <tr>\n",
       "      <th>4</th>\n",
       "      <td>0</td>\n",
       "      <td>1467811193</td>\n",
       "      <td>Mon Apr 06 22:19:57 PDT 2009</td>\n",
       "      <td>NO_QUERY</td>\n",
       "      <td>Karoli</td>\n",
       "      <td>@nationwideclass no, it's not behaving at all....</td>\n",
       "    </tr>\n",
       "  </tbody>\n",
       "</table>\n",
       "</div>"
      ],
      "text/plain": [
       "   target         ids                          date      flag  \\\n",
       "0       0  1467810369  Mon Apr 06 22:19:45 PDT 2009  NO_QUERY   \n",
       "1       0  1467810672  Mon Apr 06 22:19:49 PDT 2009  NO_QUERY   \n",
       "2       0  1467810917  Mon Apr 06 22:19:53 PDT 2009  NO_QUERY   \n",
       "3       0  1467811184  Mon Apr 06 22:19:57 PDT 2009  NO_QUERY   \n",
       "4       0  1467811193  Mon Apr 06 22:19:57 PDT 2009  NO_QUERY   \n",
       "\n",
       "              user                                               text  \n",
       "0  _TheSpecialOne_  @switchfoot http://twitpic.com/2y1zl - Awww, t...  \n",
       "1    scotthamilton  is upset that he can't update his Facebook by ...  \n",
       "2         mattycus  @Kenichan I dived many times for the ball. Man...  \n",
       "3          ElleCTF    my whole body feels itchy and like its on fire   \n",
       "4           Karoli  @nationwideclass no, it's not behaving at all....  "
      ]
     },
     "execution_count": 5,
     "metadata": {},
     "output_type": "execute_result"
    }
   ],
   "source": [
    "print(\"Dataset size:\", len(df))\n",
    "df.head(5)"
   ]
  },
  {
   "cell_type": "markdown",
   "metadata": {},
   "source": [
    "Mapping target label to string"
   ]
  },
  {
   "cell_type": "code",
   "execution_count": 6,
   "metadata": {
    "pycharm": {
     "name": "#%%\n"
    }
   },
   "outputs": [],
   "source": [
    "decode_map = {0: \"NEGATIVE\", 2: \"NEUTRAL\", 4: \"POSITIVE\"}\n",
    "def decode_sentiment(label):\n",
    "    return decode_map[int(label)]"
   ]
  },
  {
   "cell_type": "code",
   "execution_count": 7,
   "metadata": {
    "pycharm": {
     "name": "#%%\n"
    }
   },
   "outputs": [
    {
     "name": "stdout",
     "output_type": "stream",
     "text": [
      "Wall time: 523 ms\n"
     ]
    }
   ],
   "source": [
    "%%time\n",
    "df.target = df.target.apply(lambda x: decode_sentiment(x))"
   ]
  },
  {
   "cell_type": "code",
   "execution_count": 8,
   "metadata": {
    "pycharm": {
     "name": "#%%\n"
    }
   },
   "outputs": [
    {
     "data": {
      "text/plain": [
       "Text(0.5, 1.0, 'Dataset labels distribuition')"
      ]
     },
     "execution_count": 8,
     "metadata": {},
     "output_type": "execute_result"
    },
    {
     "data": {
      "image/png": "[encoded data removed]",
      "text/plain": [
       "<Figure size 1152x576 with 1 Axes>"
      ]
     },
     "metadata": {
      "needs_background": "light"
     },
     "output_type": "display_data"
    }
   ],
   "source": [
    "target_cnt = Counter(df.target)\n",
    "\n",
    "plt.figure(figsize=(16,8))\n",
    "plt.bar(target_cnt.keys(), target_cnt.values())\n",
    "plt.title(\"Dataset labels distribuition\")\n"
   ]
  },
  {
   "cell_type": "markdown",
   "metadata": {},
   "source": [
    "Pre-processing the Dataset"
   ]
  },
  {
   "cell_type": "code",
   "execution_count": 9,
   "metadata": {},
   "outputs": [],
   "source": [
    "#pre-process dataset\n",
    "stop_words = stopwords.words(\"english\")\n",
    "stemmer = SnowballStemmer(\"english\")"
   ]
  },
  {
   "cell_type": "code",
   "execution_count": 10,
   "metadata": {},
   "outputs": [],
   "source": [
    "def preprocess(text, stem=False):\n",
    "    # Remove link,user and special characters\n",
    "    text = re.sub(TEXT_CLEANING_RE, ' ', str(text).lower()).strip()\n",
    "    tokens = []\n",
    "    for token in text.split():\n",
    "        if token not in stop_words:\n",
    "            if stem:\n",
    "                tokens.append(stemmer.stem(token))\n",
    "            else:\n",
    "                tokens.append(token)\n",
    "    return \" \".join(tokens)\n"
   ]
  },
  {
   "cell_type": "code",
   "execution_count": 11,
   "metadata": {},
   "outputs": [
    {
     "name": "stdout",
     "output_type": "stream",
     "text": [
      "Wall time: 1min 4s\n"
     ]
    }
   ],
   "source": [
    "%%time\n",
    "df.text = df.text.apply(lambda x: preprocess(x))"
   ]
  },
  {
   "cell_type": "markdown",
   "metadata": {},
   "source": [
    "Split and Train Dataset"
   ]
  },
  {
   "cell_type": "code",
   "execution_count": 12,
   "metadata": {},
   "outputs": [
    {
     "name": "stdout",
     "output_type": "stream",
     "text": [
      "TRAIN size: 1280000\n",
      "TEST size: 320000\n"
     ]
    }
   ],
   "source": [
    "#Split and train dataset\n",
    "df_train, df_test = train_test_split(df, test_size=1-TRAIN_SIZE, random_state=42)\n",
    "print(\"TRAIN size:\", len(df_train))\n",
    "print(\"TEST size:\", len(df_test))"
   ]
  },
  {
   "cell_type": "markdown",
   "metadata": {},
   "source": [
    "WORD2VEC"
   ]
  },
  {
   "cell_type": "code",
   "execution_count": 13,
   "metadata": {},
   "outputs": [
    {
     "name": "stdout",
     "output_type": "stream",
     "text": [
      "Wall time: 4.75 s\n"
     ]
    }
   ],
   "source": [
    "%%time\n",
    "documents = [_text.split() for _text in df_train.text] "
   ]
  },
  {
   "cell_type": "code",
   "execution_count": 14,
   "metadata": {},
   "outputs": [],
   "source": [
    "#Word2Vec\n",
    "w2v_model = gensim.models.word2vec.Word2Vec(size=W2V_SIZE, \n",
    "                                            window=W2V_WINDOW, \n",
    "                                            min_count=W2V_MIN_COUNT, \n",
    "                                            workers=8)"
   ]
  },
  {
   "cell_type": "code",
   "execution_count": 15,
   "metadata": {},
   "outputs": [
    {
     "name": "stderr",
     "output_type": "stream",
     "text": [
      "2020-08-14 20:59:28,454 : INFO : collecting all words and their counts\n",
      "2020-08-14 20:59:28,455 : INFO : PROGRESS: at sentence #0, processed 0 words, keeping 0 word types\n",
      "2020-08-14 20:59:28,492 : INFO : PROGRESS: at sentence #10000, processed 72565 words, keeping 14005 word types\n",
      "2020-08-14 20:59:28,528 : INFO : PROGRESS: at sentence #20000, processed 144393 words, keeping 21587 word types\n",
      "2020-08-14 20:59:28,571 : INFO : PROGRESS: at sentence #30000, processed 215826 words, keeping 27541 word types\n",
      "2020-08-14 20:59:28,611 : INFO : PROGRESS: at sentence #40000, processed 288271 words, keeping 32764 word types\n",
      "2020-08-14 20:59:28,652 : INFO : PROGRESS: at sentence #50000, processed 359772 words, keeping 37587 word types\n",
      "2020-08-14 20:59:28,701 : INFO : PROGRESS: at sentence #60000, processed 431431 words, keeping 42198 word types\n",
      "2020-08-14 20:59:28,748 : INFO : PROGRESS: at sentence #70000, processed 503103 words, keeping 46458 word types\n",
      "2020-08-14 20:59:28,787 : INFO : PROGRESS: at sentence #80000, processed 575709 words, keeping 50476 word types\n",
      "2020-08-14 20:59:28,832 : INFO : PROGRESS: at sentence #90000, processed 647100 words, keeping 54140 word types\n",
      "2020-08-14 20:59:28,874 : INFO : PROGRESS: at sentence #100000, processed 718681 words, keeping 57777 word types\n",
      "2020-08-14 20:59:28,917 : INFO : PROGRESS: at sentence #110000, processed 790696 words, keeping 61207 word types\n",
      "2020-08-14 20:59:28,959 : INFO : PROGRESS: at sentence #120000, processed 863134 words, keeping 64583 word types\n",
      "2020-08-14 20:59:29,004 : INFO : PROGRESS: at sentence #130000, processed 935111 words, keeping 67865 word types\n",
      "2020-08-14 20:59:29,042 : INFO : PROGRESS: at sentence #140000, processed 1006668 words, keeping 70966 word types\n",
      "2020-08-14 20:59:29,082 : INFO : PROGRESS: at sentence #150000, processed 1078512 words, keeping 74119 word types\n",
      "2020-08-14 20:59:29,124 : INFO : PROGRESS: at sentence #160000, processed 1149914 words, keeping 77187 word types\n",
      "2020-08-14 20:59:29,171 : INFO : PROGRESS: at sentence #170000, processed 1222145 words, keeping 80267 word types\n",
      "2020-08-14 20:59:29,216 : INFO : PROGRESS: at sentence #180000, processed 1294708 words, keeping 83393 word types\n",
      "2020-08-14 20:59:29,261 : INFO : PROGRESS: at sentence #190000, processed 1367608 words, keeping 86329 word types\n",
      "2020-08-14 20:59:29,313 : INFO : PROGRESS: at sentence #200000, processed 1439469 words, keeping 89103 word types\n",
      "2020-08-14 20:59:29,354 : INFO : PROGRESS: at sentence #210000, processed 1512099 words, keeping 91840 word types\n",
      "2020-08-14 20:59:29,398 : INFO : PROGRESS: at sentence #220000, processed 1584149 words, keeping 94636 word types\n",
      "2020-08-14 20:59:29,441 : INFO : PROGRESS: at sentence #230000, processed 1656354 words, keeping 97353 word types\n",
      "2020-08-14 20:59:29,491 : INFO : PROGRESS: at sentence #240000, processed 1728573 words, keeping 99975 word types\n",
      "2020-08-14 20:59:29,548 : INFO : PROGRESS: at sentence #250000, processed 1801102 words, keeping 102594 word types\n",
      "2020-08-14 20:59:29,590 : INFO : PROGRESS: at sentence #260000, processed 1873103 words, keeping 105162 word types\n",
      "2020-08-14 20:59:29,636 : INFO : PROGRESS: at sentence #270000, processed 1945245 words, keeping 107626 word types\n",
      "2020-08-14 20:59:29,682 : INFO : PROGRESS: at sentence #280000, processed 2017163 words, keeping 110141 word types\n",
      "2020-08-14 20:59:29,729 : INFO : PROGRESS: at sentence #290000, processed 2089574 words, keeping 112539 word types\n",
      "2020-08-14 20:59:29,775 : INFO : PROGRESS: at sentence #300000, processed 2160996 words, keeping 114893 word types\n",
      "2020-08-14 20:59:29,819 : INFO : PROGRESS: at sentence #310000, processed 2232913 words, keeping 117298 word types\n",
      "2020-08-14 20:59:29,863 : INFO : PROGRESS: at sentence #320000, processed 2305039 words, keeping 119693 word types\n",
      "2020-08-14 20:59:29,911 : INFO : PROGRESS: at sentence #330000, processed 2377119 words, keeping 122131 word types\n",
      "2020-08-14 20:59:29,963 : INFO : PROGRESS: at sentence #340000, processed 2449370 words, keeping 124416 word types\n",
      "2020-08-14 20:59:30,017 : INFO : PROGRESS: at sentence #350000, processed 2521564 words, keeping 126669 word types\n",
      "2020-08-14 20:59:30,059 : INFO : PROGRESS: at sentence #360000, processed 2593681 words, keeping 128912 word types\n",
      "2020-08-14 20:59:30,101 : INFO : PROGRESS: at sentence #370000, processed 2665692 words, keeping 131135 word types\n",
      "2020-08-14 20:59:30,145 : INFO : PROGRESS: at sentence #380000, processed 2737859 words, keeping 133403 word types\n",
      "2020-08-14 20:59:30,186 : INFO : PROGRESS: at sentence #390000, processed 2809848 words, keeping 135551 word types\n",
      "2020-08-14 20:59:30,221 : INFO : PROGRESS: at sentence #400000, processed 2882438 words, keeping 137742 word types\n",
      "2020-08-14 20:59:30,263 : INFO : PROGRESS: at sentence #410000, processed 2954075 words, keeping 139909 word types\n",
      "2020-08-14 20:59:30,303 : INFO : PROGRESS: at sentence #420000, processed 3026247 words, keeping 142144 word types\n",
      "2020-08-14 20:59:30,346 : INFO : PROGRESS: at sentence #430000, processed 3098659 words, keeping 144364 word types\n",
      "2020-08-14 20:59:30,390 : INFO : PROGRESS: at sentence #440000, processed 3170663 words, keeping 146439 word types\n",
      "2020-08-14 20:59:30,436 : INFO : PROGRESS: at sentence #450000, processed 3243344 words, keeping 148526 word types\n",
      "2020-08-14 20:59:30,484 : INFO : PROGRESS: at sentence #460000, processed 3315466 words, keeping 150610 word types\n",
      "2020-08-14 20:59:30,529 : INFO : PROGRESS: at sentence #470000, processed 3388295 words, keeping 152737 word types\n",
      "2020-08-14 20:59:30,573 : INFO : PROGRESS: at sentence #480000, processed 3460120 words, keeping 154757 word types\n",
      "2020-08-14 20:59:30,618 : INFO : PROGRESS: at sentence #490000, processed 3531883 words, keeping 156825 word types\n",
      "2020-08-14 20:59:30,662 : INFO : PROGRESS: at sentence #500000, processed 3604217 words, keeping 158859 word types\n",
      "2020-08-14 20:59:30,721 : INFO : PROGRESS: at sentence #510000, processed 3676427 words, keeping 160852 word types\n",
      "2020-08-14 20:59:30,774 : INFO : PROGRESS: at sentence #520000, processed 3749045 words, keeping 162863 word types\n",
      "2020-08-14 20:59:30,832 : INFO : PROGRESS: at sentence #530000, processed 3821622 words, keeping 164929 word types\n",
      "2020-08-14 20:59:30,886 : INFO : PROGRESS: at sentence #540000, processed 3893627 words, keeping 166840 word types\n",
      "2020-08-14 20:59:30,942 : INFO : PROGRESS: at sentence #550000, processed 3965477 words, keeping 168799 word types\n",
      "2020-08-14 20:59:30,998 : INFO : PROGRESS: at sentence #560000, processed 4038050 words, keeping 170802 word types\n",
      "2020-08-14 20:59:31,053 : INFO : PROGRESS: at sentence #570000, processed 4110296 words, keeping 172760 word types\n",
      "2020-08-14 20:59:31,107 : INFO : PROGRESS: at sentence #580000, processed 4182385 words, keeping 174635 word types\n",
      "2020-08-14 20:59:31,178 : INFO : PROGRESS: at sentence #590000, processed 4254632 words, keeping 176470 word types\n",
      "2020-08-14 20:59:31,227 : INFO : PROGRESS: at sentence #600000, processed 4326859 words, keeping 178350 word types\n",
      "2020-08-14 20:59:31,285 : INFO : PROGRESS: at sentence #610000, processed 4399183 words, keeping 180290 word types\n",
      "2020-08-14 20:59:31,336 : INFO : PROGRESS: at sentence #620000, processed 4471343 words, keeping 182129 word types\n",
      "2020-08-14 20:59:31,395 : INFO : PROGRESS: at sentence #630000, processed 4543286 words, keeping 184005 word types\n",
      "2020-08-14 20:59:31,455 : INFO : PROGRESS: at sentence #640000, processed 4615780 words, keeping 185835 word types\n",
      "2020-08-14 20:59:31,510 : INFO : PROGRESS: at sentence #650000, processed 4688481 words, keeping 187705 word types\n",
      "2020-08-14 20:59:31,565 : INFO : PROGRESS: at sentence #660000, processed 4760481 words, keeping 189439 word types\n",
      "2020-08-14 20:59:31,620 : INFO : PROGRESS: at sentence #670000, processed 4833024 words, keeping 191232 word types\n",
      "2020-08-14 20:59:31,676 : INFO : PROGRESS: at sentence #680000, processed 4904516 words, keeping 193177 word types\n",
      "2020-08-14 20:59:31,728 : INFO : PROGRESS: at sentence #690000, processed 4976968 words, keeping 194960 word types\n",
      "2020-08-14 20:59:31,785 : INFO : PROGRESS: at sentence #700000, processed 5049412 words, keeping 196725 word types\n",
      "2020-08-14 20:59:31,828 : INFO : PROGRESS: at sentence #710000, processed 5121976 words, keeping 198516 word types\n"
     ]
    },
    {
     "name": "stderr",
     "output_type": "stream",
     "text": [
      "2020-08-14 20:59:31,865 : INFO : PROGRESS: at sentence #720000, processed 5193881 words, keeping 200325 word types\n",
      "2020-08-14 20:59:31,897 : INFO : PROGRESS: at sentence #730000, processed 5265467 words, keeping 202133 word types\n",
      "2020-08-14 20:59:31,935 : INFO : PROGRESS: at sentence #740000, processed 5337518 words, keeping 203818 word types\n",
      "2020-08-14 20:59:31,986 : INFO : PROGRESS: at sentence #750000, processed 5409321 words, keeping 205535 word types\n",
      "2020-08-14 20:59:32,038 : INFO : PROGRESS: at sentence #760000, processed 5481512 words, keeping 207282 word types\n",
      "2020-08-14 20:59:32,089 : INFO : PROGRESS: at sentence #770000, processed 5554093 words, keeping 209076 word types\n",
      "2020-08-14 20:59:32,135 : INFO : PROGRESS: at sentence #780000, processed 5625382 words, keeping 210805 word types\n",
      "2020-08-14 20:59:32,177 : INFO : PROGRESS: at sentence #790000, processed 5698066 words, keeping 212618 word types\n",
      "2020-08-14 20:59:32,212 : INFO : PROGRESS: at sentence #800000, processed 5770880 words, keeping 214374 word types\n",
      "2020-08-14 20:59:32,258 : INFO : PROGRESS: at sentence #810000, processed 5843418 words, keeping 216009 word types\n",
      "2020-08-14 20:59:32,303 : INFO : PROGRESS: at sentence #820000, processed 5915628 words, keeping 217804 word types\n",
      "2020-08-14 20:59:32,356 : INFO : PROGRESS: at sentence #830000, processed 5987499 words, keeping 219585 word types\n",
      "2020-08-14 20:59:32,415 : INFO : PROGRESS: at sentence #840000, processed 6058973 words, keeping 221344 word types\n",
      "2020-08-14 20:59:32,461 : INFO : PROGRESS: at sentence #850000, processed 6131125 words, keeping 223002 word types\n",
      "2020-08-14 20:59:32,507 : INFO : PROGRESS: at sentence #860000, processed 6202951 words, keeping 224643 word types\n",
      "2020-08-14 20:59:32,554 : INFO : PROGRESS: at sentence #870000, processed 6275461 words, keeping 226362 word types\n",
      "2020-08-14 20:59:32,601 : INFO : PROGRESS: at sentence #880000, processed 6347661 words, keeping 227986 word types\n",
      "2020-08-14 20:59:32,657 : INFO : PROGRESS: at sentence #890000, processed 6419806 words, keeping 229634 word types\n",
      "2020-08-14 20:59:32,720 : INFO : PROGRESS: at sentence #900000, processed 6491644 words, keeping 231389 word types\n",
      "2020-08-14 20:59:32,778 : INFO : PROGRESS: at sentence #910000, processed 6564022 words, keeping 233050 word types\n",
      "2020-08-14 20:59:32,844 : INFO : PROGRESS: at sentence #920000, processed 6636228 words, keeping 234686 word types\n",
      "2020-08-14 20:59:32,903 : INFO : PROGRESS: at sentence #930000, processed 6708573 words, keeping 236393 word types\n",
      "2020-08-14 20:59:32,970 : INFO : PROGRESS: at sentence #940000, processed 6779956 words, keeping 238052 word types\n",
      "2020-08-14 20:59:33,042 : INFO : PROGRESS: at sentence #950000, processed 6852599 words, keeping 239716 word types\n",
      "2020-08-14 20:59:33,117 : INFO : PROGRESS: at sentence #960000, processed 6924717 words, keeping 241354 word types\n",
      "2020-08-14 20:59:33,191 : INFO : PROGRESS: at sentence #970000, processed 6996992 words, keeping 242980 word types\n",
      "2020-08-14 20:59:33,258 : INFO : PROGRESS: at sentence #980000, processed 7068402 words, keeping 244646 word types\n",
      "2020-08-14 20:59:33,320 : INFO : PROGRESS: at sentence #990000, processed 7140346 words, keeping 246186 word types\n",
      "2020-08-14 20:59:33,386 : INFO : PROGRESS: at sentence #1000000, processed 7211757 words, keeping 247726 word types\n",
      "2020-08-14 20:59:33,446 : INFO : PROGRESS: at sentence #1010000, processed 7283267 words, keeping 249288 word types\n",
      "2020-08-14 20:59:33,513 : INFO : PROGRESS: at sentence #1020000, processed 7355299 words, keeping 250860 word types\n",
      "2020-08-14 20:59:33,584 : INFO : PROGRESS: at sentence #1030000, processed 7426918 words, keeping 252366 word types\n",
      "2020-08-14 20:59:33,652 : INFO : PROGRESS: at sentence #1040000, processed 7498815 words, keeping 253930 word types\n",
      "2020-08-14 20:59:33,726 : INFO : PROGRESS: at sentence #1050000, processed 7570499 words, keeping 255471 word types\n",
      "2020-08-14 20:59:33,800 : INFO : PROGRESS: at sentence #1060000, processed 7643251 words, keeping 257035 word types\n",
      "2020-08-14 20:59:33,872 : INFO : PROGRESS: at sentence #1070000, processed 7714721 words, keeping 258509 word types\n",
      "2020-08-14 20:59:33,940 : INFO : PROGRESS: at sentence #1080000, processed 7787371 words, keeping 260071 word types\n",
      "2020-08-14 20:59:34,018 : INFO : PROGRESS: at sentence #1090000, processed 7859336 words, keeping 261683 word types\n",
      "2020-08-14 20:59:34,075 : INFO : PROGRESS: at sentence #1100000, processed 7932029 words, keeping 263278 word types\n",
      "2020-08-14 20:59:34,135 : INFO : PROGRESS: at sentence #1110000, processed 8004146 words, keeping 264800 word types\n",
      "2020-08-14 20:59:34,192 : INFO : PROGRESS: at sentence #1120000, processed 8075880 words, keeping 266309 word types\n",
      "2020-08-14 20:59:34,245 : INFO : PROGRESS: at sentence #1130000, processed 8148163 words, keeping 267826 word types\n",
      "2020-08-14 20:59:34,310 : INFO : PROGRESS: at sentence #1140000, processed 8220487 words, keeping 269391 word types\n",
      "2020-08-14 20:59:34,360 : INFO : PROGRESS: at sentence #1150000, processed 8292498 words, keeping 270894 word types\n",
      "2020-08-14 20:59:34,421 : INFO : PROGRESS: at sentence #1160000, processed 8363838 words, keeping 272400 word types\n",
      "2020-08-14 20:59:34,479 : INFO : PROGRESS: at sentence #1170000, processed 8435510 words, keeping 273970 word types\n",
      "2020-08-14 20:59:34,536 : INFO : PROGRESS: at sentence #1180000, processed 8507795 words, keeping 275521 word types\n",
      "2020-08-14 20:59:34,591 : INFO : PROGRESS: at sentence #1190000, processed 8579080 words, keeping 277007 word types\n",
      "2020-08-14 20:59:34,657 : INFO : PROGRESS: at sentence #1200000, processed 8650606 words, keeping 278457 word types\n",
      "2020-08-14 20:59:34,709 : INFO : PROGRESS: at sentence #1210000, processed 8721893 words, keeping 279959 word types\n",
      "2020-08-14 20:59:34,768 : INFO : PROGRESS: at sentence #1220000, processed 8793795 words, keeping 281427 word types\n",
      "2020-08-14 20:59:34,825 : INFO : PROGRESS: at sentence #1230000, processed 8865726 words, keeping 282981 word types\n",
      "2020-08-14 20:59:34,881 : INFO : PROGRESS: at sentence #1240000, processed 8938173 words, keeping 284542 word types\n",
      "2020-08-14 20:59:34,938 : INFO : PROGRESS: at sentence #1250000, processed 9010842 words, keeping 286064 word types\n",
      "2020-08-14 20:59:34,996 : INFO : PROGRESS: at sentence #1260000, processed 9083261 words, keeping 287521 word types\n",
      "2020-08-14 20:59:35,055 : INFO : PROGRESS: at sentence #1270000, processed 9155616 words, keeping 288987 word types\n",
      "2020-08-14 20:59:35,114 : INFO : collected 290418 word types from a corpus of 9227204 raw words and 1280000 sentences\n",
      "2020-08-14 20:59:35,118 : INFO : Loading a fresh vocabulary\n",
      "2020-08-14 20:59:35,437 : INFO : effective_min_count=10 retains 30369 unique words (10% of original 290418, drops 260049)\n",
      "2020-08-14 20:59:35,441 : INFO : effective_min_count=10 leaves 8780739 word corpus (95% of original 9227204, drops 446465)\n",
      "2020-08-14 20:59:35,627 : INFO : deleting the raw counts dictionary of 290418 items\n",
      "2020-08-14 20:59:35,639 : INFO : sample=0.001 downsamples 45 most-common words\n",
      "2020-08-14 20:59:35,640 : INFO : downsampling leaves estimated 8222658 word corpus (93.6% of prior 8780739)\n",
      "2020-08-14 20:59:35,797 : INFO : estimated required memory for 30369 words and 300 dimensions: 88070100 bytes\n",
      "2020-08-14 20:59:35,797 : INFO : resetting layer weights\n"
     ]
    }
   ],
   "source": [
    "w2v_model.build_vocab(documents)"
   ]
  },
  {
   "cell_type": "code",
   "execution_count": 16,
   "metadata": {
    "scrolled": true
   },
   "outputs": [
    {
     "name": "stdout",
     "output_type": "stream",
     "text": [
      "Vocab size 30369\n"
     ]
    }
   ],
   "source": [
    "words = w2v_model.wv.vocab.keys()\n",
    "vocab_size = len(words)\n",
    "print(\"Vocab size\", vocab_size)"
   ]
  },
  {
   "cell_type": "code",
   "execution_count": 17,
   "metadata": {},
   "outputs": [
    {
     "name": "stderr",
     "output_type": "stream",
     "text": [
      "2020-08-14 20:59:48,482 : INFO : training model with 8 workers on 30369 vocabulary and 300 features, using sg=0 hs=0 sample=0.001 negative=5 window=7\n",
      "2020-08-14 20:59:49,515 : INFO : EPOCH 1 - PROGRESS: at 6.08% examples, 493971 words/s, in_qsize 16, out_qsize 0\n",
      "2020-08-14 20:59:50,519 : INFO : EPOCH 1 - PROGRESS: at 13.47% examples, 548186 words/s, in_qsize 15, out_qsize 0\n",
      "2020-08-14 20:59:51,528 : INFO : EPOCH 1 - PROGRESS: at 20.59% examples, 559442 words/s, in_qsize 15, out_qsize 1\n",
      "2020-08-14 20:59:52,569 : INFO : EPOCH 1 - PROGRESS: at 27.75% examples, 560955 words/s, in_qsize 16, out_qsize 0\n",
      "2020-08-14 20:59:53,610 : INFO : EPOCH 1 - PROGRESS: at 34.89% examples, 561962 words/s, in_qsize 16, out_qsize 1\n",
      "2020-08-14 20:59:54,619 : INFO : EPOCH 1 - PROGRESS: at 42.13% examples, 566740 words/s, in_qsize 15, out_qsize 0\n",
      "2020-08-14 20:59:55,631 : INFO : EPOCH 1 - PROGRESS: at 49.49% examples, 571201 words/s, in_qsize 15, out_qsize 0\n",
      "2020-08-14 20:59:56,675 : INFO : EPOCH 1 - PROGRESS: at 56.08% examples, 565009 words/s, in_qsize 15, out_qsize 2\n",
      "2020-08-14 20:59:57,693 : INFO : EPOCH 1 - PROGRESS: at 63.11% examples, 565391 words/s, in_qsize 16, out_qsize 0\n",
      "2020-08-14 20:59:58,692 : INFO : EPOCH 1 - PROGRESS: at 70.37% examples, 568416 words/s, in_qsize 15, out_qsize 0\n",
      "2020-08-14 20:59:59,706 : INFO : EPOCH 1 - PROGRESS: at 76.98% examples, 565535 words/s, in_qsize 15, out_qsize 0\n",
      "2020-08-14 21:00:00,709 : INFO : EPOCH 1 - PROGRESS: at 83.51% examples, 562848 words/s, in_qsize 15, out_qsize 1\n",
      "2020-08-14 21:00:01,752 : INFO : EPOCH 1 - PROGRESS: at 91.09% examples, 565449 words/s, in_qsize 15, out_qsize 0\n",
      "2020-08-14 21:00:02,781 : INFO : EPOCH 1 - PROGRESS: at 98.58% examples, 567700 words/s, in_qsize 13, out_qsize 1\n",
      "2020-08-14 21:00:02,846 : INFO : worker thread finished; awaiting finish of 7 more threads\n",
      "2020-08-14 21:00:02,872 : INFO : worker thread finished; awaiting finish of 6 more threads\n",
      "2020-08-14 21:00:02,875 : INFO : worker thread finished; awaiting finish of 5 more threads\n",
      "2020-08-14 21:00:02,877 : INFO : worker thread finished; awaiting finish of 4 more threads\n",
      "2020-08-14 21:00:02,901 : INFO : worker thread finished; awaiting finish of 3 more threads\n",
      "2020-08-14 21:00:02,913 : INFO : worker thread finished; awaiting finish of 2 more threads\n",
      "2020-08-14 21:00:02,924 : INFO : worker thread finished; awaiting finish of 1 more threads\n",
      "2020-08-14 21:00:02,927 : INFO : worker thread finished; awaiting finish of 0 more threads\n",
      "2020-08-14 21:00:02,929 : INFO : EPOCH - 1 : training on 9227204 raw words (8222704 effective words) took 14.4s, 570112 effective words/s\n",
      "2020-08-14 21:00:04,003 : INFO : EPOCH 2 - PROGRESS: at 6.51% examples, 505453 words/s, in_qsize 16, out_qsize 2\n",
      "2020-08-14 21:00:05,031 : INFO : EPOCH 2 - PROGRESS: at 13.79% examples, 541328 words/s, in_qsize 15, out_qsize 1\n",
      "2020-08-14 21:00:06,080 : INFO : EPOCH 2 - PROGRESS: at 20.81% examples, 545478 words/s, in_qsize 16, out_qsize 1\n",
      "2020-08-14 21:00:07,087 : INFO : EPOCH 2 - PROGRESS: at 27.53% examples, 545944 words/s, in_qsize 15, out_qsize 0\n",
      "2020-08-14 21:00:08,093 : INFO : EPOCH 2 - PROGRESS: at 34.02% examples, 543024 words/s, in_qsize 15, out_qsize 0\n",
      "2020-08-14 21:00:09,099 : INFO : EPOCH 2 - PROGRESS: at 41.05% examples, 548524 words/s, in_qsize 13, out_qsize 2\n",
      "2020-08-14 21:00:10,118 : INFO : EPOCH 2 - PROGRESS: at 48.62% examples, 557517 words/s, in_qsize 15, out_qsize 0\n",
      "2020-08-14 21:00:11,131 : INFO : EPOCH 2 - PROGRESS: at 55.64% examples, 559398 words/s, in_qsize 15, out_qsize 0\n",
      "2020-08-14 21:00:12,133 : INFO : EPOCH 2 - PROGRESS: at 62.14% examples, 556429 words/s, in_qsize 15, out_qsize 0\n",
      "2020-08-14 21:00:13,139 : INFO : EPOCH 2 - PROGRESS: at 68.96% examples, 556700 words/s, in_qsize 16, out_qsize 0\n",
      "2020-08-14 21:00:14,142 : INFO : EPOCH 2 - PROGRESS: at 76.22% examples, 560040 words/s, in_qsize 15, out_qsize 0\n",
      "2020-08-14 21:00:15,162 : INFO : EPOCH 2 - PROGRESS: at 82.85% examples, 557689 words/s, in_qsize 15, out_qsize 0\n",
      "2020-08-14 21:00:16,164 : INFO : EPOCH 2 - PROGRESS: at 90.00% examples, 559950 words/s, in_qsize 16, out_qsize 0\n",
      "2020-08-14 21:00:17,168 : INFO : EPOCH 2 - PROGRESS: at 96.96% examples, 560414 words/s, in_qsize 13, out_qsize 2\n",
      "2020-08-14 21:00:17,448 : INFO : worker thread finished; awaiting finish of 7 more threads\n",
      "2020-08-14 21:00:17,455 : INFO : worker thread finished; awaiting finish of 6 more threads\n",
      "2020-08-14 21:00:17,457 : INFO : worker thread finished; awaiting finish of 5 more threads\n",
      "2020-08-14 21:00:17,475 : INFO : worker thread finished; awaiting finish of 4 more threads\n",
      "2020-08-14 21:00:17,481 : INFO : worker thread finished; awaiting finish of 3 more threads\n",
      "2020-08-14 21:00:17,489 : INFO : worker thread finished; awaiting finish of 2 more threads\n",
      "2020-08-14 21:00:17,496 : INFO : worker thread finished; awaiting finish of 1 more threads\n",
      "2020-08-14 21:00:17,500 : INFO : worker thread finished; awaiting finish of 0 more threads\n",
      "2020-08-14 21:00:17,501 : INFO : EPOCH - 2 : training on 9227204 raw words (8222336 effective words) took 14.6s, 564890 effective words/s\n",
      "2020-08-14 21:00:18,532 : INFO : EPOCH 3 - PROGRESS: at 5.75% examples, 466184 words/s, in_qsize 15, out_qsize 0\n",
      "2020-08-14 21:00:19,536 : INFO : EPOCH 3 - PROGRESS: at 12.06% examples, 489684 words/s, in_qsize 13, out_qsize 2\n",
      "2020-08-14 21:00:20,541 : INFO : EPOCH 3 - PROGRESS: at 19.29% examples, 524733 words/s, in_qsize 16, out_qsize 2\n",
      "2020-08-14 21:00:21,554 : INFO : EPOCH 3 - PROGRESS: at 26.34% examples, 536504 words/s, in_qsize 15, out_qsize 0\n",
      "2020-08-14 21:00:22,575 : INFO : EPOCH 3 - PROGRESS: at 33.70% examples, 547839 words/s, in_qsize 15, out_qsize 0\n",
      "2020-08-14 21:00:23,577 : INFO : EPOCH 3 - PROGRESS: at 41.05% examples, 557260 words/s, in_qsize 15, out_qsize 0\n",
      "2020-08-14 21:00:24,599 : INFO : EPOCH 3 - PROGRESS: at 47.86% examples, 556146 words/s, in_qsize 15, out_qsize 0\n",
      "2020-08-14 21:00:25,620 : INFO : EPOCH 3 - PROGRESS: at 53.70% examples, 545382 words/s, in_qsize 15, out_qsize 0\n",
      "2020-08-14 21:00:26,633 : INFO : EPOCH 3 - PROGRESS: at 60.63% examples, 547480 words/s, in_qsize 15, out_qsize 0\n",
      "2020-08-14 21:00:27,643 : INFO : EPOCH 3 - PROGRESS: at 66.37% examples, 539393 words/s, in_qsize 16, out_qsize 0\n",
      "2020-08-14 21:00:28,648 : INFO : EPOCH 3 - PROGRESS: at 72.32% examples, 534823 words/s, in_qsize 15, out_qsize 0\n",
      "2020-08-14 21:00:29,654 : INFO : EPOCH 3 - PROGRESS: at 78.95% examples, 535166 words/s, in_qsize 13, out_qsize 2\n",
      "2020-08-14 21:00:30,662 : INFO : EPOCH 3 - PROGRESS: at 85.77% examples, 536825 words/s, in_qsize 15, out_qsize 0\n",
      "2020-08-14 21:00:31,740 : INFO : EPOCH 3 - PROGRESS: at 92.17% examples, 533065 words/s, in_qsize 13, out_qsize 2\n",
      "2020-08-14 21:00:32,733 : INFO : worker thread finished; awaiting finish of 7 more threads\n",
      "2020-08-14 21:00:32,737 : INFO : worker thread finished; awaiting finish of 6 more threads\n",
      "2020-08-14 21:00:32,744 : INFO : EPOCH 3 - PROGRESS: at 99.45% examples, 537208 words/s, in_qsize 5, out_qsize 1\n",
      "2020-08-14 21:00:32,747 : INFO : worker thread finished; awaiting finish of 5 more threads\n",
      "2020-08-14 21:00:32,753 : INFO : worker thread finished; awaiting finish of 4 more threads\n",
      "2020-08-14 21:00:32,767 : INFO : worker thread finished; awaiting finish of 3 more threads\n",
      "2020-08-14 21:00:32,777 : INFO : worker thread finished; awaiting finish of 2 more threads\n",
      "2020-08-14 21:00:32,781 : INFO : worker thread finished; awaiting finish of 1 more threads\n",
      "2020-08-14 21:00:32,790 : INFO : worker thread finished; awaiting finish of 0 more threads\n",
      "2020-08-14 21:00:32,794 : INFO : EPOCH - 3 : training on 9227204 raw words (8222802 effective words) took 15.3s, 538344 effective words/s\n",
      "2020-08-14 21:00:33,825 : INFO : EPOCH 4 - PROGRESS: at 4.56% examples, 368793 words/s, in_qsize 15, out_qsize 0\n",
      "2020-08-14 21:00:34,832 : INFO : EPOCH 4 - PROGRESS: at 11.62% examples, 471968 words/s, in_qsize 15, out_qsize 0\n",
      "2020-08-14 21:00:35,885 : INFO : EPOCH 4 - PROGRESS: at 18.00% examples, 480961 words/s, in_qsize 13, out_qsize 2\n",
      "2020-08-14 21:00:36,887 : INFO : EPOCH 4 - PROGRESS: at 23.96% examples, 482959 words/s, in_qsize 15, out_qsize 0\n",
      "2020-08-14 21:00:37,891 : INFO : EPOCH 4 - PROGRESS: at 29.91% examples, 483926 words/s, in_qsize 16, out_qsize 0\n"
     ]
    },
    {
     "name": "stderr",
     "output_type": "stream",
     "text": [
      "2020-08-14 21:00:38,893 : INFO : EPOCH 4 - PROGRESS: at 37.05% examples, 500808 words/s, in_qsize 15, out_qsize 0\n",
      "2020-08-14 21:00:39,919 : INFO : EPOCH 4 - PROGRESS: at 44.07% examples, 510155 words/s, in_qsize 15, out_qsize 3\n",
      "2020-08-14 21:00:40,922 : INFO : EPOCH 4 - PROGRESS: at 51.43% examples, 521735 words/s, in_qsize 14, out_qsize 1\n",
      "2020-08-14 21:00:41,958 : INFO : EPOCH 4 - PROGRESS: at 58.58% examples, 526840 words/s, in_qsize 15, out_qsize 0\n",
      "2020-08-14 21:00:42,991 : INFO : EPOCH 4 - PROGRESS: at 65.93% examples, 532872 words/s, in_qsize 15, out_qsize 0\n",
      "2020-08-14 21:00:44,004 : INFO : EPOCH 4 - PROGRESS: at 72.32% examples, 531633 words/s, in_qsize 16, out_qsize 1\n",
      "2020-08-14 21:00:45,019 : INFO : EPOCH 4 - PROGRESS: at 78.62% examples, 529779 words/s, in_qsize 16, out_qsize 0\n",
      "2020-08-14 21:00:46,020 : INFO : EPOCH 4 - PROGRESS: at 84.80% examples, 527953 words/s, in_qsize 15, out_qsize 0\n",
      "2020-08-14 21:00:47,024 : INFO : EPOCH 4 - PROGRESS: at 91.09% examples, 527078 words/s, in_qsize 15, out_qsize 0\n",
      "2020-08-14 21:00:48,053 : INFO : EPOCH 4 - PROGRESS: at 98.36% examples, 530622 words/s, in_qsize 15, out_qsize 1\n",
      "2020-08-14 21:00:48,175 : INFO : worker thread finished; awaiting finish of 7 more threads\n",
      "2020-08-14 21:00:48,183 : INFO : worker thread finished; awaiting finish of 6 more threads\n",
      "2020-08-14 21:00:48,197 : INFO : worker thread finished; awaiting finish of 5 more threads\n",
      "2020-08-14 21:00:48,199 : INFO : worker thread finished; awaiting finish of 4 more threads\n",
      "2020-08-14 21:00:48,202 : INFO : worker thread finished; awaiting finish of 3 more threads\n",
      "2020-08-14 21:00:48,222 : INFO : worker thread finished; awaiting finish of 2 more threads\n",
      "2020-08-14 21:00:48,224 : INFO : worker thread finished; awaiting finish of 1 more threads\n",
      "2020-08-14 21:00:48,232 : INFO : worker thread finished; awaiting finish of 0 more threads\n",
      "2020-08-14 21:00:48,235 : INFO : EPOCH - 4 : training on 9227204 raw words (8222450 effective words) took 15.4s, 533106 effective words/s\n",
      "2020-08-14 21:00:49,258 : INFO : EPOCH 5 - PROGRESS: at 5.65% examples, 461146 words/s, in_qsize 14, out_qsize 1\n",
      "2020-08-14 21:00:50,264 : INFO : EPOCH 5 - PROGRESS: at 12.17% examples, 496173 words/s, in_qsize 15, out_qsize 0\n",
      "2020-08-14 21:00:51,274 : INFO : EPOCH 5 - PROGRESS: at 17.78% examples, 483669 words/s, in_qsize 15, out_qsize 0\n",
      "2020-08-14 21:00:52,298 : INFO : EPOCH 5 - PROGRESS: at 23.52% examples, 478010 words/s, in_qsize 15, out_qsize 0\n",
      "2020-08-14 21:00:53,302 : INFO : EPOCH 5 - PROGRESS: at 30.56% examples, 497336 words/s, in_qsize 16, out_qsize 0\n",
      "2020-08-14 21:00:54,308 : INFO : EPOCH 5 - PROGRESS: at 37.81% examples, 513519 words/s, in_qsize 15, out_qsize 0\n",
      "2020-08-14 21:00:55,323 : INFO : EPOCH 5 - PROGRESS: at 44.62% examples, 519146 words/s, in_qsize 16, out_qsize 1\n",
      "2020-08-14 21:00:56,336 : INFO : EPOCH 5 - PROGRESS: at 51.75% examples, 526844 words/s, in_qsize 15, out_qsize 0\n",
      "2020-08-14 21:00:57,353 : INFO : EPOCH 5 - PROGRESS: at 58.69% examples, 530585 words/s, in_qsize 14, out_qsize 2\n",
      "2020-08-14 21:00:58,359 : INFO : EPOCH 5 - PROGRESS: at 65.93% examples, 536788 words/s, in_qsize 16, out_qsize 2\n",
      "2020-08-14 21:00:59,362 : INFO : EPOCH 5 - PROGRESS: at 72.86% examples, 539638 words/s, in_qsize 15, out_qsize 0\n",
      "2020-08-14 21:01:00,413 : INFO : EPOCH 5 - PROGRESS: at 79.81% examples, 539940 words/s, in_qsize 14, out_qsize 2\n",
      "2020-08-14 21:01:01,438 : INFO : EPOCH 5 - PROGRESS: at 86.53% examples, 539820 words/s, in_qsize 15, out_qsize 0\n",
      "2020-08-14 21:01:02,444 : INFO : EPOCH 5 - PROGRESS: at 93.26% examples, 540442 words/s, in_qsize 15, out_qsize 0\n",
      "2020-08-14 21:01:03,222 : INFO : worker thread finished; awaiting finish of 7 more threads\n",
      "2020-08-14 21:01:03,237 : INFO : worker thread finished; awaiting finish of 6 more threads\n",
      "2020-08-14 21:01:03,241 : INFO : worker thread finished; awaiting finish of 5 more threads\n",
      "2020-08-14 21:01:03,266 : INFO : worker thread finished; awaiting finish of 4 more threads\n",
      "2020-08-14 21:01:03,271 : INFO : worker thread finished; awaiting finish of 3 more threads\n",
      "2020-08-14 21:01:03,272 : INFO : worker thread finished; awaiting finish of 2 more threads\n",
      "2020-08-14 21:01:03,287 : INFO : worker thread finished; awaiting finish of 1 more threads\n",
      "2020-08-14 21:01:03,295 : INFO : worker thread finished; awaiting finish of 0 more threads\n",
      "2020-08-14 21:01:03,298 : INFO : EPOCH - 5 : training on 9227204 raw words (8222965 effective words) took 15.0s, 546559 effective words/s\n",
      "2020-08-14 21:01:04,338 : INFO : EPOCH 6 - PROGRESS: at 4.67% examples, 374952 words/s, in_qsize 14, out_qsize 1\n",
      "2020-08-14 21:01:05,340 : INFO : EPOCH 6 - PROGRESS: at 11.84% examples, 480212 words/s, in_qsize 15, out_qsize 0\n",
      "2020-08-14 21:01:06,348 : INFO : EPOCH 6 - PROGRESS: at 18.65% examples, 505581 words/s, in_qsize 13, out_qsize 2\n",
      "2020-08-14 21:01:07,346 : INFO : EPOCH 6 - PROGRESS: at 25.80% examples, 525968 words/s, in_qsize 15, out_qsize 0\n",
      "2020-08-14 21:01:08,458 : INFO : EPOCH 6 - PROGRESS: at 33.06% examples, 528655 words/s, in_qsize 15, out_qsize 1\n",
      "2020-08-14 21:01:09,466 : INFO : EPOCH 6 - PROGRESS: at 40.29% examples, 538968 words/s, in_qsize 14, out_qsize 1\n",
      "2020-08-14 21:01:10,483 : INFO : EPOCH 6 - PROGRESS: at 47.32% examples, 543377 words/s, in_qsize 16, out_qsize 0\n",
      "2020-08-14 21:01:11,523 : INFO : EPOCH 6 - PROGRESS: at 53.81% examples, 539579 words/s, in_qsize 15, out_qsize 0\n",
      "2020-08-14 21:01:12,523 : INFO : EPOCH 6 - PROGRESS: at 59.98% examples, 536130 words/s, in_qsize 16, out_qsize 0\n",
      "2020-08-14 21:01:13,553 : INFO : EPOCH 6 - PROGRESS: at 67.24% examples, 540408 words/s, in_qsize 14, out_qsize 1\n",
      "2020-08-14 21:01:14,587 : INFO : EPOCH 6 - PROGRESS: at 74.81% examples, 546150 words/s, in_qsize 14, out_qsize 1\n",
      "2020-08-14 21:01:15,607 : INFO : EPOCH 6 - PROGRESS: at 82.21% examples, 550223 words/s, in_qsize 16, out_qsize 0\n",
      "2020-08-14 21:01:16,610 : INFO : EPOCH 6 - PROGRESS: at 93.59% examples, 578959 words/s, in_qsize 14, out_qsize 1\n",
      "2020-08-14 21:01:17,126 : INFO : worker thread finished; awaiting finish of 7 more threads\n",
      "2020-08-14 21:01:17,139 : INFO : worker thread finished; awaiting finish of 6 more threads\n",
      "2020-08-14 21:01:17,141 : INFO : worker thread finished; awaiting finish of 5 more threads\n",
      "2020-08-14 21:01:17,162 : INFO : worker thread finished; awaiting finish of 4 more threads\n",
      "2020-08-14 21:01:17,167 : INFO : worker thread finished; awaiting finish of 3 more threads\n",
      "2020-08-14 21:01:17,167 : INFO : worker thread finished; awaiting finish of 2 more threads\n",
      "2020-08-14 21:01:17,197 : INFO : worker thread finished; awaiting finish of 1 more threads\n",
      "2020-08-14 21:01:17,204 : INFO : worker thread finished; awaiting finish of 0 more threads\n",
      "2020-08-14 21:01:17,208 : INFO : EPOCH - 6 : training on 9227204 raw words (8222005 effective words) took 13.9s, 592004 effective words/s\n",
      "2020-08-14 21:01:18,272 : INFO : EPOCH 7 - PROGRESS: at 6.19% examples, 484221 words/s, in_qsize 14, out_qsize 1\n",
      "2020-08-14 21:01:19,307 : INFO : EPOCH 7 - PROGRESS: at 13.79% examples, 542854 words/s, in_qsize 14, out_qsize 1\n",
      "2020-08-14 21:01:20,326 : INFO : EPOCH 7 - PROGRESS: at 21.14% examples, 559916 words/s, in_qsize 15, out_qsize 0\n",
      "2020-08-14 21:01:21,331 : INFO : EPOCH 7 - PROGRESS: at 28.07% examples, 561850 words/s, in_qsize 16, out_qsize 0\n",
      "2020-08-14 21:01:22,339 : INFO : EPOCH 7 - PROGRESS: at 35.32% examples, 567677 words/s, in_qsize 14, out_qsize 1\n",
      "2020-08-14 21:01:23,383 : INFO : EPOCH 7 - PROGRESS: at 42.35% examples, 565436 words/s, in_qsize 15, out_qsize 0\n",
      "2020-08-14 21:01:24,390 : INFO : EPOCH 7 - PROGRESS: at 49.49% examples, 568299 words/s, in_qsize 15, out_qsize 0\n",
      "2020-08-14 21:01:25,508 : INFO : EPOCH 7 - PROGRESS: at 55.97% examples, 556158 words/s, in_qsize 16, out_qsize 0\n",
      "2020-08-14 21:01:26,533 : INFO : EPOCH 7 - PROGRESS: at 62.89% examples, 556087 words/s, in_qsize 13, out_qsize 3\n",
      "2020-08-14 21:01:27,542 : INFO : EPOCH 7 - PROGRESS: at 69.83% examples, 557042 words/s, in_qsize 12, out_qsize 3\n",
      "2020-08-14 21:01:28,555 : INFO : EPOCH 7 - PROGRESS: at 76.66% examples, 556657 words/s, in_qsize 15, out_qsize 0\n",
      "2020-08-14 21:01:29,559 : INFO : EPOCH 7 - PROGRESS: at 83.72% examples, 558365 words/s, in_qsize 15, out_qsize 0\n",
      "2020-08-14 21:01:30,567 : INFO : EPOCH 7 - PROGRESS: at 90.87% examples, 560168 words/s, in_qsize 13, out_qsize 2\n"
     ]
    },
    {
     "name": "stderr",
     "output_type": "stream",
     "text": [
      "2020-08-14 21:01:31,571 : INFO : EPOCH 7 - PROGRESS: at 98.47% examples, 564350 words/s, in_qsize 15, out_qsize 0\n",
      "2020-08-14 21:01:31,694 : INFO : worker thread finished; awaiting finish of 7 more threads\n",
      "2020-08-14 21:01:31,707 : INFO : worker thread finished; awaiting finish of 6 more threads\n",
      "2020-08-14 21:01:31,715 : INFO : worker thread finished; awaiting finish of 5 more threads\n",
      "2020-08-14 21:01:31,721 : INFO : worker thread finished; awaiting finish of 4 more threads\n",
      "2020-08-14 21:01:31,763 : INFO : worker thread finished; awaiting finish of 3 more threads\n",
      "2020-08-14 21:01:31,773 : INFO : worker thread finished; awaiting finish of 2 more threads\n",
      "2020-08-14 21:01:31,778 : INFO : worker thread finished; awaiting finish of 1 more threads\n",
      "2020-08-14 21:01:31,779 : INFO : worker thread finished; awaiting finish of 0 more threads\n",
      "2020-08-14 21:01:31,779 : INFO : EPOCH - 7 : training on 9227204 raw words (8222922 effective words) took 14.6s, 564953 effective words/s\n",
      "2020-08-14 21:01:32,860 : INFO : EPOCH 8 - PROGRESS: at 5.75% examples, 446910 words/s, in_qsize 15, out_qsize 0\n",
      "2020-08-14 21:01:33,873 : INFO : EPOCH 8 - PROGRESS: at 12.93% examples, 512638 words/s, in_qsize 15, out_qsize 0\n",
      "2020-08-14 21:01:34,898 : INFO : EPOCH 8 - PROGRESS: at 19.62% examples, 521124 words/s, in_qsize 14, out_qsize 1\n",
      "2020-08-14 21:01:35,899 : INFO : EPOCH 8 - PROGRESS: at 26.67% examples, 535052 words/s, in_qsize 13, out_qsize 1\n",
      "2020-08-14 21:01:36,913 : INFO : EPOCH 8 - PROGRESS: at 33.81% examples, 543628 words/s, in_qsize 15, out_qsize 0\n",
      "2020-08-14 21:01:37,929 : INFO : EPOCH 8 - PROGRESS: at 40.94% examples, 549462 words/s, in_qsize 15, out_qsize 0\n",
      "2020-08-14 21:01:38,939 : INFO : EPOCH 8 - PROGRESS: at 47.86% examples, 551697 words/s, in_qsize 12, out_qsize 3\n",
      "2020-08-14 21:01:39,964 : INFO : EPOCH 8 - PROGRESS: at 55.10% examples, 555503 words/s, in_qsize 15, out_qsize 0\n",
      "2020-08-14 21:01:40,971 : INFO : EPOCH 8 - PROGRESS: at 61.71% examples, 553919 words/s, in_qsize 16, out_qsize 2\n",
      "2020-08-14 21:01:41,975 : INFO : EPOCH 8 - PROGRESS: at 68.43% examples, 553572 words/s, in_qsize 16, out_qsize 0\n",
      "2020-08-14 21:01:43,021 : INFO : EPOCH 8 - PROGRESS: at 75.57% examples, 554263 words/s, in_qsize 15, out_qsize 0\n",
      "2020-08-14 21:01:44,023 : INFO : EPOCH 8 - PROGRESS: at 82.64% examples, 556264 words/s, in_qsize 14, out_qsize 1\n",
      "2020-08-14 21:01:45,038 : INFO : EPOCH 8 - PROGRESS: at 90.22% examples, 560710 words/s, in_qsize 16, out_qsize 1\n",
      "2020-08-14 21:01:46,041 : INFO : EPOCH 8 - PROGRESS: at 97.29% examples, 561751 words/s, in_qsize 15, out_qsize 0\n",
      "2020-08-14 21:01:46,292 : INFO : worker thread finished; awaiting finish of 7 more threads\n",
      "2020-08-14 21:01:46,297 : INFO : worker thread finished; awaiting finish of 6 more threads\n",
      "2020-08-14 21:01:46,297 : INFO : worker thread finished; awaiting finish of 5 more threads\n",
      "2020-08-14 21:01:46,309 : INFO : worker thread finished; awaiting finish of 4 more threads\n",
      "2020-08-14 21:01:46,313 : INFO : worker thread finished; awaiting finish of 3 more threads\n",
      "2020-08-14 21:01:46,341 : INFO : worker thread finished; awaiting finish of 2 more threads\n",
      "2020-08-14 21:01:46,350 : INFO : worker thread finished; awaiting finish of 1 more threads\n",
      "2020-08-14 21:01:46,358 : INFO : worker thread finished; awaiting finish of 0 more threads\n",
      "2020-08-14 21:01:46,358 : INFO : EPOCH - 8 : training on 9227204 raw words (8222450 effective words) took 14.6s, 564853 effective words/s\n",
      "2020-08-14 21:01:47,387 : INFO : EPOCH 9 - PROGRESS: at 4.89% examples, 398737 words/s, in_qsize 16, out_qsize 0\n",
      "2020-08-14 21:01:48,427 : INFO : EPOCH 9 - PROGRESS: at 12.50% examples, 501684 words/s, in_qsize 14, out_qsize 1\n",
      "2020-08-14 21:01:49,441 : INFO : EPOCH 9 - PROGRESS: at 19.51% examples, 524417 words/s, in_qsize 13, out_qsize 2\n",
      "2020-08-14 21:01:50,451 : INFO : EPOCH 9 - PROGRESS: at 26.45% examples, 534672 words/s, in_qsize 16, out_qsize 0\n",
      "2020-08-14 21:01:51,456 : INFO : EPOCH 9 - PROGRESS: at 32.84% examples, 531938 words/s, in_qsize 11, out_qsize 4\n",
      "2020-08-14 21:01:52,495 : INFO : EPOCH 9 - PROGRESS: at 40.40% examples, 543728 words/s, in_qsize 15, out_qsize 0\n",
      "2020-08-14 21:01:53,499 : INFO : EPOCH 9 - PROGRESS: at 46.67% examples, 539707 words/s, in_qsize 15, out_qsize 1\n",
      "2020-08-14 21:01:54,511 : INFO : EPOCH 9 - PROGRESS: at 53.27% examples, 539366 words/s, in_qsize 13, out_qsize 2\n",
      "2020-08-14 21:01:55,549 : INFO : EPOCH 9 - PROGRESS: at 60.19% examples, 540416 words/s, in_qsize 15, out_qsize 0\n",
      "2020-08-14 21:01:56,558 : INFO : EPOCH 9 - PROGRESS: at 66.47% examples, 537679 words/s, in_qsize 13, out_qsize 2\n",
      "2020-08-14 21:01:57,564 : INFO : EPOCH 9 - PROGRESS: at 73.52% examples, 540970 words/s, in_qsize 16, out_qsize 1\n",
      "2020-08-14 21:01:58,573 : INFO : EPOCH 9 - PROGRESS: at 79.60% examples, 537095 words/s, in_qsize 15, out_qsize 0\n",
      "2020-08-14 21:01:59,582 : INFO : EPOCH 9 - PROGRESS: at 85.13% examples, 530521 words/s, in_qsize 15, out_qsize 0\n",
      "2020-08-14 21:02:00,614 : INFO : EPOCH 9 - PROGRESS: at 90.33% examples, 522078 words/s, in_qsize 15, out_qsize 0\n",
      "2020-08-14 21:02:01,638 : INFO : EPOCH 9 - PROGRESS: at 95.99% examples, 517370 words/s, in_qsize 15, out_qsize 0\n",
      "2020-08-14 21:02:02,082 : INFO : worker thread finished; awaiting finish of 7 more threads\n",
      "2020-08-14 21:02:02,096 : INFO : worker thread finished; awaiting finish of 6 more threads\n",
      "2020-08-14 21:02:02,105 : INFO : worker thread finished; awaiting finish of 5 more threads\n",
      "2020-08-14 21:02:02,119 : INFO : worker thread finished; awaiting finish of 4 more threads\n",
      "2020-08-14 21:02:02,122 : INFO : worker thread finished; awaiting finish of 3 more threads\n",
      "2020-08-14 21:02:02,130 : INFO : worker thread finished; awaiting finish of 2 more threads\n",
      "2020-08-14 21:02:02,145 : INFO : worker thread finished; awaiting finish of 1 more threads\n",
      "2020-08-14 21:02:02,150 : INFO : worker thread finished; awaiting finish of 0 more threads\n",
      "2020-08-14 21:02:02,152 : INFO : EPOCH - 9 : training on 9227204 raw words (8222538 effective words) took 15.8s, 521514 effective words/s\n",
      "2020-08-14 21:02:03,247 : INFO : EPOCH 10 - PROGRESS: at 4.34% examples, 332877 words/s, in_qsize 14, out_qsize 1\n",
      "2020-08-14 21:02:04,265 : INFO : EPOCH 10 - PROGRESS: at 11.73% examples, 460229 words/s, in_qsize 13, out_qsize 2\n",
      "2020-08-14 21:02:05,287 : INFO : EPOCH 10 - PROGRESS: at 18.65% examples, 492478 words/s, in_qsize 15, out_qsize 2\n",
      "2020-08-14 21:02:06,287 : INFO : EPOCH 10 - PROGRESS: at 26.23% examples, 524291 words/s, in_qsize 15, out_qsize 0\n",
      "2020-08-14 21:02:07,308 : INFO : EPOCH 10 - PROGRESS: at 33.48% examples, 536354 words/s, in_qsize 14, out_qsize 1\n",
      "2020-08-14 21:02:08,326 : INFO : EPOCH 10 - PROGRESS: at 40.83% examples, 546039 words/s, in_qsize 15, out_qsize 0\n",
      "2020-08-14 21:02:09,338 : INFO : EPOCH 10 - PROGRESS: at 48.08% examples, 552352 words/s, in_qsize 13, out_qsize 2\n",
      "2020-08-14 21:02:10,363 : INFO : EPOCH 10 - PROGRESS: at 55.42% examples, 557217 words/s, in_qsize 15, out_qsize 0\n",
      "2020-08-14 21:02:11,366 : INFO : EPOCH 10 - PROGRESS: at 62.36% examples, 558311 words/s, in_qsize 14, out_qsize 1\n",
      "2020-08-14 21:02:12,382 : INFO : EPOCH 10 - PROGRESS: at 69.83% examples, 562973 words/s, in_qsize 14, out_qsize 1\n",
      "2020-08-14 21:02:13,392 : INFO : EPOCH 10 - PROGRESS: at 77.09% examples, 565507 words/s, in_qsize 15, out_qsize 0\n",
      "2020-08-14 21:02:14,391 : INFO : EPOCH 10 - PROGRESS: at 83.83% examples, 564392 words/s, in_qsize 14, out_qsize 1\n",
      "2020-08-14 21:02:15,431 : INFO : EPOCH 10 - PROGRESS: at 90.54% examples, 561878 words/s, in_qsize 15, out_qsize 0\n",
      "2020-08-14 21:02:16,435 : INFO : EPOCH 10 - PROGRESS: at 97.71% examples, 563524 words/s, in_qsize 15, out_qsize 1\n",
      "2020-08-14 21:02:16,614 : INFO : worker thread finished; awaiting finish of 7 more threads\n",
      "2020-08-14 21:02:16,621 : INFO : worker thread finished; awaiting finish of 6 more threads\n",
      "2020-08-14 21:02:16,623 : INFO : worker thread finished; awaiting finish of 5 more threads\n",
      "2020-08-14 21:02:16,623 : INFO : worker thread finished; awaiting finish of 4 more threads\n",
      "2020-08-14 21:02:16,651 : INFO : worker thread finished; awaiting finish of 3 more threads\n",
      "2020-08-14 21:02:16,658 : INFO : worker thread finished; awaiting finish of 2 more threads\n",
      "2020-08-14 21:02:16,661 : INFO : worker thread finished; awaiting finish of 1 more threads\n"
     ]
    },
    {
     "name": "stderr",
     "output_type": "stream",
     "text": [
      "2020-08-14 21:02:16,675 : INFO : worker thread finished; awaiting finish of 0 more threads\n",
      "2020-08-14 21:02:16,675 : INFO : EPOCH - 10 : training on 9227204 raw words (8222971 effective words) took 14.5s, 567061 effective words/s\n",
      "2020-08-14 21:02:17,746 : INFO : EPOCH 11 - PROGRESS: at 6.18% examples, 484474 words/s, in_qsize 16, out_qsize 0\n",
      "2020-08-14 21:02:18,757 : INFO : EPOCH 11 - PROGRESS: at 13.79% examples, 549380 words/s, in_qsize 16, out_qsize 0\n",
      "2020-08-14 21:02:19,775 : INFO : EPOCH 11 - PROGRESS: at 20.59% examples, 550166 words/s, in_qsize 16, out_qsize 0\n",
      "2020-08-14 21:02:20,783 : INFO : EPOCH 11 - PROGRESS: at 27.64% examples, 556200 words/s, in_qsize 16, out_qsize 0\n",
      "2020-08-14 21:02:21,785 : INFO : EPOCH 11 - PROGRESS: at 34.89% examples, 563572 words/s, in_qsize 16, out_qsize 0\n",
      "2020-08-14 21:02:22,807 : INFO : EPOCH 11 - PROGRESS: at 42.24% examples, 568564 words/s, in_qsize 16, out_qsize 0\n",
      "2020-08-14 21:02:23,811 : INFO : EPOCH 11 - PROGRESS: at 49.38% examples, 570908 words/s, in_qsize 15, out_qsize 0\n",
      "2020-08-14 21:02:24,845 : INFO : EPOCH 11 - PROGRESS: at 55.97% examples, 565308 words/s, in_qsize 15, out_qsize 0\n",
      "2020-08-14 21:02:25,855 : INFO : EPOCH 11 - PROGRESS: at 63.43% examples, 570161 words/s, in_qsize 15, out_qsize 0\n",
      "2020-08-14 21:02:26,852 : INFO : EPOCH 11 - PROGRESS: at 70.91% examples, 574499 words/s, in_qsize 14, out_qsize 1\n",
      "2020-08-14 21:02:27,895 : INFO : EPOCH 11 - PROGRESS: at 78.18% examples, 574408 words/s, in_qsize 15, out_qsize 0\n",
      "2020-08-14 21:02:28,910 : INFO : EPOCH 11 - PROGRESS: at 85.23% examples, 573945 words/s, in_qsize 15, out_qsize 3\n",
      "2020-08-14 21:02:29,940 : INFO : EPOCH 11 - PROGRESS: at 92.61% examples, 574972 words/s, in_qsize 13, out_qsize 2\n",
      "2020-08-14 21:02:30,819 : INFO : worker thread finished; awaiting finish of 7 more threads\n",
      "2020-08-14 21:02:30,820 : INFO : worker thread finished; awaiting finish of 6 more threads\n",
      "2020-08-14 21:02:30,834 : INFO : worker thread finished; awaiting finish of 5 more threads\n",
      "2020-08-14 21:02:30,837 : INFO : worker thread finished; awaiting finish of 4 more threads\n",
      "2020-08-14 21:02:30,852 : INFO : worker thread finished; awaiting finish of 3 more threads\n",
      "2020-08-14 21:02:30,864 : INFO : worker thread finished; awaiting finish of 2 more threads\n",
      "2020-08-14 21:02:30,866 : INFO : worker thread finished; awaiting finish of 1 more threads\n",
      "2020-08-14 21:02:30,880 : INFO : worker thread finished; awaiting finish of 0 more threads\n",
      "2020-08-14 21:02:30,883 : INFO : EPOCH - 11 : training on 9227204 raw words (8221541 effective words) took 14.2s, 579656 effective words/s\n",
      "2020-08-14 21:02:31,938 : INFO : EPOCH 12 - PROGRESS: at 5.76% examples, 458957 words/s, in_qsize 16, out_qsize 0\n",
      "2020-08-14 21:02:33,001 : INFO : EPOCH 12 - PROGRESS: at 13.14% examples, 514695 words/s, in_qsize 15, out_qsize 0\n",
      "2020-08-14 21:02:34,015 : INFO : EPOCH 12 - PROGRESS: at 20.70% examples, 547262 words/s, in_qsize 15, out_qsize 0\n",
      "2020-08-14 21:02:35,031 : INFO : EPOCH 12 - PROGRESS: at 27.86% examples, 555145 words/s, in_qsize 16, out_qsize 0\n",
      "2020-08-14 21:02:36,031 : INFO : EPOCH 12 - PROGRESS: at 35.00% examples, 561484 words/s, in_qsize 14, out_qsize 1\n",
      "2020-08-14 21:02:37,037 : INFO : EPOCH 12 - PROGRESS: at 41.70% examples, 559648 words/s, in_qsize 15, out_qsize 0\n",
      "2020-08-14 21:02:38,039 : INFO : EPOCH 12 - PROGRESS: at 48.62% examples, 560864 words/s, in_qsize 14, out_qsize 1\n",
      "2020-08-14 21:02:39,042 : INFO : EPOCH 12 - PROGRESS: at 55.97% examples, 566095 words/s, in_qsize 14, out_qsize 1\n",
      "2020-08-14 21:02:40,062 : INFO : EPOCH 12 - PROGRESS: at 63.22% examples, 568388 words/s, in_qsize 13, out_qsize 2\n",
      "2020-08-14 21:02:41,068 : INFO : EPOCH 12 - PROGRESS: at 70.48% examples, 570831 words/s, in_qsize 14, out_qsize 1\n",
      "2020-08-14 21:02:42,115 : INFO : EPOCH 12 - PROGRESS: at 78.07% examples, 573230 words/s, in_qsize 15, out_qsize 0\n",
      "2020-08-14 21:02:43,119 : INFO : EPOCH 12 - PROGRESS: at 85.34% examples, 574973 words/s, in_qsize 15, out_qsize 0\n",
      "2020-08-14 21:02:44,136 : INFO : EPOCH 12 - PROGRESS: at 92.18% examples, 573175 words/s, in_qsize 15, out_qsize 0\n",
      "2020-08-14 21:02:45,120 : INFO : worker thread finished; awaiting finish of 7 more threads\n",
      "2020-08-14 21:02:45,123 : INFO : worker thread finished; awaiting finish of 6 more threads\n",
      "2020-08-14 21:02:45,141 : INFO : EPOCH 12 - PROGRESS: at 99.45% examples, 574613 words/s, in_qsize 5, out_qsize 1\n",
      "2020-08-14 21:02:45,141 : INFO : worker thread finished; awaiting finish of 5 more threads\n",
      "2020-08-14 21:02:45,145 : INFO : worker thread finished; awaiting finish of 4 more threads\n",
      "2020-08-14 21:02:45,150 : INFO : worker thread finished; awaiting finish of 3 more threads\n",
      "2020-08-14 21:02:45,167 : INFO : worker thread finished; awaiting finish of 2 more threads\n",
      "2020-08-14 21:02:45,171 : INFO : worker thread finished; awaiting finish of 1 more threads\n",
      "2020-08-14 21:02:45,185 : INFO : worker thread finished; awaiting finish of 0 more threads\n",
      "2020-08-14 21:02:45,187 : INFO : EPOCH - 12 : training on 9227204 raw words (8222882 effective words) took 14.3s, 575908 effective words/s\n",
      "2020-08-14 21:02:46,245 : INFO : EPOCH 13 - PROGRESS: at 6.29% examples, 503422 words/s, in_qsize 16, out_qsize 3\n",
      "2020-08-14 21:02:47,258 : INFO : EPOCH 13 - PROGRESS: at 13.68% examples, 551141 words/s, in_qsize 16, out_qsize 0\n",
      "2020-08-14 21:02:48,276 : INFO : EPOCH 13 - PROGRESS: at 21.35% examples, 573839 words/s, in_qsize 14, out_qsize 1\n",
      "2020-08-14 21:02:49,283 : INFO : EPOCH 13 - PROGRESS: at 28.72% examples, 580569 words/s, in_qsize 15, out_qsize 0\n",
      "2020-08-14 21:02:50,302 : INFO : EPOCH 13 - PROGRESS: at 35.65% examples, 576646 words/s, in_qsize 14, out_qsize 1\n",
      "2020-08-14 21:02:51,303 : INFO : EPOCH 13 - PROGRESS: at 42.57% examples, 575271 words/s, in_qsize 16, out_qsize 0\n",
      "2020-08-14 21:02:52,324 : INFO : EPOCH 13 - PROGRESS: at 49.92% examples, 578040 words/s, in_qsize 16, out_qsize 0\n",
      "2020-08-14 21:02:53,327 : INFO : EPOCH 13 - PROGRESS: at 57.06% examples, 579173 words/s, in_qsize 15, out_qsize 0\n",
      "2020-08-14 21:02:54,331 : INFO : EPOCH 13 - PROGRESS: at 64.30% examples, 580896 words/s, in_qsize 15, out_qsize 0\n",
      "2020-08-14 21:02:55,341 : INFO : EPOCH 13 - PROGRESS: at 71.45% examples, 581018 words/s, in_qsize 15, out_qsize 0\n",
      "2020-08-14 21:02:56,343 : INFO : EPOCH 13 - PROGRESS: at 78.73% examples, 582304 words/s, in_qsize 15, out_qsize 0\n",
      "2020-08-14 21:02:57,342 : INFO : EPOCH 13 - PROGRESS: at 85.66% examples, 581229 words/s, in_qsize 14, out_qsize 3\n",
      "2020-08-14 21:02:58,375 : INFO : EPOCH 13 - PROGRESS: at 93.38% examples, 583719 words/s, in_qsize 14, out_qsize 1\n",
      "2020-08-14 21:02:59,204 : INFO : worker thread finished; awaiting finish of 7 more threads\n",
      "2020-08-14 21:02:59,212 : INFO : worker thread finished; awaiting finish of 6 more threads\n",
      "2020-08-14 21:02:59,219 : INFO : worker thread finished; awaiting finish of 5 more threads\n",
      "2020-08-14 21:02:59,220 : INFO : worker thread finished; awaiting finish of 4 more threads\n",
      "2020-08-14 21:02:59,224 : INFO : worker thread finished; awaiting finish of 3 more threads\n",
      "2020-08-14 21:02:59,266 : INFO : worker thread finished; awaiting finish of 2 more threads\n",
      "2020-08-14 21:02:59,270 : INFO : worker thread finished; awaiting finish of 1 more threads\n",
      "2020-08-14 21:02:59,275 : INFO : worker thread finished; awaiting finish of 0 more threads\n",
      "2020-08-14 21:02:59,278 : INFO : EPOCH - 13 : training on 9227204 raw words (8223089 effective words) took 14.1s, 584995 effective words/s\n",
      "2020-08-14 21:03:00,296 : INFO : EPOCH 14 - PROGRESS: at 6.08% examples, 498175 words/s, in_qsize 14, out_qsize 1\n",
      "2020-08-14 21:03:01,329 : INFO : EPOCH 14 - PROGRESS: at 13.25% examples, 534724 words/s, in_qsize 14, out_qsize 2\n",
      "2020-08-14 21:03:02,342 : INFO : EPOCH 14 - PROGRESS: at 20.05% examples, 540662 words/s, in_qsize 16, out_qsize 1\n",
      "2020-08-14 21:03:03,350 : INFO : EPOCH 14 - PROGRESS: at 27.20% examples, 551276 words/s, in_qsize 16, out_qsize 1\n",
      "2020-08-14 21:03:04,386 : INFO : EPOCH 14 - PROGRESS: at 34.46% examples, 556728 words/s, in_qsize 15, out_qsize 1\n",
      "2020-08-14 21:03:05,391 : INFO : EPOCH 14 - PROGRESS: at 41.81% examples, 564196 words/s, in_qsize 14, out_qsize 1\n",
      "2020-08-14 21:03:06,412 : INFO : EPOCH 14 - PROGRESS: at 49.27% examples, 569328 words/s, in_qsize 14, out_qsize 1\n"
     ]
    },
    {
     "name": "stderr",
     "output_type": "stream",
     "text": [
      "2020-08-14 21:03:07,462 : INFO : EPOCH 14 - PROGRESS: at 56.51% examples, 569492 words/s, in_qsize 14, out_qsize 1\n",
      "2020-08-14 21:03:08,465 : INFO : EPOCH 14 - PROGRESS: at 64.19% examples, 576046 words/s, in_qsize 15, out_qsize 0\n",
      "2020-08-14 21:03:09,489 : INFO : EPOCH 14 - PROGRESS: at 71.35% examples, 575835 words/s, in_qsize 15, out_qsize 0\n",
      "2020-08-14 21:03:10,504 : INFO : EPOCH 14 - PROGRESS: at 78.62% examples, 576939 words/s, in_qsize 14, out_qsize 1\n",
      "2020-08-14 21:03:11,540 : INFO : EPOCH 14 - PROGRESS: at 85.77% examples, 576171 words/s, in_qsize 15, out_qsize 0\n",
      "2020-08-14 21:03:12,539 : INFO : EPOCH 14 - PROGRESS: at 92.28% examples, 572920 words/s, in_qsize 12, out_qsize 1\n",
      "2020-08-14 21:03:13,469 : INFO : worker thread finished; awaiting finish of 7 more threads\n",
      "2020-08-14 21:03:13,497 : INFO : worker thread finished; awaiting finish of 6 more threads\n",
      "2020-08-14 21:03:13,500 : INFO : worker thread finished; awaiting finish of 5 more threads\n",
      "2020-08-14 21:03:13,518 : INFO : worker thread finished; awaiting finish of 4 more threads\n",
      "2020-08-14 21:03:13,528 : INFO : worker thread finished; awaiting finish of 3 more threads\n",
      "2020-08-14 21:03:13,536 : INFO : worker thread finished; awaiting finish of 2 more threads\n",
      "2020-08-14 21:03:13,552 : INFO : EPOCH 14 - PROGRESS: at 99.89% examples, 576178 words/s, in_qsize 1, out_qsize 1\n",
      "2020-08-14 21:03:13,555 : INFO : worker thread finished; awaiting finish of 1 more threads\n",
      "2020-08-14 21:03:13,557 : INFO : worker thread finished; awaiting finish of 0 more threads\n",
      "2020-08-14 21:03:13,561 : INFO : EPOCH - 14 : training on 9227204 raw words (8221847 effective words) took 14.3s, 576378 effective words/s\n",
      "2020-08-14 21:03:14,595 : INFO : EPOCH 15 - PROGRESS: at 5.97% examples, 482960 words/s, in_qsize 16, out_qsize 1\n",
      "2020-08-14 21:03:15,611 : INFO : EPOCH 15 - PROGRESS: at 13.47% examples, 544043 words/s, in_qsize 14, out_qsize 1\n",
      "2020-08-14 21:03:16,620 : INFO : EPOCH 15 - PROGRESS: at 20.59% examples, 556506 words/s, in_qsize 15, out_qsize 1\n",
      "2020-08-14 21:03:17,651 : INFO : EPOCH 15 - PROGRESS: at 28.18% examples, 568873 words/s, in_qsize 15, out_qsize 0\n",
      "2020-08-14 21:03:18,668 : INFO : EPOCH 15 - PROGRESS: at 35.42% examples, 572517 words/s, in_qsize 15, out_qsize 2\n",
      "2020-08-14 21:03:19,703 : INFO : EPOCH 15 - PROGRESS: at 42.57% examples, 571752 words/s, in_qsize 15, out_qsize 0\n",
      "2020-08-14 21:03:20,734 : INFO : EPOCH 15 - PROGRESS: at 49.59% examples, 570022 words/s, in_qsize 16, out_qsize 0\n",
      "2020-08-14 21:03:21,774 : INFO : EPOCH 15 - PROGRESS: at 57.27% examples, 574960 words/s, in_qsize 16, out_qsize 0\n",
      "2020-08-14 21:03:22,794 : INFO : EPOCH 15 - PROGRESS: at 64.73% examples, 577945 words/s, in_qsize 15, out_qsize 0\n",
      "2020-08-14 21:03:23,806 : INFO : EPOCH 15 - PROGRESS: at 71.99% examples, 579277 words/s, in_qsize 15, out_qsize 0\n",
      "2020-08-14 21:03:24,813 : INFO : EPOCH 15 - PROGRESS: at 78.73% examples, 576480 words/s, in_qsize 14, out_qsize 1\n",
      "2020-08-14 21:03:25,840 : INFO : EPOCH 15 - PROGRESS: at 85.23% examples, 571797 words/s, in_qsize 15, out_qsize 3\n",
      "2020-08-14 21:03:26,850 : INFO : EPOCH 15 - PROGRESS: at 92.83% examples, 575275 words/s, in_qsize 15, out_qsize 0\n",
      "2020-08-14 21:03:27,731 : INFO : worker thread finished; awaiting finish of 7 more threads\n",
      "2020-08-14 21:03:27,738 : INFO : worker thread finished; awaiting finish of 6 more threads\n",
      "2020-08-14 21:03:27,738 : INFO : worker thread finished; awaiting finish of 5 more threads\n",
      "2020-08-14 21:03:27,765 : INFO : worker thread finished; awaiting finish of 4 more threads\n",
      "2020-08-14 21:03:27,769 : INFO : worker thread finished; awaiting finish of 3 more threads\n",
      "2020-08-14 21:03:27,773 : INFO : worker thread finished; awaiting finish of 2 more threads\n",
      "2020-08-14 21:03:27,789 : INFO : worker thread finished; awaiting finish of 1 more threads\n",
      "2020-08-14 21:03:27,795 : INFO : worker thread finished; awaiting finish of 0 more threads\n",
      "2020-08-14 21:03:27,797 : INFO : EPOCH - 15 : training on 9227204 raw words (8222613 effective words) took 14.2s, 578416 effective words/s\n",
      "2020-08-14 21:03:28,828 : INFO : EPOCH 16 - PROGRESS: at 6.18% examples, 501873 words/s, in_qsize 14, out_qsize 1\n",
      "2020-08-14 21:03:29,876 : INFO : EPOCH 16 - PROGRESS: at 13.36% examples, 532212 words/s, in_qsize 15, out_qsize 0\n",
      "2020-08-14 21:03:30,895 : INFO : EPOCH 16 - PROGRESS: at 21.03% examples, 561600 words/s, in_qsize 15, out_qsize 0\n",
      "2020-08-14 21:03:31,934 : INFO : EPOCH 16 - PROGRESS: at 27.96% examples, 558711 words/s, in_qsize 13, out_qsize 5\n",
      "2020-08-14 21:03:32,972 : INFO : EPOCH 16 - PROGRESS: at 35.42% examples, 565360 words/s, in_qsize 15, out_qsize 0\n",
      "2020-08-14 21:03:33,987 : INFO : EPOCH 16 - PROGRESS: at 42.78% examples, 570535 words/s, in_qsize 15, out_qsize 0\n",
      "2020-08-14 21:03:35,002 : INFO : EPOCH 16 - PROGRESS: at 49.27% examples, 564271 words/s, in_qsize 14, out_qsize 1\n",
      "2020-08-14 21:03:36,013 : INFO : EPOCH 16 - PROGRESS: at 56.51% examples, 567487 words/s, in_qsize 15, out_qsize 0\n",
      "2020-08-14 21:03:37,052 : INFO : EPOCH 16 - PROGRESS: at 63.86% examples, 569364 words/s, in_qsize 16, out_qsize 2\n",
      "2020-08-14 21:03:38,076 : INFO : EPOCH 16 - PROGRESS: at 71.34% examples, 572224 words/s, in_qsize 13, out_qsize 2\n",
      "2020-08-14 21:03:39,083 : INFO : EPOCH 16 - PROGRESS: at 78.29% examples, 571696 words/s, in_qsize 15, out_qsize 0\n",
      "2020-08-14 21:03:40,088 : INFO : EPOCH 16 - PROGRESS: at 85.23% examples, 571469 words/s, in_qsize 16, out_qsize 0\n",
      "2020-08-14 21:03:41,148 : INFO : EPOCH 16 - PROGRESS: at 92.07% examples, 568067 words/s, in_qsize 12, out_qsize 3\n",
      "2020-08-14 21:03:42,069 : INFO : worker thread finished; awaiting finish of 7 more threads\n",
      "2020-08-14 21:03:42,075 : INFO : worker thread finished; awaiting finish of 6 more threads\n",
      "2020-08-14 21:03:42,083 : INFO : worker thread finished; awaiting finish of 5 more threads\n",
      "2020-08-14 21:03:42,094 : INFO : worker thread finished; awaiting finish of 4 more threads\n",
      "2020-08-14 21:03:42,110 : INFO : worker thread finished; awaiting finish of 3 more threads\n",
      "2020-08-14 21:03:42,122 : INFO : worker thread finished; awaiting finish of 2 more threads\n",
      "2020-08-14 21:03:42,129 : INFO : worker thread finished; awaiting finish of 1 more threads\n",
      "2020-08-14 21:03:42,134 : INFO : worker thread finished; awaiting finish of 0 more threads\n",
      "2020-08-14 21:03:42,136 : INFO : EPOCH - 16 : training on 9227204 raw words (8222794 effective words) took 14.3s, 574336 effective words/s\n",
      "2020-08-14 21:03:43,175 : INFO : EPOCH 17 - PROGRESS: at 6.40% examples, 517415 words/s, in_qsize 15, out_qsize 0\n",
      "2020-08-14 21:03:44,184 : INFO : EPOCH 17 - PROGRESS: at 13.47% examples, 546125 words/s, in_qsize 13, out_qsize 2\n",
      "2020-08-14 21:03:45,225 : INFO : EPOCH 17 - PROGRESS: at 20.70% examples, 555166 words/s, in_qsize 14, out_qsize 1\n",
      "2020-08-14 21:03:46,237 : INFO : EPOCH 17 - PROGRESS: at 27.86% examples, 561552 words/s, in_qsize 15, out_qsize 0\n",
      "2020-08-14 21:03:47,247 : INFO : EPOCH 17 - PROGRESS: at 34.78% examples, 562385 words/s, in_qsize 16, out_qsize 0\n",
      "2020-08-14 21:03:48,248 : INFO : EPOCH 17 - PROGRESS: at 42.24% examples, 570747 words/s, in_qsize 15, out_qsize 0\n",
      "2020-08-14 21:03:49,269 : INFO : EPOCH 17 - PROGRESS: at 49.27% examples, 570217 words/s, in_qsize 15, out_qsize 0\n",
      "2020-08-14 21:03:50,292 : INFO : EPOCH 17 - PROGRESS: at 56.40% examples, 570768 words/s, in_qsize 16, out_qsize 0\n",
      "2020-08-14 21:03:51,302 : INFO : EPOCH 17 - PROGRESS: at 63.75% examples, 574098 words/s, in_qsize 14, out_qsize 1\n",
      "2020-08-14 21:03:52,308 : INFO : EPOCH 17 - PROGRESS: at 71.02% examples, 576002 words/s, in_qsize 15, out_qsize 0\n",
      "2020-08-14 21:03:53,324 : INFO : EPOCH 17 - PROGRESS: at 78.18% examples, 576185 words/s, in_qsize 16, out_qsize 0\n",
      "2020-08-14 21:03:54,343 : INFO : EPOCH 17 - PROGRESS: at 85.34% examples, 576241 words/s, in_qsize 15, out_qsize 1\n",
      "2020-08-14 21:03:55,362 : INFO : EPOCH 17 - PROGRESS: at 92.39% examples, 575628 words/s, in_qsize 16, out_qsize 1\n",
      "2020-08-14 21:03:56,269 : INFO : worker thread finished; awaiting finish of 7 more threads\n",
      "2020-08-14 21:03:56,275 : INFO : worker thread finished; awaiting finish of 6 more threads\n",
      "2020-08-14 21:03:56,278 : INFO : worker thread finished; awaiting finish of 5 more threads\n",
      "2020-08-14 21:03:56,287 : INFO : worker thread finished; awaiting finish of 4 more threads\n"
     ]
    },
    {
     "name": "stderr",
     "output_type": "stream",
     "text": [
      "2020-08-14 21:03:56,293 : INFO : worker thread finished; awaiting finish of 3 more threads\n",
      "2020-08-14 21:03:56,316 : INFO : worker thread finished; awaiting finish of 2 more threads\n",
      "2020-08-14 21:03:56,321 : INFO : worker thread finished; awaiting finish of 1 more threads\n",
      "2020-08-14 21:03:56,327 : INFO : worker thread finished; awaiting finish of 0 more threads\n",
      "2020-08-14 21:03:56,329 : INFO : EPOCH - 17 : training on 9227204 raw words (8222637 effective words) took 14.2s, 580390 effective words/s\n",
      "2020-08-14 21:03:57,362 : INFO : EPOCH 18 - PROGRESS: at 5.97% examples, 485053 words/s, in_qsize 12, out_qsize 3\n",
      "2020-08-14 21:03:58,367 : INFO : EPOCH 18 - PROGRESS: at 12.06% examples, 491405 words/s, in_qsize 14, out_qsize 3\n",
      "2020-08-14 21:03:59,369 : INFO : EPOCH 18 - PROGRESS: at 19.62% examples, 534303 words/s, in_qsize 14, out_qsize 1\n",
      "2020-08-14 21:04:00,375 : INFO : EPOCH 18 - PROGRESS: at 25.80% examples, 527161 words/s, in_qsize 15, out_qsize 1\n",
      "2020-08-14 21:04:01,394 : INFO : EPOCH 18 - PROGRESS: at 33.27% examples, 542179 words/s, in_qsize 16, out_qsize 0\n",
      "2020-08-14 21:04:02,432 : INFO : EPOCH 18 - PROGRESS: at 40.73% examples, 550879 words/s, in_qsize 15, out_qsize 0\n",
      "2020-08-14 21:04:03,443 : INFO : EPOCH 18 - PROGRESS: at 47.75% examples, 553991 words/s, in_qsize 14, out_qsize 4\n",
      "2020-08-14 21:04:04,449 : INFO : EPOCH 18 - PROGRESS: at 55.10% examples, 559912 words/s, in_qsize 15, out_qsize 0\n",
      "2020-08-14 21:04:05,470 : INFO : EPOCH 18 - PROGRESS: at 62.46% examples, 563771 words/s, in_qsize 15, out_qsize 0\n",
      "2020-08-14 21:04:06,481 : INFO : EPOCH 18 - PROGRESS: at 69.61% examples, 565558 words/s, in_qsize 15, out_qsize 0\n",
      "2020-08-14 21:04:07,487 : INFO : EPOCH 18 - PROGRESS: at 76.88% examples, 567974 words/s, in_qsize 15, out_qsize 0\n",
      "2020-08-14 21:04:08,525 : INFO : EPOCH 18 - PROGRESS: at 84.05% examples, 567964 words/s, in_qsize 15, out_qsize 0\n",
      "2020-08-14 21:04:09,564 : INFO : EPOCH 18 - PROGRESS: at 91.09% examples, 567102 words/s, in_qsize 15, out_qsize 2\n",
      "2020-08-14 21:04:10,564 : INFO : EPOCH 18 - PROGRESS: at 98.58% examples, 570359 words/s, in_qsize 13, out_qsize 1\n",
      "2020-08-14 21:04:10,641 : INFO : worker thread finished; awaiting finish of 7 more threads\n",
      "2020-08-14 21:04:10,655 : INFO : worker thread finished; awaiting finish of 6 more threads\n",
      "2020-08-14 21:04:10,661 : INFO : worker thread finished; awaiting finish of 5 more threads\n",
      "2020-08-14 21:04:10,665 : INFO : worker thread finished; awaiting finish of 4 more threads\n",
      "2020-08-14 21:04:10,677 : INFO : worker thread finished; awaiting finish of 3 more threads\n",
      "2020-08-14 21:04:10,711 : INFO : worker thread finished; awaiting finish of 2 more threads\n",
      "2020-08-14 21:04:10,719 : INFO : worker thread finished; awaiting finish of 1 more threads\n",
      "2020-08-14 21:04:10,724 : INFO : worker thread finished; awaiting finish of 0 more threads\n",
      "2020-08-14 21:04:10,724 : INFO : EPOCH - 18 : training on 9227204 raw words (8222453 effective words) took 14.4s, 572098 effective words/s\n",
      "2020-08-14 21:04:11,778 : INFO : EPOCH 19 - PROGRESS: at 5.97% examples, 476247 words/s, in_qsize 15, out_qsize 0\n",
      "2020-08-14 21:04:12,807 : INFO : EPOCH 19 - PROGRESS: at 12.93% examples, 515353 words/s, in_qsize 14, out_qsize 2\n",
      "2020-08-14 21:04:13,860 : INFO : EPOCH 19 - PROGRESS: at 20.27% examples, 535470 words/s, in_qsize 14, out_qsize 3\n",
      "2020-08-14 21:04:14,897 : INFO : EPOCH 19 - PROGRESS: at 27.75% examples, 549787 words/s, in_qsize 13, out_qsize 2\n",
      "2020-08-14 21:04:15,905 : INFO : EPOCH 19 - PROGRESS: at 35.00% examples, 558081 words/s, in_qsize 15, out_qsize 0\n",
      "2020-08-14 21:04:16,920 : INFO : EPOCH 19 - PROGRESS: at 42.78% examples, 570127 words/s, in_qsize 15, out_qsize 0\n",
      "2020-08-14 21:04:17,971 : INFO : EPOCH 19 - PROGRESS: at 49.92% examples, 568555 words/s, in_qsize 16, out_qsize 0\n",
      "2020-08-14 21:04:19,030 : INFO : EPOCH 19 - PROGRESS: at 56.94% examples, 565886 words/s, in_qsize 15, out_qsize 0\n",
      "2020-08-14 21:04:20,035 : INFO : EPOCH 19 - PROGRESS: at 64.51% examples, 571835 words/s, in_qsize 16, out_qsize 1\n",
      "2020-08-14 21:04:21,034 : INFO : EPOCH 19 - PROGRESS: at 71.78% examples, 574169 words/s, in_qsize 15, out_qsize 0\n",
      "2020-08-14 21:04:22,044 : INFO : EPOCH 19 - PROGRESS: at 78.62% examples, 572554 words/s, in_qsize 15, out_qsize 0\n",
      "2020-08-14 21:04:23,047 : INFO : EPOCH 19 - PROGRESS: at 85.13% examples, 569368 words/s, in_qsize 14, out_qsize 1\n",
      "2020-08-14 21:04:24,079 : INFO : EPOCH 19 - PROGRESS: at 92.61% examples, 571343 words/s, in_qsize 15, out_qsize 0\n",
      "2020-08-14 21:04:24,984 : INFO : worker thread finished; awaiting finish of 7 more threads\n",
      "2020-08-14 21:04:24,997 : INFO : worker thread finished; awaiting finish of 6 more threads\n",
      "2020-08-14 21:04:25,001 : INFO : worker thread finished; awaiting finish of 5 more threads\n",
      "2020-08-14 21:04:25,007 : INFO : worker thread finished; awaiting finish of 4 more threads\n",
      "2020-08-14 21:04:25,055 : INFO : worker thread finished; awaiting finish of 3 more threads\n",
      "2020-08-14 21:04:25,058 : INFO : worker thread finished; awaiting finish of 2 more threads\n",
      "2020-08-14 21:04:25,064 : INFO : worker thread finished; awaiting finish of 1 more threads\n",
      "2020-08-14 21:04:25,071 : INFO : worker thread finished; awaiting finish of 0 more threads\n",
      "2020-08-14 21:04:25,071 : INFO : EPOCH - 19 : training on 9227204 raw words (8222777 effective words) took 14.3s, 574109 effective words/s\n",
      "2020-08-14 21:04:26,113 : INFO : EPOCH 20 - PROGRESS: at 6.08% examples, 490127 words/s, in_qsize 16, out_qsize 2\n",
      "2020-08-14 21:04:27,236 : INFO : EPOCH 20 - PROGRESS: at 13.68% examples, 524137 words/s, in_qsize 16, out_qsize 0\n",
      "2020-08-14 21:04:28,254 : INFO : EPOCH 20 - PROGRESS: at 20.92% examples, 544318 words/s, in_qsize 16, out_qsize 0\n",
      "2020-08-14 21:04:29,260 : INFO : EPOCH 20 - PROGRESS: at 28.07% examples, 553837 words/s, in_qsize 15, out_qsize 0\n",
      "2020-08-14 21:04:30,262 : INFO : EPOCH 20 - PROGRESS: at 35.54% examples, 565507 words/s, in_qsize 14, out_qsize 1\n",
      "2020-08-14 21:04:31,271 : INFO : EPOCH 20 - PROGRESS: at 41.92% examples, 558276 words/s, in_qsize 13, out_qsize 2\n",
      "2020-08-14 21:04:32,293 : INFO : EPOCH 20 - PROGRESS: at 49.16% examples, 562083 words/s, in_qsize 15, out_qsize 0\n",
      "2020-08-14 21:04:33,320 : INFO : EPOCH 20 - PROGRESS: at 56.62% examples, 566658 words/s, in_qsize 15, out_qsize 0\n",
      "2020-08-14 21:04:34,321 : INFO : EPOCH 20 - PROGRESS: at 63.54% examples, 566939 words/s, in_qsize 16, out_qsize 1\n",
      "2020-08-14 21:04:35,327 : INFO : EPOCH 20 - PROGRESS: at 70.80% examples, 569477 words/s, in_qsize 16, out_qsize 0\n",
      "2020-08-14 21:04:36,329 : INFO : EPOCH 20 - PROGRESS: at 77.63% examples, 568575 words/s, in_qsize 15, out_qsize 0\n",
      "2020-08-14 21:04:37,357 : INFO : EPOCH 20 - PROGRESS: at 84.91% examples, 569608 words/s, in_qsize 15, out_qsize 0\n",
      "2020-08-14 21:04:38,377 : INFO : EPOCH 20 - PROGRESS: at 92.17% examples, 570859 words/s, in_qsize 15, out_qsize 0\n",
      "2020-08-14 21:04:39,347 : INFO : worker thread finished; awaiting finish of 7 more threads\n",
      "2020-08-14 21:04:39,352 : INFO : worker thread finished; awaiting finish of 6 more threads\n",
      "2020-08-14 21:04:39,360 : INFO : worker thread finished; awaiting finish of 5 more threads\n",
      "2020-08-14 21:04:39,367 : INFO : worker thread finished; awaiting finish of 4 more threads\n",
      "2020-08-14 21:04:39,368 : INFO : worker thread finished; awaiting finish of 3 more threads\n",
      "2020-08-14 21:04:39,407 : INFO : EPOCH 20 - PROGRESS: at 99.78% examples, 573430 words/s, in_qsize 2, out_qsize 1\n",
      "2020-08-14 21:04:39,410 : INFO : worker thread finished; awaiting finish of 2 more threads\n",
      "2020-08-14 21:04:39,411 : INFO : worker thread finished; awaiting finish of 1 more threads\n",
      "2020-08-14 21:04:39,416 : INFO : worker thread finished; awaiting finish of 0 more threads\n",
      "2020-08-14 21:04:39,418 : INFO : EPOCH - 20 : training on 9227204 raw words (8223241 effective words) took 14.3s, 574185 effective words/s\n",
      "2020-08-14 21:04:40,446 : INFO : EPOCH 21 - PROGRESS: at 5.86% examples, 477540 words/s, in_qsize 15, out_qsize 0\n",
      "2020-08-14 21:04:41,446 : INFO : EPOCH 21 - PROGRESS: at 12.93% examples, 528318 words/s, in_qsize 15, out_qsize 0\n",
      "2020-08-14 21:04:42,459 : INFO : EPOCH 21 - PROGRESS: at 20.05% examples, 545664 words/s, in_qsize 15, out_qsize 0\n",
      "2020-08-14 21:04:43,482 : INFO : EPOCH 21 - PROGRESS: at 27.20% examples, 552829 words/s, in_qsize 14, out_qsize 1\n"
     ]
    },
    {
     "name": "stderr",
     "output_type": "stream",
     "text": [
      "2020-08-14 21:04:44,483 : INFO : EPOCH 21 - PROGRESS: at 33.92% examples, 552449 words/s, in_qsize 13, out_qsize 1\n",
      "2020-08-14 21:04:45,492 : INFO : EPOCH 21 - PROGRESS: at 41.48% examples, 563506 words/s, in_qsize 15, out_qsize 0\n",
      "2020-08-14 21:04:46,496 : INFO : EPOCH 21 - PROGRESS: at 48.51% examples, 565465 words/s, in_qsize 16, out_qsize 1\n",
      "2020-08-14 21:04:47,535 : INFO : EPOCH 21 - PROGRESS: at 55.42% examples, 563175 words/s, in_qsize 16, out_qsize 0\n",
      "2020-08-14 21:04:48,554 : INFO : EPOCH 21 - PROGRESS: at 62.79% examples, 566853 words/s, in_qsize 15, out_qsize 0\n",
      "2020-08-14 21:04:49,571 : INFO : EPOCH 21 - PROGRESS: at 69.94% examples, 567919 words/s, in_qsize 15, out_qsize 1\n",
      "2020-08-14 21:04:50,588 : INFO : EPOCH 21 - PROGRESS: at 77.42% examples, 571247 words/s, in_qsize 15, out_qsize 0\n",
      "2020-08-14 21:04:51,602 : INFO : EPOCH 21 - PROGRESS: at 84.59% examples, 571943 words/s, in_qsize 16, out_qsize 0\n",
      "2020-08-14 21:04:52,617 : INFO : EPOCH 21 - PROGRESS: at 91.74% examples, 572415 words/s, in_qsize 15, out_qsize 0\n",
      "2020-08-14 21:04:53,597 : INFO : worker thread finished; awaiting finish of 7 more threads\n",
      "2020-08-14 21:04:53,608 : INFO : worker thread finished; awaiting finish of 6 more threads\n",
      "2020-08-14 21:04:53,610 : INFO : worker thread finished; awaiting finish of 5 more threads\n",
      "2020-08-14 21:04:53,610 : INFO : worker thread finished; awaiting finish of 4 more threads\n",
      "2020-08-14 21:04:53,636 : INFO : EPOCH 21 - PROGRESS: at 99.67% examples, 577308 words/s, in_qsize 3, out_qsize 1\n",
      "2020-08-14 21:04:53,639 : INFO : worker thread finished; awaiting finish of 3 more threads\n",
      "2020-08-14 21:04:53,642 : INFO : worker thread finished; awaiting finish of 2 more threads\n",
      "2020-08-14 21:04:53,662 : INFO : worker thread finished; awaiting finish of 1 more threads\n",
      "2020-08-14 21:04:53,668 : INFO : worker thread finished; awaiting finish of 0 more threads\n",
      "2020-08-14 21:04:53,672 : INFO : EPOCH - 21 : training on 9227204 raw words (8222435 effective words) took 14.2s, 577701 effective words/s\n",
      "2020-08-14 21:04:54,696 : INFO : EPOCH 22 - PROGRESS: at 6.73% examples, 550179 words/s, in_qsize 13, out_qsize 2\n",
      "2020-08-14 21:04:55,746 : INFO : EPOCH 22 - PROGRESS: at 13.90% examples, 555290 words/s, in_qsize 15, out_qsize 6\n",
      "2020-08-14 21:04:56,759 : INFO : EPOCH 22 - PROGRESS: at 21.03% examples, 563935 words/s, in_qsize 14, out_qsize 1\n",
      "2020-08-14 21:04:57,817 : INFO : EPOCH 22 - PROGRESS: at 28.29% examples, 564242 words/s, in_qsize 15, out_qsize 0\n",
      "2020-08-14 21:04:58,815 : INFO : EPOCH 22 - PROGRESS: at 35.54% examples, 570485 words/s, in_qsize 15, out_qsize 0\n",
      "2020-08-14 21:04:59,833 : INFO : EPOCH 22 - PROGRESS: at 42.78% examples, 573287 words/s, in_qsize 14, out_qsize 1\n",
      "2020-08-14 21:05:00,864 : INFO : EPOCH 22 - PROGRESS: at 50.35% examples, 577900 words/s, in_qsize 16, out_qsize 1\n",
      "2020-08-14 21:05:01,869 : INFO : EPOCH 22 - PROGRESS: at 57.27% examples, 576369 words/s, in_qsize 15, out_qsize 0\n",
      "2020-08-14 21:05:02,902 : INFO : EPOCH 22 - PROGRESS: at 64.30% examples, 574822 words/s, in_qsize 15, out_qsize 0\n",
      "2020-08-14 21:05:03,920 : INFO : EPOCH 22 - PROGRESS: at 71.88% examples, 578381 words/s, in_qsize 16, out_qsize 0\n",
      "2020-08-14 21:05:04,930 : INFO : EPOCH 22 - PROGRESS: at 78.95% examples, 578063 words/s, in_qsize 15, out_qsize 0\n",
      "2020-08-14 21:05:05,955 : INFO : EPOCH 22 - PROGRESS: at 86.32% examples, 579040 words/s, in_qsize 13, out_qsize 2\n",
      "2020-08-14 21:05:07,005 : INFO : EPOCH 22 - PROGRESS: at 93.92% examples, 580218 words/s, in_qsize 15, out_qsize 0\n",
      "2020-08-14 21:05:07,718 : INFO : worker thread finished; awaiting finish of 7 more threads\n",
      "2020-08-14 21:05:07,721 : INFO : worker thread finished; awaiting finish of 6 more threads\n",
      "2020-08-14 21:05:07,728 : INFO : worker thread finished; awaiting finish of 5 more threads\n",
      "2020-08-14 21:05:07,732 : INFO : worker thread finished; awaiting finish of 4 more threads\n",
      "2020-08-14 21:05:07,749 : INFO : worker thread finished; awaiting finish of 3 more threads\n",
      "2020-08-14 21:05:07,762 : INFO : worker thread finished; awaiting finish of 2 more threads\n",
      "2020-08-14 21:05:07,777 : INFO : worker thread finished; awaiting finish of 1 more threads\n",
      "2020-08-14 21:05:07,780 : INFO : worker thread finished; awaiting finish of 0 more threads\n",
      "2020-08-14 21:05:07,785 : INFO : EPOCH - 22 : training on 9227204 raw words (8222485 effective words) took 14.1s, 583579 effective words/s\n",
      "2020-08-14 21:05:08,839 : INFO : EPOCH 23 - PROGRESS: at 6.19% examples, 492482 words/s, in_qsize 15, out_qsize 0\n",
      "2020-08-14 21:05:09,843 : INFO : EPOCH 23 - PROGRESS: at 13.47% examples, 543031 words/s, in_qsize 15, out_qsize 0\n",
      "2020-08-14 21:05:10,848 : INFO : EPOCH 23 - PROGRESS: at 20.70% examples, 559747 words/s, in_qsize 15, out_qsize 0\n",
      "2020-08-14 21:05:11,896 : INFO : EPOCH 23 - PROGRESS: at 27.64% examples, 555483 words/s, in_qsize 16, out_qsize 0\n",
      "2020-08-14 21:05:12,904 : INFO : EPOCH 23 - PROGRESS: at 35.32% examples, 569805 words/s, in_qsize 15, out_qsize 0\n",
      "2020-08-14 21:05:13,915 : INFO : EPOCH 23 - PROGRESS: at 42.13% examples, 567448 words/s, in_qsize 15, out_qsize 0\n",
      "2020-08-14 21:05:14,940 : INFO : EPOCH 23 - PROGRESS: at 49.59% examples, 572094 words/s, in_qsize 15, out_qsize 0\n",
      "2020-08-14 21:05:15,945 : INFO : EPOCH 23 - PROGRESS: at 56.84% examples, 574739 words/s, in_qsize 15, out_qsize 0\n",
      "2020-08-14 21:05:16,950 : INFO : EPOCH 23 - PROGRESS: at 64.19% examples, 577758 words/s, in_qsize 15, out_qsize 0\n",
      "2020-08-14 21:05:17,954 : INFO : EPOCH 23 - PROGRESS: at 70.91% examples, 575194 words/s, in_qsize 15, out_qsize 0\n",
      "2020-08-14 21:05:18,960 : INFO : EPOCH 23 - PROGRESS: at 78.18% examples, 576719 words/s, in_qsize 15, out_qsize 0\n",
      "2020-08-14 21:05:19,974 : INFO : EPOCH 23 - PROGRESS: at 85.45% examples, 577742 words/s, in_qsize 14, out_qsize 1\n",
      "2020-08-14 21:05:21,028 : INFO : EPOCH 23 - PROGRESS: at 92.61% examples, 576043 words/s, in_qsize 15, out_qsize 0\n",
      "2020-08-14 21:05:21,997 : INFO : worker thread finished; awaiting finish of 7 more threads\n",
      "2020-08-14 21:05:22,012 : INFO : worker thread finished; awaiting finish of 6 more threads\n",
      "2020-08-14 21:05:22,019 : INFO : worker thread finished; awaiting finish of 5 more threads\n",
      "2020-08-14 21:05:22,028 : INFO : worker thread finished; awaiting finish of 4 more threads\n",
      "2020-08-14 21:05:22,041 : INFO : EPOCH 23 - PROGRESS: at 99.67% examples, 575880 words/s, in_qsize 3, out_qsize 1\n",
      "2020-08-14 21:05:22,045 : INFO : worker thread finished; awaiting finish of 3 more threads\n",
      "2020-08-14 21:05:22,049 : INFO : worker thread finished; awaiting finish of 2 more threads\n",
      "2020-08-14 21:05:22,060 : INFO : worker thread finished; awaiting finish of 1 more threads\n",
      "2020-08-14 21:05:22,067 : INFO : worker thread finished; awaiting finish of 0 more threads\n",
      "2020-08-14 21:05:22,069 : INFO : EPOCH - 23 : training on 9227204 raw words (8222866 effective words) took 14.3s, 576632 effective words/s\n",
      "2020-08-14 21:05:23,124 : INFO : EPOCH 24 - PROGRESS: at 6.40% examples, 508398 words/s, in_qsize 15, out_qsize 0\n",
      "2020-08-14 21:05:24,152 : INFO : EPOCH 24 - PROGRESS: at 13.79% examples, 548580 words/s, in_qsize 15, out_qsize 0\n",
      "2020-08-14 21:05:25,156 : INFO : EPOCH 24 - PROGRESS: at 21.03% examples, 563438 words/s, in_qsize 15, out_qsize 0\n",
      "2020-08-14 21:05:26,240 : INFO : EPOCH 24 - PROGRESS: at 28.40% examples, 562519 words/s, in_qsize 15, out_qsize 2\n",
      "2020-08-14 21:05:27,269 : INFO : EPOCH 24 - PROGRESS: at 36.08% examples, 572747 words/s, in_qsize 15, out_qsize 0\n",
      "2020-08-14 21:05:28,313 : INFO : EPOCH 24 - PROGRESS: at 43.21% examples, 571234 words/s, in_qsize 16, out_qsize 1\n",
      "2020-08-14 21:05:29,338 : INFO : EPOCH 24 - PROGRESS: at 50.67% examples, 575063 words/s, in_qsize 15, out_qsize 0\n",
      "2020-08-14 21:05:30,351 : INFO : EPOCH 24 - PROGRESS: at 57.92% examples, 577037 words/s, in_qsize 15, out_qsize 0\n",
      "2020-08-14 21:05:31,379 : INFO : EPOCH 24 - PROGRESS: at 65.17% examples, 577401 words/s, in_qsize 14, out_qsize 1\n",
      "2020-08-14 21:05:32,396 : INFO : EPOCH 24 - PROGRESS: at 72.64% examples, 579927 words/s, in_qsize 15, out_qsize 0\n",
      "2020-08-14 21:05:33,407 : INFO : EPOCH 24 - PROGRESS: at 79.71% examples, 579421 words/s, in_qsize 15, out_qsize 0\n",
      "2020-08-14 21:05:34,414 : INFO : EPOCH 24 - PROGRESS: at 86.64% examples, 578214 words/s, in_qsize 15, out_qsize 0\n"
     ]
    },
    {
     "name": "stderr",
     "output_type": "stream",
     "text": [
      "2020-08-14 21:05:35,422 : INFO : EPOCH 24 - PROGRESS: at 93.37% examples, 575890 words/s, in_qsize 14, out_qsize 1\n",
      "2020-08-14 21:05:36,199 : INFO : worker thread finished; awaiting finish of 7 more threads\n",
      "2020-08-14 21:05:36,207 : INFO : worker thread finished; awaiting finish of 6 more threads\n",
      "2020-08-14 21:05:36,210 : INFO : worker thread finished; awaiting finish of 5 more threads\n",
      "2020-08-14 21:05:36,231 : INFO : worker thread finished; awaiting finish of 4 more threads\n",
      "2020-08-14 21:05:36,235 : INFO : worker thread finished; awaiting finish of 3 more threads\n",
      "2020-08-14 21:05:36,245 : INFO : worker thread finished; awaiting finish of 2 more threads\n",
      "2020-08-14 21:05:36,265 : INFO : worker thread finished; awaiting finish of 1 more threads\n",
      "2020-08-14 21:05:36,268 : INFO : worker thread finished; awaiting finish of 0 more threads\n",
      "2020-08-14 21:05:36,272 : INFO : EPOCH - 24 : training on 9227204 raw words (8222717 effective words) took 14.2s, 579872 effective words/s\n",
      "2020-08-14 21:05:37,312 : INFO : EPOCH 25 - PROGRESS: at 6.08% examples, 488026 words/s, in_qsize 16, out_qsize 0\n",
      "2020-08-14 21:05:38,319 : INFO : EPOCH 25 - PROGRESS: at 13.47% examples, 544720 words/s, in_qsize 15, out_qsize 0\n",
      "2020-08-14 21:05:39,323 : INFO : EPOCH 25 - PROGRESS: at 20.48% examples, 554909 words/s, in_qsize 15, out_qsize 0\n",
      "2020-08-14 21:05:40,333 : INFO : EPOCH 25 - PROGRESS: at 27.32% examples, 555383 words/s, in_qsize 15, out_qsize 0\n",
      "2020-08-14 21:05:41,351 : INFO : EPOCH 25 - PROGRESS: at 34.24% examples, 556497 words/s, in_qsize 14, out_qsize 1\n",
      "2020-08-14 21:05:42,363 : INFO : EPOCH 25 - PROGRESS: at 41.16% examples, 557410 words/s, in_qsize 15, out_qsize 0\n",
      "2020-08-14 21:05:43,383 : INFO : EPOCH 25 - PROGRESS: at 47.75% examples, 553893 words/s, in_qsize 14, out_qsize 1\n",
      "2020-08-14 21:05:44,389 : INFO : EPOCH 25 - PROGRESS: at 55.10% examples, 559883 words/s, in_qsize 14, out_qsize 1\n",
      "2020-08-14 21:05:45,459 : INFO : EPOCH 25 - PROGRESS: at 62.68% examples, 562714 words/s, in_qsize 16, out_qsize 0\n",
      "2020-08-14 21:05:46,464 : INFO : EPOCH 25 - PROGRESS: at 70.16% examples, 567513 words/s, in_qsize 15, out_qsize 0\n",
      "2020-08-14 21:05:47,477 : INFO : EPOCH 25 - PROGRESS: at 77.09% examples, 567031 words/s, in_qsize 14, out_qsize 1\n",
      "2020-08-14 21:05:48,487 : INFO : EPOCH 25 - PROGRESS: at 83.29% examples, 561770 words/s, in_qsize 15, out_qsize 0\n",
      "2020-08-14 21:05:49,512 : INFO : EPOCH 25 - PROGRESS: at 90.65% examples, 564031 words/s, in_qsize 15, out_qsize 0\n",
      "2020-08-14 21:05:50,529 : INFO : EPOCH 25 - PROGRESS: at 97.82% examples, 564978 words/s, in_qsize 14, out_qsize 1\n",
      "2020-08-14 21:05:50,701 : INFO : worker thread finished; awaiting finish of 7 more threads\n",
      "2020-08-14 21:05:50,713 : INFO : worker thread finished; awaiting finish of 6 more threads\n",
      "2020-08-14 21:05:50,719 : INFO : worker thread finished; awaiting finish of 5 more threads\n",
      "2020-08-14 21:05:50,725 : INFO : worker thread finished; awaiting finish of 4 more threads\n",
      "2020-08-14 21:05:50,730 : INFO : worker thread finished; awaiting finish of 3 more threads\n",
      "2020-08-14 21:05:50,762 : INFO : worker thread finished; awaiting finish of 2 more threads\n",
      "2020-08-14 21:05:50,768 : INFO : worker thread finished; awaiting finish of 1 more threads\n",
      "2020-08-14 21:05:50,776 : INFO : worker thread finished; awaiting finish of 0 more threads\n",
      "2020-08-14 21:05:50,780 : INFO : EPOCH - 25 : training on 9227204 raw words (8222349 effective words) took 14.5s, 567597 effective words/s\n",
      "2020-08-14 21:05:51,808 : INFO : EPOCH 26 - PROGRESS: at 6.40% examples, 521257 words/s, in_qsize 15, out_qsize 1\n",
      "2020-08-14 21:05:52,841 : INFO : EPOCH 26 - PROGRESS: at 13.68% examples, 550407 words/s, in_qsize 14, out_qsize 1\n",
      "2020-08-14 21:05:53,846 : INFO : EPOCH 26 - PROGRESS: at 20.38% examples, 550218 words/s, in_qsize 15, out_qsize 0\n",
      "2020-08-14 21:05:54,849 : INFO : EPOCH 26 - PROGRESS: at 27.31% examples, 554529 words/s, in_qsize 13, out_qsize 2\n",
      "2020-08-14 21:05:55,868 : INFO : EPOCH 26 - PROGRESS: at 34.68% examples, 562656 words/s, in_qsize 14, out_qsize 1\n",
      "2020-08-14 21:05:56,948 : INFO : EPOCH 26 - PROGRESS: at 41.92% examples, 560996 words/s, in_qsize 16, out_qsize 0\n",
      "2020-08-14 21:05:57,948 : INFO : EPOCH 26 - PROGRESS: at 48.84% examples, 562210 words/s, in_qsize 15, out_qsize 0\n",
      "2020-08-14 21:05:58,963 : INFO : EPOCH 26 - PROGRESS: at 55.42% examples, 558773 words/s, in_qsize 14, out_qsize 1\n",
      "2020-08-14 21:05:59,981 : INFO : EPOCH 26 - PROGRESS: at 62.68% examples, 561993 words/s, in_qsize 16, out_qsize 0\n",
      "2020-08-14 21:06:00,991 : INFO : EPOCH 26 - PROGRESS: at 69.72% examples, 563087 words/s, in_qsize 16, out_qsize 0\n",
      "2020-08-14 21:06:01,992 : INFO : EPOCH 26 - PROGRESS: at 76.55% examples, 562827 words/s, in_qsize 15, out_qsize 0\n",
      "2020-08-14 21:06:03,013 : INFO : EPOCH 26 - PROGRESS: at 83.62% examples, 563260 words/s, in_qsize 16, out_qsize 1\n",
      "2020-08-14 21:06:04,026 : INFO : EPOCH 26 - PROGRESS: at 90.98% examples, 565753 words/s, in_qsize 13, out_qsize 2\n",
      "2020-08-14 21:06:05,056 : INFO : EPOCH 26 - PROGRESS: at 98.36% examples, 567447 words/s, in_qsize 15, out_qsize 1\n",
      "2020-08-14 21:06:05,152 : INFO : worker thread finished; awaiting finish of 7 more threads\n",
      "2020-08-14 21:06:05,163 : INFO : worker thread finished; awaiting finish of 6 more threads\n",
      "2020-08-14 21:06:05,169 : INFO : worker thread finished; awaiting finish of 5 more threads\n",
      "2020-08-14 21:06:05,187 : INFO : worker thread finished; awaiting finish of 4 more threads\n",
      "2020-08-14 21:06:05,189 : INFO : worker thread finished; awaiting finish of 3 more threads\n",
      "2020-08-14 21:06:05,206 : INFO : worker thread finished; awaiting finish of 2 more threads\n",
      "2020-08-14 21:06:05,217 : INFO : worker thread finished; awaiting finish of 1 more threads\n",
      "2020-08-14 21:06:05,220 : INFO : worker thread finished; awaiting finish of 0 more threads\n",
      "2020-08-14 21:06:05,223 : INFO : EPOCH - 26 : training on 9227204 raw words (8222986 effective words) took 14.4s, 570256 effective words/s\n",
      "2020-08-14 21:06:06,247 : INFO : EPOCH 27 - PROGRESS: at 5.86% examples, 479653 words/s, in_qsize 15, out_qsize 0\n",
      "2020-08-14 21:06:07,286 : INFO : EPOCH 27 - PROGRESS: at 13.04% examples, 523090 words/s, in_qsize 15, out_qsize 0\n",
      "2020-08-14 21:06:08,315 : INFO : EPOCH 27 - PROGRESS: at 20.16% examples, 539403 words/s, in_qsize 15, out_qsize 0\n",
      "2020-08-14 21:06:09,331 : INFO : EPOCH 27 - PROGRESS: at 27.10% examples, 544736 words/s, in_qsize 16, out_qsize 1\n",
      "2020-08-14 21:06:10,350 : INFO : EPOCH 27 - PROGRESS: at 34.02% examples, 547719 words/s, in_qsize 16, out_qsize 3\n",
      "2020-08-14 21:06:11,355 : INFO : EPOCH 27 - PROGRESS: at 40.83% examples, 549597 words/s, in_qsize 14, out_qsize 1\n",
      "2020-08-14 21:06:12,365 : INFO : EPOCH 27 - PROGRESS: at 47.86% examples, 552947 words/s, in_qsize 15, out_qsize 0\n",
      "2020-08-14 21:06:13,387 : INFO : EPOCH 27 - PROGRESS: at 55.32% examples, 559105 words/s, in_qsize 16, out_qsize 1\n",
      "2020-08-14 21:06:14,408 : INFO : EPOCH 27 - PROGRESS: at 62.57% examples, 561964 words/s, in_qsize 15, out_qsize 0\n",
      "2020-08-14 21:06:15,406 : INFO : EPOCH 27 - PROGRESS: at 70.05% examples, 567085 words/s, in_qsize 14, out_qsize 1\n",
      "2020-08-14 21:06:16,464 : INFO : EPOCH 27 - PROGRESS: at 77.31% examples, 566840 words/s, in_qsize 16, out_qsize 0\n",
      "2020-08-14 21:06:17,468 : INFO : EPOCH 27 - PROGRESS: at 84.26% examples, 566861 words/s, in_qsize 15, out_qsize 0\n",
      "2020-08-14 21:06:18,497 : INFO : EPOCH 27 - PROGRESS: at 91.53% examples, 567913 words/s, in_qsize 15, out_qsize 0\n",
      "2020-08-14 21:06:19,501 : INFO : EPOCH 27 - PROGRESS: at 98.90% examples, 570427 words/s, in_qsize 11, out_qsize 0\n",
      "2020-08-14 21:06:19,540 : INFO : worker thread finished; awaiting finish of 7 more threads\n",
      "2020-08-14 21:06:19,544 : INFO : worker thread finished; awaiting finish of 6 more threads\n",
      "2020-08-14 21:06:19,545 : INFO : worker thread finished; awaiting finish of 5 more threads\n",
      "2020-08-14 21:06:19,545 : INFO : worker thread finished; awaiting finish of 4 more threads\n",
      "2020-08-14 21:06:19,571 : INFO : worker thread finished; awaiting finish of 3 more threads\n",
      "2020-08-14 21:06:19,575 : INFO : worker thread finished; awaiting finish of 2 more threads\n",
      "2020-08-14 21:06:19,586 : INFO : worker thread finished; awaiting finish of 1 more threads\n",
      "2020-08-14 21:06:19,600 : INFO : worker thread finished; awaiting finish of 0 more threads\n"
     ]
    },
    {
     "name": "stderr",
     "output_type": "stream",
     "text": [
      "2020-08-14 21:06:19,604 : INFO : EPOCH - 27 : training on 9227204 raw words (8223023 effective words) took 14.4s, 572645 effective words/s\n",
      "2020-08-14 21:06:20,645 : INFO : EPOCH 28 - PROGRESS: at 5.97% examples, 479130 words/s, in_qsize 14, out_qsize 1\n",
      "2020-08-14 21:06:21,687 : INFO : EPOCH 28 - PROGRESS: at 12.71% examples, 504279 words/s, in_qsize 15, out_qsize 0\n",
      "2020-08-14 21:06:22,691 : INFO : EPOCH 28 - PROGRESS: at 19.84% examples, 531398 words/s, in_qsize 14, out_qsize 1\n",
      "2020-08-14 21:06:23,712 : INFO : EPOCH 28 - PROGRESS: at 26.78% examples, 537793 words/s, in_qsize 16, out_qsize 0\n",
      "2020-08-14 21:06:24,731 : INFO : EPOCH 28 - PROGRESS: at 34.03% examples, 547483 words/s, in_qsize 14, out_qsize 1\n",
      "2020-08-14 21:06:25,745 : INFO : EPOCH 28 - PROGRESS: at 41.48% examples, 557068 words/s, in_qsize 14, out_qsize 1\n",
      "2020-08-14 21:06:26,758 : INFO : EPOCH 28 - PROGRESS: at 48.51% examples, 559302 words/s, in_qsize 15, out_qsize 1\n",
      "2020-08-14 21:06:27,781 : INFO : EPOCH 28 - PROGRESS: at 55.75% examples, 562246 words/s, in_qsize 15, out_qsize 0\n",
      "2020-08-14 21:06:28,806 : INFO : EPOCH 28 - PROGRESS: at 63.11% examples, 565468 words/s, in_qsize 14, out_qsize 1\n",
      "2020-08-14 21:06:29,805 : INFO : EPOCH 28 - PROGRESS: at 69.72% examples, 563298 words/s, in_qsize 15, out_qsize 3\n",
      "2020-08-14 21:06:30,811 : INFO : EPOCH 28 - PROGRESS: at 76.55% examples, 562844 words/s, in_qsize 15, out_qsize 0\n",
      "2020-08-14 21:06:31,826 : INFO : EPOCH 28 - PROGRESS: at 83.94% examples, 565643 words/s, in_qsize 15, out_qsize 0\n",
      "2020-08-14 21:06:32,853 : INFO : EPOCH 28 - PROGRESS: at 90.76% examples, 564161 words/s, in_qsize 15, out_qsize 0\n",
      "2020-08-14 21:06:33,856 : INFO : EPOCH 28 - PROGRESS: at 97.93% examples, 565790 words/s, in_qsize 15, out_qsize 0\n",
      "2020-08-14 21:06:34,019 : INFO : worker thread finished; awaiting finish of 7 more threads\n",
      "2020-08-14 21:06:34,022 : INFO : worker thread finished; awaiting finish of 6 more threads\n",
      "2020-08-14 21:06:34,026 : INFO : worker thread finished; awaiting finish of 5 more threads\n",
      "2020-08-14 21:06:34,034 : INFO : worker thread finished; awaiting finish of 4 more threads\n",
      "2020-08-14 21:06:34,042 : INFO : worker thread finished; awaiting finish of 3 more threads\n",
      "2020-08-14 21:06:34,076 : INFO : worker thread finished; awaiting finish of 2 more threads\n",
      "2020-08-14 21:06:34,079 : INFO : worker thread finished; awaiting finish of 1 more threads\n",
      "2020-08-14 21:06:34,082 : INFO : worker thread finished; awaiting finish of 0 more threads\n",
      "2020-08-14 21:06:34,086 : INFO : EPOCH - 28 : training on 9227204 raw words (8222939 effective words) took 14.5s, 568551 effective words/s\n",
      "2020-08-14 21:06:35,185 : INFO : EPOCH 29 - PROGRESS: at 6.51% examples, 503321 words/s, in_qsize 16, out_qsize 1\n",
      "2020-08-14 21:06:36,185 : INFO : EPOCH 29 - PROGRESS: at 14.11% examples, 561570 words/s, in_qsize 16, out_qsize 0\n",
      "2020-08-14 21:06:37,271 : INFO : EPOCH 29 - PROGRESS: at 20.49% examples, 534839 words/s, in_qsize 13, out_qsize 5\n",
      "2020-08-14 21:06:38,296 : INFO : EPOCH 29 - PROGRESS: at 27.96% examples, 550543 words/s, in_qsize 14, out_qsize 1\n",
      "2020-08-14 21:06:39,304 : INFO : EPOCH 29 - PROGRESS: at 34.89% examples, 553659 words/s, in_qsize 16, out_qsize 1\n",
      "2020-08-14 21:06:40,311 : INFO : EPOCH 29 - PROGRESS: at 41.48% examples, 551242 words/s, in_qsize 13, out_qsize 2\n",
      "2020-08-14 21:06:41,313 : INFO : EPOCH 29 - PROGRESS: at 48.62% examples, 556157 words/s, in_qsize 16, out_qsize 0\n",
      "2020-08-14 21:06:42,318 : INFO : EPOCH 29 - PROGRESS: at 55.32% examples, 555320 words/s, in_qsize 15, out_qsize 0\n",
      "2020-08-14 21:06:43,322 : INFO : EPOCH 29 - PROGRESS: at 62.25% examples, 556736 words/s, in_qsize 16, out_qsize 0\n",
      "2020-08-14 21:06:44,325 : INFO : EPOCH 29 - PROGRESS: at 69.07% examples, 557068 words/s, in_qsize 14, out_qsize 1\n",
      "2020-08-14 21:06:45,362 : INFO : EPOCH 29 - PROGRESS: at 76.44% examples, 559497 words/s, in_qsize 15, out_qsize 0\n",
      "2020-08-14 21:06:46,378 : INFO : EPOCH 29 - PROGRESS: at 83.83% examples, 562538 words/s, in_qsize 15, out_qsize 0\n",
      "2020-08-14 21:06:47,412 : INFO : EPOCH 29 - PROGRESS: at 91.42% examples, 565729 words/s, in_qsize 14, out_qsize 1\n",
      "2020-08-14 21:06:48,428 : INFO : EPOCH 29 - PROGRESS: at 98.47% examples, 566021 words/s, in_qsize 15, out_qsize 0\n",
      "2020-08-14 21:06:48,499 : INFO : worker thread finished; awaiting finish of 7 more threads\n",
      "2020-08-14 21:06:48,519 : INFO : worker thread finished; awaiting finish of 6 more threads\n",
      "2020-08-14 21:06:48,524 : INFO : worker thread finished; awaiting finish of 5 more threads\n",
      "2020-08-14 21:06:48,529 : INFO : worker thread finished; awaiting finish of 4 more threads\n",
      "2020-08-14 21:06:48,533 : INFO : worker thread finished; awaiting finish of 3 more threads\n",
      "2020-08-14 21:06:48,558 : INFO : worker thread finished; awaiting finish of 2 more threads\n",
      "2020-08-14 21:06:48,561 : INFO : worker thread finished; awaiting finish of 1 more threads\n",
      "2020-08-14 21:06:48,573 : INFO : worker thread finished; awaiting finish of 0 more threads\n",
      "2020-08-14 21:06:48,574 : INFO : EPOCH - 29 : training on 9227204 raw words (8222018 effective words) took 14.5s, 568960 effective words/s\n",
      "2020-08-14 21:06:49,623 : INFO : EPOCH 30 - PROGRESS: at 6.51% examples, 520405 words/s, in_qsize 16, out_qsize 0\n",
      "2020-08-14 21:06:50,641 : INFO : EPOCH 30 - PROGRESS: at 14.22% examples, 570050 words/s, in_qsize 14, out_qsize 1\n",
      "2020-08-14 21:06:51,644 : INFO : EPOCH 30 - PROGRESS: at 21.57% examples, 581352 words/s, in_qsize 15, out_qsize 0\n",
      "2020-08-14 21:06:52,650 : INFO : EPOCH 30 - PROGRESS: at 28.29% examples, 573343 words/s, in_qsize 16, out_qsize 0\n",
      "2020-08-14 21:06:53,669 : INFO : EPOCH 30 - PROGRESS: at 35.75% examples, 579641 words/s, in_qsize 15, out_qsize 0\n",
      "2020-08-14 21:06:54,717 : INFO : EPOCH 30 - PROGRESS: at 42.89% examples, 576446 words/s, in_qsize 16, out_qsize 0\n",
      "2020-08-14 21:06:55,745 : INFO : EPOCH 30 - PROGRESS: at 49.92% examples, 574430 words/s, in_qsize 15, out_qsize 0\n",
      "2020-08-14 21:06:56,748 : INFO : EPOCH 30 - PROGRESS: at 57.38% examples, 579303 words/s, in_qsize 16, out_qsize 0\n",
      "2020-08-14 21:06:57,753 : INFO : EPOCH 30 - PROGRESS: at 64.40% examples, 578766 words/s, in_qsize 15, out_qsize 0\n",
      "2020-08-14 21:06:58,785 : INFO : EPOCH 30 - PROGRESS: at 71.35% examples, 576255 words/s, in_qsize 15, out_qsize 2\n",
      "2020-08-14 21:06:59,790 : INFO : EPOCH 30 - PROGRESS: at 78.62% examples, 577648 words/s, in_qsize 15, out_qsize 0\n",
      "2020-08-14 21:07:00,813 : INFO : EPOCH 30 - PROGRESS: at 86.09% examples, 579632 words/s, in_qsize 15, out_qsize 0\n",
      "2020-08-14 21:07:01,819 : INFO : EPOCH 30 - PROGRESS: at 93.05% examples, 578665 words/s, in_qsize 14, out_qsize 1\n",
      "2020-08-14 21:07:02,639 : INFO : worker thread finished; awaiting finish of 7 more threads\n",
      "2020-08-14 21:07:02,648 : INFO : worker thread finished; awaiting finish of 6 more threads\n",
      "2020-08-14 21:07:02,648 : INFO : worker thread finished; awaiting finish of 5 more threads\n",
      "2020-08-14 21:07:02,682 : INFO : worker thread finished; awaiting finish of 4 more threads\n",
      "2020-08-14 21:07:02,686 : INFO : worker thread finished; awaiting finish of 3 more threads\n",
      "2020-08-14 21:07:02,691 : INFO : worker thread finished; awaiting finish of 2 more threads\n",
      "2020-08-14 21:07:02,691 : INFO : worker thread finished; awaiting finish of 1 more threads\n",
      "2020-08-14 21:07:02,708 : INFO : worker thread finished; awaiting finish of 0 more threads\n",
      "2020-08-14 21:07:02,710 : INFO : EPOCH - 30 : training on 9227204 raw words (8223177 effective words) took 14.1s, 582633 effective words/s\n",
      "2020-08-14 21:07:03,748 : INFO : EPOCH 31 - PROGRESS: at 5.75% examples, 463556 words/s, in_qsize 16, out_qsize 0\n",
      "2020-08-14 21:07:04,769 : INFO : EPOCH 31 - PROGRESS: at 12.28% examples, 494054 words/s, in_qsize 15, out_qsize 0\n",
      "2020-08-14 21:07:05,782 : INFO : EPOCH 31 - PROGRESS: at 19.51% examples, 525976 words/s, in_qsize 13, out_qsize 2\n",
      "2020-08-14 21:07:06,829 : INFO : EPOCH 31 - PROGRESS: at 26.78% examples, 537376 words/s, in_qsize 16, out_qsize 0\n",
      "2020-08-14 21:07:07,831 : INFO : EPOCH 31 - PROGRESS: at 33.81% examples, 545345 words/s, in_qsize 14, out_qsize 1\n",
      "2020-08-14 21:07:08,839 : INFO : EPOCH 31 - PROGRESS: at 39.65% examples, 533917 words/s, in_qsize 13, out_qsize 2\n",
      "2020-08-14 21:07:09,847 : INFO : EPOCH 31 - PROGRESS: at 47.10% examples, 544730 words/s, in_qsize 14, out_qsize 1\n"
     ]
    },
    {
     "name": "stderr",
     "output_type": "stream",
     "text": [
      "2020-08-14 21:07:10,877 : INFO : EPOCH 31 - PROGRESS: at 54.03% examples, 545791 words/s, in_qsize 15, out_qsize 2\n",
      "2020-08-14 21:07:11,904 : INFO : EPOCH 31 - PROGRESS: at 61.71% examples, 553742 words/s, in_qsize 15, out_qsize 0\n",
      "2020-08-14 21:07:12,949 : INFO : EPOCH 31 - PROGRESS: at 69.07% examples, 556456 words/s, in_qsize 16, out_qsize 1\n",
      "2020-08-14 21:07:13,977 : INFO : EPOCH 31 - PROGRESS: at 76.55% examples, 560215 words/s, in_qsize 15, out_qsize 0\n",
      "2020-08-14 21:07:14,995 : INFO : EPOCH 31 - PROGRESS: at 84.05% examples, 563825 words/s, in_qsize 15, out_qsize 0\n",
      "2020-08-14 21:07:15,996 : INFO : EPOCH 31 - PROGRESS: at 91.20% examples, 565480 words/s, in_qsize 15, out_qsize 0\n",
      "2020-08-14 21:07:17,030 : INFO : EPOCH 31 - PROGRESS: at 99.01% examples, 569413 words/s, in_qsize 10, out_qsize 0\n",
      "2020-08-14 21:07:17,069 : INFO : worker thread finished; awaiting finish of 7 more threads\n",
      "2020-08-14 21:07:17,073 : INFO : worker thread finished; awaiting finish of 6 more threads\n",
      "2020-08-14 21:07:17,077 : INFO : worker thread finished; awaiting finish of 5 more threads\n",
      "2020-08-14 21:07:17,099 : INFO : worker thread finished; awaiting finish of 4 more threads\n",
      "2020-08-14 21:07:17,103 : INFO : worker thread finished; awaiting finish of 3 more threads\n",
      "2020-08-14 21:07:17,112 : INFO : worker thread finished; awaiting finish of 2 more threads\n",
      "2020-08-14 21:07:17,124 : INFO : worker thread finished; awaiting finish of 1 more threads\n",
      "2020-08-14 21:07:17,139 : INFO : worker thread finished; awaiting finish of 0 more threads\n",
      "2020-08-14 21:07:17,139 : INFO : EPOCH - 31 : training on 9227204 raw words (8223541 effective words) took 14.4s, 570758 effective words/s\n",
      "2020-08-14 21:07:18,173 : INFO : EPOCH 32 - PROGRESS: at 6.29% examples, 511755 words/s, in_qsize 14, out_qsize 1\n",
      "2020-08-14 21:07:19,177 : INFO : EPOCH 32 - PROGRESS: at 13.47% examples, 548503 words/s, in_qsize 15, out_qsize 0\n",
      "2020-08-14 21:07:20,198 : INFO : EPOCH 32 - PROGRESS: at 20.81% examples, 563462 words/s, in_qsize 13, out_qsize 2\n",
      "2020-08-14 21:07:21,209 : INFO : EPOCH 32 - PROGRESS: at 28.18% examples, 572330 words/s, in_qsize 15, out_qsize 0\n",
      "2020-08-14 21:07:22,214 : INFO : EPOCH 32 - PROGRESS: at 35.00% examples, 569724 words/s, in_qsize 14, out_qsize 1\n",
      "2020-08-14 21:07:23,250 : INFO : EPOCH 32 - PROGRESS: at 42.46% examples, 573777 words/s, in_qsize 15, out_qsize 0\n",
      "2020-08-14 21:07:24,268 : INFO : EPOCH 32 - PROGRESS: at 49.59% examples, 574205 words/s, in_qsize 13, out_qsize 2\n",
      "2020-08-14 21:07:25,294 : INFO : EPOCH 32 - PROGRESS: at 56.84% examples, 575133 words/s, in_qsize 15, out_qsize 0\n",
      "2020-08-14 21:07:26,303 : INFO : EPOCH 32 - PROGRESS: at 63.97% examples, 576154 words/s, in_qsize 15, out_qsize 0\n",
      "2020-08-14 21:07:27,325 : INFO : EPOCH 32 - PROGRESS: at 70.91% examples, 574260 words/s, in_qsize 15, out_qsize 0\n",
      "2020-08-14 21:07:28,356 : INFO : EPOCH 32 - PROGRESS: at 77.96% examples, 573103 words/s, in_qsize 13, out_qsize 2\n",
      "2020-08-14 21:07:29,369 : INFO : EPOCH 32 - PROGRESS: at 85.23% examples, 574317 words/s, in_qsize 13, out_qsize 2\n",
      "2020-08-14 21:07:30,416 : INFO : EPOCH 32 - PROGRESS: at 92.94% examples, 576697 words/s, in_qsize 15, out_qsize 0\n",
      "2020-08-14 21:07:31,247 : INFO : worker thread finished; awaiting finish of 7 more threads\n",
      "2020-08-14 21:07:31,252 : INFO : worker thread finished; awaiting finish of 6 more threads\n",
      "2020-08-14 21:07:31,259 : INFO : worker thread finished; awaiting finish of 5 more threads\n",
      "2020-08-14 21:07:31,262 : INFO : worker thread finished; awaiting finish of 4 more threads\n",
      "2020-08-14 21:07:31,280 : INFO : worker thread finished; awaiting finish of 3 more threads\n",
      "2020-08-14 21:07:31,291 : INFO : worker thread finished; awaiting finish of 2 more threads\n",
      "2020-08-14 21:07:31,298 : INFO : worker thread finished; awaiting finish of 1 more threads\n",
      "2020-08-14 21:07:31,313 : INFO : worker thread finished; awaiting finish of 0 more threads\n",
      "2020-08-14 21:07:31,313 : INFO : EPOCH - 32 : training on 9227204 raw words (8222409 effective words) took 14.2s, 581046 effective words/s\n",
      "2020-08-14 21:07:31,317 : INFO : training on a 295270528 raw words (263124962 effective words) took 462.8s, 568508 effective words/s\n"
     ]
    },
    {
     "name": "stdout",
     "output_type": "stream",
     "text": [
      "Wall time: 7min 42s\n"
     ]
    },
    {
     "data": {
      "text/plain": [
       "(263124962, 295270528)"
      ]
     },
     "execution_count": 17,
     "metadata": {},
     "output_type": "execute_result"
    }
   ],
   "source": [
    "%%time\n",
    "w2v_model.train(documents, total_examples=len(documents), epochs=W2V_EPOCH)"
   ]
  },
  {
   "cell_type": "code",
   "execution_count": 18,
   "metadata": {},
   "outputs": [
    {
     "name": "stderr",
     "output_type": "stream",
     "text": [
      "c:\\users\\yoges\\pycharmprojects\\tweetsenti\\venv\\lib\\site-packages\\ipykernel_launcher.py:1: DeprecationWarning: Call to deprecated `most_similar` (Method will be removed in 4.0.0, use self.wv.most_similar() instead).\n",
      "  \"\"\"Entry point for launching an IPython kernel.\n",
      "2020-08-14 21:07:31,340 : INFO : precomputing L2-norms of word weight vectors\n"
     ]
    },
    {
     "data": {
      "text/plain": [
       "[('fantastic', 0.7283889651298523),\n",
       " ('wonderful', 0.6922730803489685),\n",
       " ('good', 0.6920604705810547),\n",
       " ('awesome', 0.6836432218551636),\n",
       " ('amazing', 0.642839789390564),\n",
       " ('fabulous', 0.6038628816604614),\n",
       " ('excellent', 0.59214186668396),\n",
       " ('fab', 0.5837719440460205),\n",
       " ('nice', 0.5666813850402832),\n",
       " ('gr8', 0.5599476099014282)]"
      ]
     },
     "execution_count": 18,
     "metadata": {},
     "output_type": "execute_result"
    }
   ],
   "source": [
    "w2v_model.most_similar(\"great\")"
   ]
  },
  {
   "cell_type": "markdown",
   "metadata": {},
   "source": [
    "Tokenize Text"
   ]
  },
  {
   "cell_type": "code",
   "execution_count": 19,
   "metadata": {},
   "outputs": [
    {
     "name": "stdout",
     "output_type": "stream",
     "text": [
      "Total words 290419\n",
      "Wall time: 33.1 s\n"
     ]
    }
   ],
   "source": [
    "%%time\n",
    "tokenizer = Tokenizer()\n",
    "tokenizer.fit_on_texts(df_train.text)\n",
    "\n",
    "vocab_size = len(tokenizer.word_index) + 1\n",
    "print(\"Total words\", vocab_size)"
   ]
  },
  {
   "cell_type": "code",
   "execution_count": 20,
   "metadata": {},
   "outputs": [
    {
     "name": "stdout",
     "output_type": "stream",
     "text": [
      "Wall time: 49.7 s\n"
     ]
    }
   ],
   "source": [
    "%%time\n",
    "x_train = pad_sequences(tokenizer.texts_to_sequences(df_train.text), maxlen=SEQUENCE_LENGTH)\n",
    "x_test = pad_sequences(tokenizer.texts_to_sequences(df_test.text), maxlen=SEQUENCE_LENGTH)"
   ]
  },
  {
   "cell_type": "markdown",
   "metadata": {},
   "source": [
    "Label Encoder"
   ]
  },
  {
   "cell_type": "code",
   "execution_count": 21,
   "metadata": {},
   "outputs": [
    {
     "data": {
      "text/plain": [
       "['POSITIVE', 'NEGATIVE', 'NEUTRAL']"
      ]
     },
     "execution_count": 21,
     "metadata": {},
     "output_type": "execute_result"
    }
   ],
   "source": [
    "labels = df_train.target.unique().tolist()\n",
    "labels.append(NEUTRAL)\n",
    "labels"
   ]
  },
  {
   "cell_type": "code",
   "execution_count": 22,
   "metadata": {},
   "outputs": [
    {
     "name": "stdout",
     "output_type": "stream",
     "text": [
      "y_train (1280000, 1)\n",
      "y_test (320000, 1)\n"
     ]
    }
   ],
   "source": [
    "encoder = LabelEncoder()\n",
    "encoder.fit(df_train.target.tolist())\n",
    "\n",
    "y_train = encoder.transform(df_train.target.tolist())\n",
    "y_test = encoder.transform(df_test.target.tolist())\n",
    "\n",
    "y_train = y_train.reshape(-1,1)\n",
    "y_test = y_test.reshape(-1,1)\n",
    "\n",
    "print(\"y_train\",y_train.shape)\n",
    "print(\"y_test\",y_test.shape)"
   ]
  },
  {
   "cell_type": "code",
   "execution_count": 23,
   "metadata": {},
   "outputs": [
    {
     "name": "stdout",
     "output_type": "stream",
     "text": [
      "x_train (1280000, 300)\n",
      "y_train (1280000, 1)\n",
      "\n",
      "x_test (320000, 300)\n",
      "y_test (320000, 1)\n"
     ]
    }
   ],
   "source": [
    "print(\"x_train\", x_train.shape)\n",
    "print(\"y_train\", y_train.shape)\n",
    "print()\n",
    "print(\"x_test\", x_test.shape)\n",
    "print(\"y_test\", y_test.shape)"
   ]
  },
  {
   "cell_type": "code",
   "execution_count": 24,
   "metadata": {},
   "outputs": [
    {
     "data": {
      "text/plain": [
       "array([[1],\n",
       "       [1],\n",
       "       [1],\n",
       "       [0],\n",
       "       [1],\n",
       "       [1],\n",
       "       [1],\n",
       "       [1],\n",
       "       [1],\n",
       "       [1]], dtype=int64)"
      ]
     },
     "execution_count": 24,
     "metadata": {},
     "output_type": "execute_result"
    }
   ],
   "source": [
    "y_train[:10]"
   ]
  },
  {
   "cell_type": "markdown",
   "metadata": {},
   "source": [
    "Embedding Layer"
   ]
  },
  {
   "cell_type": "code",
   "execution_count": 25,
   "metadata": {},
   "outputs": [
    {
     "name": "stdout",
     "output_type": "stream",
     "text": [
      "(290419, 300)\n"
     ]
    }
   ],
   "source": [
    "embedding_matrix = np.zeros((vocab_size, W2V_SIZE))\n",
    "for word, i in tokenizer.word_index.items():\n",
    "  if word in w2v_model.wv:\n",
    "    embedding_matrix[i] = w2v_model.wv[word]\n",
    "print(embedding_matrix.shape)"
   ]
  },
  {
   "cell_type": "code",
   "execution_count": 26,
   "metadata": {},
   "outputs": [],
   "source": [
    "embedding_layer = Embedding(vocab_size, W2V_SIZE, weights=[embedding_matrix], input_length=SEQUENCE_LENGTH, trainable=False)"
   ]
  },
  {
   "cell_type": "markdown",
   "metadata": {},
   "source": [
    "Build Model"
   ]
  },
  {
   "cell_type": "code",
   "execution_count": 27,
   "metadata": {},
   "outputs": [
    {
     "name": "stdout",
     "output_type": "stream",
     "text": [
      "Model: \"sequential\"\n",
      "_________________________________________________________________\n",
      "Layer (type)                 Output Shape              Param #   \n",
      "=================================================================\n",
      "embedding (Embedding)        (None, 300, 300)          87125700  \n",
      "_________________________________________________________________\n",
      "dropout (Dropout)            (None, 300, 300)          0         \n",
      "_________________________________________________________________\n",
      "lstm (LSTM)                  (None, 100)               160400    \n",
      "_________________________________________________________________\n",
      "dense (Dense)                (None, 1)                 101       \n",
      "=================================================================\n",
      "Total params: 87,286,201\n",
      "Trainable params: 160,501\n",
      "Non-trainable params: 87,125,700\n",
      "_________________________________________________________________\n"
     ]
    }
   ],
   "source": [
    "model = Sequential()\n",
    "model.add(embedding_layer)\n",
    "model.add(Dropout(0.5))\n",
    "model.add(LSTM(100, dropout=0.2, recurrent_dropout=0.2))\n",
    "model.add(Dense(1, activation='sigmoid'))\n",
    "\n",
    "model.summary()"
   ]
  },
  {
   "cell_type": "markdown",
   "metadata": {},
   "source": [
    "Compile Model"
   ]
  },
  {
   "cell_type": "code",
   "execution_count": 28,
   "metadata": {},
   "outputs": [],
   "source": [
    "model.compile(loss='binary_crossentropy',\n",
    "              optimizer=\"adam\",\n",
    "              metrics=['accuracy'])"
   ]
  },
  {
   "cell_type": "markdown",
   "metadata": {},
   "source": [
    "Callbacks"
   ]
  },
  {
   "cell_type": "code",
   "execution_count": 29,
   "metadata": {},
   "outputs": [],
   "source": [
    "callbacks = [ReduceLROnPlateau(monitor='val_loss', patience=5, cooldown=0),\n",
    "              EarlyStopping(monitor='val_acc', min_delta=1e-4, patience=5)]"
   ]
  },
  {
   "cell_type": "markdown",
   "metadata": {},
   "source": [
    "Training"
   ]
  },
  {
   "cell_type": "code",
   "execution_count": 33,
   "metadata": {},
   "outputs": [
    {
     "name": "stdout",
     "output_type": "stream",
     "text": [
      "141/141 [==============================] - ETA: 0s - loss: 0.5328 - accuracy: 0.7290  WARNING:tensorflow:Early stopping conditioned on metric `val_acc` which is not available. Available metrics are: loss,accuracy,val_loss,val_accuracy,lr\n"
     ]
    },
    {
     "name": "stderr",
     "output_type": "stream",
     "text": [
      "2020-08-15 03:35:35,721 : WARNING : Early stopping conditioned on metric `val_acc` which is not available. Available metrics are: loss,accuracy,val_loss,val_accuracy,lr\n"
     ]
    },
    {
     "name": "stdout",
     "output_type": "stream",
     "text": [
      "141/141 [==============================] - 22388s 159s/step - loss: 0.5328 - accuracy: 0.7290 - val_loss: 0.4797 - val_accuracy: 0.7719\n",
      "Wall time: 6h 15min 24s\n"
     ]
    }
   ],
   "source": [
    "%%time\n",
    "history = model.fit(x_train, y_train,\n",
    "                    batch_size=BATCH_SIZE,\n",
    "                    epochs=EPOCHS,\n",
    "                    validation_split=0.1,\n",
    "                    verbose=1,\n",
    "                    callbacks=callbacks)"
   ]
  },
  {
   "cell_type": "markdown",
   "metadata": {},
   "source": [
    "Evaluate"
   ]
  },
  {
   "cell_type": "code",
   "execution_count": 34,
   "metadata": {},
   "outputs": [
    {
     "name": "stdout",
     "output_type": "stream",
     "text": [
      "40/40 [==============================] - 520s 13s/step - loss: 0.4779 - accuracy: 0.7730\n",
      "\n",
      "ACCURACY: 0.7729718685150146\n",
      "LOSS: 0.4779494106769562\n",
      "Wall time: 8min 53s\n"
     ]
    }
   ],
   "source": [
    "%%time\n",
    "score = model.evaluate(x_test, y_test, batch_size=BATCH_SIZE)\n",
    "print()\n",
    "print(\"ACCURACY:\",score[1])\n",
    "print(\"LOSS:\",score[0])"
   ]
  },
  {
   "cell_type": "markdown",
   "metadata": {},
   "source": [
    "Predictions"
   ]
  },
  {
   "cell_type": "code",
   "execution_count": 41,
   "metadata": {},
   "outputs": [],
   "source": [
    "def decode_sentiment(score, include_neutral=True):\n",
    "    if include_neutral:\n",
    "        label = NEUTRAL\n",
    "        if score <= 0.5:\n",
    "            label = NEGATIVE\n",
    "        elif score >= 0.7:\n",
    "            label = POSITIVE\n",
    "\n",
    "        return label\n",
    "    else:\n",
    "        return NEGATIVE if score < 0.5 else POSITIVE"
   ]
  },
  {
   "cell_type": "code",
   "execution_count": 42,
   "metadata": {},
   "outputs": [],
   "source": [
    "def predict(text, include_neutral=True):\n",
    "    start_at = time.time()\n",
    "    # Tokenize text\n",
    "    x_test = pad_sequences(tokenizer.texts_to_sequences([text]), maxlen=SEQUENCE_LENGTH)\n",
    "    # Predict\n",
    "    score = model.predict([x_test])[0]\n",
    "    # Decode sentiment\n",
    "    label = decode_sentiment(score, include_neutral=include_neutral)\n",
    "\n",
    "    return {\"label\": label, \"score\": float(score),\n",
    "       \"elapsed_time\": time.time()-start_at}"
   ]
  },
  {
   "cell_type": "code",
   "execution_count": 43,
   "metadata": {
    "pycharm": {
     "name": "#%%\n"
    }
   },
   "outputs": [
    {
     "data": {
      "text/plain": [
       "{'label': 'POSITIVE',\n",
       " 'score': 0.9713596105575562,\n",
       " 'elapsed_time': 0.3393123149871826}"
      ]
     },
     "execution_count": 43,
     "metadata": {},
     "output_type": "execute_result"
    }
   ],
   "source": [
    "predict(\"He's a fantastic cricketer\")"
   ]
  },
  {
   "cell_type": "code",
   "execution_count": 44,
   "metadata": {
    "pycharm": {
     "name": "#%%\n"
    }
   },
   "outputs": [
    {
     "data": {
      "text/plain": [
       "{'label': 'NEGATIVE',\n",
       " 'score': 0.06422555446624756,\n",
       " 'elapsed_time': 0.07338833808898926}"
      ]
     },
     "execution_count": 44,
     "metadata": {},
     "output_type": "execute_result"
    }
   ],
   "source": [
    "predict(\"I hate seafood\")"
   ]
  },
  {
   "cell_type": "code",
   "execution_count": 45,
   "metadata": {
    "pycharm": {
     "name": "#%%\n"
    }
   },
   "outputs": [
    {
     "data": {
      "text/plain": [
       "{'label': 'NEUTRAL',\n",
       " 'score': 0.6015421748161316,\n",
       " 'elapsed_time': 0.06263923645019531}"
      ]
     },
     "execution_count": 45,
     "metadata": {},
     "output_type": "execute_result"
    }
   ],
   "source": [
    "predict(\"It is a fish\")"
   ]
  },
  {
   "cell_type": "markdown",
   "metadata": {},
   "source": [
    "Confusion Matrix"
   ]
  },
  {
   "cell_type": "code",
   "execution_count": 46,
   "metadata": {
    "pycharm": {
     "name": "#%%\n"
    }
   },
   "outputs": [
    {
     "name": "stdout",
     "output_type": "stream",
     "text": [
      "40/40 [==============================] - 503s 13s/step\n",
      "Wall time: 8min 33s\n"
     ]
    }
   ],
   "source": [
    "%%time\n",
    "y_pred_1d = []\n",
    "y_test_1d = list(df_test.target)\n",
    "scores = model.predict(x_test, verbose=1, batch_size=8000)\n",
    "y_pred_1d = [decode_sentiment(score, include_neutral=False) for score in scores]"
   ]
  },
  {
   "cell_type": "code",
   "execution_count": 47,
   "metadata": {
    "pycharm": {
     "name": "#%%\n"
    }
   },
   "outputs": [],
   "source": [
    "def plot_confusion_matrix(cm, classes,\n",
    "                          title='Confusion matrix',\n",
    "                          cmap=plt.cm.Blues):\n",
    "    cm = cm.astype('float') / cm.sum(axis=1)[:, np.newaxis]\n",
    "\n",
    "    plt.imshow(cm, interpolation='nearest', cmap=cmap)\n",
    "    plt.title(title, fontsize=30)\n",
    "    plt.colorbar()\n",
    "    tick_marks = np.arange(len(classes))\n",
    "    plt.xticks(tick_marks, classes, rotation=90, fontsize=22)\n",
    "    plt.yticks(tick_marks, classes, fontsize=22)\n",
    "\n",
    "    fmt = '.2f'\n",
    "    thresh = cm.max() / 2.\n",
    "    for i, j in itertools.product(range(cm.shape[0]), range(cm.shape[1])):\n",
    "        plt.text(j, i, format(cm[i, j], fmt),\n",
    "                 horizontalalignment=\"center\",\n",
    "                 color=\"white\" if cm[i, j] > thresh else \"black\")\n",
    "\n",
    "    plt.ylabel('True label', fontsize=25)\n",
    "    plt.xlabel('Predicted label', fontsize=25)"
   ]
  },
  {
   "cell_type": "code",
   "execution_count": 48,
   "metadata": {
    "pycharm": {
     "name": "#%%\n"
    }
   },
   "outputs": [
    {
     "data": {
      "image/png": "[encoded data removed]",
      "text/plain": [
       "<Figure size 864x864 with 2 Axes>"
      ]
     },
     "metadata": {
      "needs_background": "light"
     },
     "output_type": "display_data"
    },
    {
     "name": "stdout",
     "output_type": "stream",
     "text": [
      "Wall time: 2.82 s\n"
     ]
    }
   ],
   "source": [
    "%%time\n",
    "\n",
    "cnf_matrix = confusion_matrix(y_test_1d, y_pred_1d)\n",
    "plt.figure(figsize=(12,12))\n",
    "plot_confusion_matrix(cnf_matrix, classes=df_train.target.unique(), title=\"Confusion matrix\")\n",
    "plt.show()"
   ]
  },
  {
   "cell_type": "markdown",
   "metadata": {},
   "source": [
    "Classification Report"
   ]
  },
  {
   "cell_type": "code",
   "execution_count": 49,
   "metadata": {
    "pycharm": {
     "name": "#%%\n"
    }
   },
   "outputs": [
    {
     "name": "stdout",
     "output_type": "stream",
     "text": [
      "              precision    recall  f1-score   support\n",
      "\n",
      "    NEGATIVE       0.78      0.76      0.77    159494\n",
      "    POSITIVE       0.77      0.78      0.78    160506\n",
      "\n",
      "    accuracy                           0.77    320000\n",
      "   macro avg       0.77      0.77      0.77    320000\n",
      "weighted avg       0.77      0.77      0.77    320000\n",
      "\n"
     ]
    }
   ],
   "source": [
    "print(classification_report(y_test_1d, y_pred_1d))"
   ]
  },
  {
   "cell_type": "markdown",
   "metadata": {},
   "source": [
    "Accuracy"
   ]
  },
  {
   "cell_type": "code",
   "execution_count": 50,
   "metadata": {
    "pycharm": {
     "name": "#%%\n"
    }
   },
   "outputs": [
    {
     "data": {
      "text/plain": [
       "0.772971875"
      ]
     },
     "execution_count": 50,
     "metadata": {},
     "output_type": "execute_result"
    }
   ],
   "source": [
    "accuracy_score(y_test_1d, y_pred_1d)"
   ]
  },
  {
   "cell_type": "code",
   "execution_count": null,
   "metadata": {
    "pycharm": {
     "name": "#%%\n"
    }
   },
   "outputs": [],
   "source": [
    "Save Model"
   ]
  },
  {
   "cell_type": "code",
   "execution_count": 51,
   "metadata": {
    "pycharm": {
     "name": "#%%\n"
    }
   },
   "outputs": [
    {
     "name": "stderr",
     "output_type": "stream",
     "text": [
      "2020-08-15 03:59:57,659 : INFO : saving Word2Vec object under word2vec_model.w2v, separately None\n",
      "2020-08-15 03:59:57,667 : INFO : not storing attribute vectors_norm\n",
      "2020-08-15 03:59:57,669 : INFO : not storing attribute cum_table\n",
      "2020-08-15 04:00:01,306 : INFO : saved word2vec_model.w2v\n"
     ]
    }
   ],
   "source": [
    "model.save(KERAS_MODEL)\n",
    "w2v_model.save(WORD2VEC_MODEL)\n",
    "pickle.dump(tokenizer, open(TOKENIZER_MODEL, \"wb\"), protocol=0)\n",
    "pickle.dump(encoder, open(ENCODER_MODEL, \"wb\"), protocol=0)"
   ]
  }
 ],
 "metadata": {
  "kernelspec": {
   "display_name": "Python 3",
   "language": "python",
   "name": "python3"
  },
  "language_info": {
   "codemirror_mode": {
    "name": "ipython",
    "version": 3
   },
   "file_extension": ".py",
   "mimetype": "text/x-python",
   "name": "python",
   "nbconvert_exporter": "python",
   "pygments_lexer": "ipython3",
   "version": "3.7.7"
  }
 },
 "nbformat": 4,
 "nbformat_minor": 1
}
